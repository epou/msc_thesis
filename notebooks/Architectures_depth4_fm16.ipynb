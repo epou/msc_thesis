{
 "cells": [
  {
   "cell_type": "markdown",
   "metadata": {},
   "source": [
    "# Testing the architectures designed: depth 4, inital feature maps 16"
   ]
  },
  {
   "cell_type": "markdown",
   "metadata": {},
   "source": [
    "The goal of this notebook is to evaluate the architectures designed according as has been explained in the methodology section. To do so, the same workbench will be used to train and evaluate them under the same circumstances. As explained in the report, each architecture will be trained using both MSE and SSIM loss functions."
   ]
  },
  {
   "cell_type": "markdown",
   "metadata": {},
   "source": [
    "### (Previous preparation)"
   ]
  },
  {
   "cell_type": "code",
   "execution_count": 1,
   "metadata": {},
   "outputs": [],
   "source": [
    "import os\n",
    "import sys\n",
    "module_path = os.path.abspath(os.path.join('..'))\n",
    "if module_path not in sys.path:\n",
    "    sys.path.append(module_path)"
   ]
  },
  {
   "cell_type": "markdown",
   "metadata": {},
   "source": [
    "## Importing packages"
   ]
  },
  {
   "cell_type": "code",
   "execution_count": 2,
   "metadata": {},
   "outputs": [],
   "source": [
    "from src.helpers import load_experiment_workbench, use_gpu\n",
    "from src.models import AutoEncoder\n",
    "from src.models.autoencoder.modules.encoders.models import SimpleEncoder, ResnetEncoderv1, ResnetEncoderv2\n",
    "from src.trainer.metrics import psnr, ssim\n",
    "from src.trainer.losses import ssim as ssim_loss\n",
    "\n",
    "from tensorflow.keras import layers"
   ]
  },
  {
   "cell_type": "markdown",
   "metadata": {},
   "source": [
    "#### Enabling GPU"
   ]
  },
  {
   "cell_type": "code",
   "execution_count": 3,
   "metadata": {},
   "outputs": [
    {
     "name": "stdout",
     "output_type": "stream",
     "text": [
      "1 Physical GPUs, 1 Logical GPUs\n"
     ]
    }
   ],
   "source": [
    "use_gpu(True)"
   ]
  },
  {
   "cell_type": "markdown",
   "metadata": {},
   "source": [
    "### Creating a new workbench"
   ]
  },
  {
   "cell_type": "code",
   "execution_count": 4,
   "metadata": {},
   "outputs": [
    {
     "name": "stdout",
     "output_type": "stream",
     "text": [
      "Found 26305 validated image filenames.\n",
      "Found 26305 validated image filenames.\n",
      "Found 5573 validated image filenames.\n",
      "Found 5573 validated image filenames.\n",
      "Found 8039 validated image filenames.\n",
      "Found 8039 validated image filenames.\n"
     ]
    }
   ],
   "source": [
    "workbench = load_experiment_workbench(\"architectures_desgined_16fm\")"
   ]
  },
  {
   "cell_type": "markdown",
   "metadata": {},
   "source": [
    "### Define metrics"
   ]
  },
  {
   "cell_type": "code",
   "execution_count": 5,
   "metadata": {},
   "outputs": [],
   "source": [
    "metrics = [\n",
    "    \"mean_squared_error\",\n",
    "    psnr,\n",
    "    ssim\n",
    "]"
   ]
  },
  {
   "cell_type": "markdown",
   "metadata": {},
   "source": [
    "## Architectures"
   ]
  },
  {
   "cell_type": "markdown",
   "metadata": {},
   "source": [
    "### AutoEncoder (AE)"
   ]
  },
  {
   "cell_type": "markdown",
   "metadata": {},
   "source": [
    "#### Loss function: MSE"
   ]
  },
  {
   "cell_type": "code",
   "execution_count": 6,
   "metadata": {},
   "outputs": [],
   "source": [
    "ae_mse_model = AutoEncoder(\n",
    "    encoder=SimpleEncoder(depth=4, feature_maps=16),\n",
    "    name=\"ae_mse\",\n",
    ")(input_shape=workbench.image_shape)"
   ]
  },
  {
   "cell_type": "code",
   "execution_count": 7,
   "metadata": {},
   "outputs": [
    {
     "name": "stdout",
     "output_type": "stream",
     "text": [
      "WARNING:tensorflow:sample_weight modes were coerced from\n",
      "  ...\n",
      "    to  \n",
      "  ['...']\n",
      "WARNING:tensorflow:sample_weight modes were coerced from\n",
      "  ...\n",
      "    to  \n",
      "  ['...']\n",
      "Train for 1644 steps, validate for 348 steps\n",
      "Epoch 1/30\n",
      "1644/1644 [==============================] - 247s 150ms/step - loss: 0.0063 - mean_squared_error: 0.0063 - psnr: 23.0834 - ssim: 0.5020 - val_loss: 0.0051 - val_mean_squared_error: 0.0051 - val_psnr: 23.2607 - val_ssim: 0.5382\n",
      "Epoch 2/30\n",
      "1644/1644 [==============================] - 243s 148ms/step - loss: 0.0031 - mean_squared_error: 0.0031 - psnr: 25.4911 - ssim: 0.7099 - val_loss: 0.0061 - val_mean_squared_error: 0.0061 - val_psnr: 22.6758 - val_ssim: 0.6135\n",
      "Epoch 3/30\n",
      "1644/1644 [==============================] - 243s 148ms/step - loss: 0.0025 - mean_squared_error: 0.0025 - psnr: 26.4460 - ssim: 0.7906 - val_loss: 0.0024 - val_mean_squared_error: 0.0024 - val_psnr: 26.6398 - val_ssim: 0.8008\n",
      "Epoch 4/30\n",
      "1644/1644 [==============================] - 243s 148ms/step - loss: 0.0022 - mean_squared_error: 0.0022 - psnr: 27.0259 - ssim: 0.8288 - val_loss: 0.0032 - val_mean_squared_error: 0.0032 - val_psnr: 25.3296 - val_ssim: 0.8102\n",
      "Epoch 5/30\n",
      "1644/1644 [==============================] - 244s 148ms/step - loss: 0.0020 - mean_squared_error: 0.0020 - psnr: 27.3849 - ssim: 0.8451 - val_loss: 0.0020 - val_mean_squared_error: 0.0020 - val_psnr: 27.3857 - val_ssim: 0.8409\n",
      "Epoch 6/30\n",
      "1644/1644 [==============================] - 244s 148ms/step - loss: 0.0019 - mean_squared_error: 0.0019 - psnr: 27.6791 - ssim: 0.8554 - val_loss: 0.0020 - val_mean_squared_error: 0.0020 - val_psnr: 27.4352 - val_ssim: 0.8421\n",
      "Epoch 7/30\n",
      "1643/1644 [============================>.] - ETA: 0s - loss: 0.0018 - mean_squared_error: 0.0018 - psnr: 27.8983 - ssim: 0.8615\n",
      "Epoch 00007: ReduceLROnPlateau reducing learning rate to 0.00020000000949949026.\n",
      "1644/1644 [==============================] - 243s 148ms/step - loss: 0.0018 - mean_squared_error: 0.0018 - psnr: 27.8987 - ssim: 0.8615 - val_loss: 0.0019 - val_mean_squared_error: 0.0019 - val_psnr: 27.5625 - val_ssim: 0.8654\n",
      "Epoch 8/30\n",
      "1644/1644 [==============================] - 244s 148ms/step - loss: 0.0016 - mean_squared_error: 0.0016 - psnr: 28.3467 - ssim: 0.8690 - val_loss: 0.0016 - val_mean_squared_error: 0.0016 - val_psnr: 28.3220 - val_ssim: 0.8638\n",
      "Epoch 9/30\n",
      "1644/1644 [==============================] - 244s 148ms/step - loss: 0.0016 - mean_squared_error: 0.0016 - psnr: 28.3742 - ssim: 0.8698 - val_loss: 0.0017 - val_mean_squared_error: 0.0017 - val_psnr: 28.2024 - val_ssim: 0.8647\n",
      "Epoch 10/30\n",
      "1643/1644 [============================>.] - ETA: 0s - loss: 0.0016 - mean_squared_error: 0.0016 - psnr: 28.4711 - ssim: 0.8716\n",
      "Epoch 00010: ReduceLROnPlateau reducing learning rate to 4.0000001899898055e-05.\n",
      "1644/1644 [==============================] - 244s 148ms/step - loss: 0.0016 - mean_squared_error: 0.0016 - psnr: 28.4711 - ssim: 0.8716 - val_loss: 0.0016 - val_mean_squared_error: 0.0016 - val_psnr: 28.3721 - val_ssim: 0.8693\n",
      "Epoch 11/30\n",
      "1644/1644 [==============================] - 245s 149ms/step - loss: 0.0015 - mean_squared_error: 0.0015 - psnr: 28.6028 - ssim: 0.8730 - val_loss: 0.0016 - val_mean_squared_error: 0.0016 - val_psnr: 28.4283 - val_ssim: 0.8713\n",
      "Epoch 12/30\n",
      "1644/1644 [==============================] - 244s 149ms/step - loss: 0.0015 - mean_squared_error: 0.0015 - psnr: 28.6377 - ssim: 0.8733 - val_loss: 0.0015 - val_mean_squared_error: 0.0015 - val_psnr: 28.6147 - val_ssim: 0.8725\n",
      "Epoch 13/30\n",
      "1644/1644 [==============================] - 244s 149ms/step - loss: 0.0015 - mean_squared_error: 0.0015 - psnr: 28.6589 - ssim: 0.8741 - val_loss: 0.0015 - val_mean_squared_error: 0.0015 - val_psnr: 28.6478 - val_ssim: 0.8746\n",
      "Epoch 14/30\n",
      "1643/1644 [============================>.] - ETA: 0s - loss: 0.0015 - mean_squared_error: 0.0015 - psnr: 28.6671 - ssim: 0.8738\n",
      "Epoch 00014: ReduceLROnPlateau reducing learning rate to 8.000000525498762e-06.\n",
      "1644/1644 [==============================] - 244s 148ms/step - loss: 0.0015 - mean_squared_error: 0.0015 - psnr: 28.6670 - ssim: 0.8738 - val_loss: 0.0015 - val_mean_squared_error: 0.0015 - val_psnr: 28.6506 - val_ssim: 0.8724\n",
      "Epoch 15/30\n",
      "1644/1644 [==============================] - 244s 149ms/step - loss: 0.0015 - mean_squared_error: 0.0015 - psnr: 28.7002 - ssim: 0.8743 - val_loss: 0.0015 - val_mean_squared_error: 0.0015 - val_psnr: 28.6687 - val_ssim: 0.8743\n",
      "Epoch 16/30\n",
      "1643/1644 [============================>.] - ETA: 0s - loss: 0.0015 - mean_squared_error: 0.0015 - psnr: 28.7008 - ssim: 0.8743\n",
      "Epoch 00016: ReduceLROnPlateau reducing learning rate to 1.6000001778593287e-06.\n",
      "1644/1644 [==============================] - 244s 149ms/step - loss: 0.0015 - mean_squared_error: 0.0015 - psnr: 28.7006 - ssim: 0.8743 - val_loss: 0.0015 - val_mean_squared_error: 0.0015 - val_psnr: 28.6849 - val_ssim: 0.8743\n",
      "Epoch 17/30\n",
      "1644/1644 [==============================] - 244s 149ms/step - loss: 0.0015 - mean_squared_error: 0.0015 - psnr: 28.7017 - ssim: 0.8743 - val_loss: 0.0015 - val_mean_squared_error: 0.0015 - val_psnr: 28.6384 - val_ssim: 0.8737\n",
      "Epoch 18/30\n",
      "1643/1644 [============================>.] - ETA: 0s - loss: 0.0015 - mean_squared_error: 0.0015 - psnr: 28.7072 - ssim: 0.8742\n",
      "Epoch 00018: ReduceLROnPlateau reducing learning rate to 3.200000264769187e-07.\n",
      "1644/1644 [==============================] - 244s 149ms/step - loss: 0.0015 - mean_squared_error: 0.0015 - psnr: 28.7071 - ssim: 0.8742 - val_loss: 0.0015 - val_mean_squared_error: 0.0015 - val_psnr: 28.7017 - val_ssim: 0.8738\n",
      "Epoch 19/30\n",
      "1644/1644 [==============================] - 244s 149ms/step - loss: 0.0015 - mean_squared_error: 0.0015 - psnr: 28.7177 - ssim: 0.8745 - val_loss: 0.0015 - val_mean_squared_error: 0.0015 - val_psnr: 28.6477 - val_ssim: 0.8740\n",
      "Epoch 20/30\n",
      "1643/1644 [============================>.] - ETA: 0s - loss: 0.0015 - mean_squared_error: 0.0015 - psnr: 28.7015 - ssim: 0.8743\n",
      "Epoch 00020: ReduceLROnPlateau reducing learning rate to 6.400000529538374e-08.\n",
      "1644/1644 [==============================] - 244s 149ms/step - loss: 0.0015 - mean_squared_error: 0.0015 - psnr: 28.7011 - ssim: 0.8743 - val_loss: 0.0015 - val_mean_squared_error: 0.0015 - val_psnr: 28.7006 - val_ssim: 0.8742\n",
      "Epoch 21/30\n",
      "1644/1644 [==============================] - 244s 149ms/step - loss: 0.0015 - mean_squared_error: 0.0015 - psnr: 28.7117 - ssim: 0.8743 - val_loss: 0.0015 - val_mean_squared_error: 0.0015 - val_psnr: 28.6566 - val_ssim: 0.8733\n",
      "Epoch 22/30\n",
      "1643/1644 [============================>.] - ETA: 0s - loss: 0.0015 - mean_squared_error: 0.0015 - psnr: 28.7077 - ssim: 0.8744\n",
      "Epoch 00022: ReduceLROnPlateau reducing learning rate to 1.2800001059076749e-08.\n",
      "1644/1644 [==============================] - 244s 149ms/step - loss: 0.0015 - mean_squared_error: 0.0015 - psnr: 28.7079 - ssim: 0.8744 - val_loss: 0.0015 - val_mean_squared_error: 0.0015 - val_psnr: 28.6750 - val_ssim: 0.8733\n",
      "Epoch 23/30\n",
      "1643/1644 [============================>.] - ETA: 0s - loss: 0.0015 - mean_squared_error: 0.0015 - psnr: 28.7090 - ssim: 0.8744Restoring model weights from the end of the best epoch.\n",
      "1644/1644 [==============================] - 244s 149ms/step - loss: 0.0015 - mean_squared_error: 0.0015 - psnr: 28.7091 - ssim: 0.8744 - val_loss: 0.0015 - val_mean_squared_error: 0.0015 - val_psnr: 28.6766 - val_ssim: 0.8742\n",
      "Epoch 00023: early stopping\n",
      "##############################\n",
      "              PSNR         SSIM\n",
      "count  8039.000000  8039.000000\n",
      "mean     28.780749     0.875969\n",
      "std       2.072039     0.026973\n",
      "min      20.476267     0.714698\n",
      "25%      27.601357     0.863320\n",
      "50%      28.499214     0.877734\n",
      "75%      29.914191     0.891073\n",
      "max      35.898705     0.937743\n",
      "##############################\n"
     ]
    }
   ],
   "source": [
    "ae_mse_model.compile(loss='mean_squared_error', optimizer = 'adam', metrics=metrics)\n",
    "ae_mse_fitted = workbench.run(model=ae_mse_model, epochs=30)"
   ]
  },
  {
   "cell_type": "markdown",
   "metadata": {},
   "source": [
    "#### Loss function: SSIM"
   ]
  },
  {
   "cell_type": "code",
   "execution_count": 8,
   "metadata": {},
   "outputs": [],
   "source": [
    "ae_ssim_model = AutoEncoder(\n",
    "    encoder=SimpleEncoder(depth=4, feature_maps=16),\n",
    "    name=\"ae_ssim\",\n",
    ")(input_shape=workbench.image_shape)"
   ]
  },
  {
   "cell_type": "code",
   "execution_count": 9,
   "metadata": {},
   "outputs": [
    {
     "name": "stdout",
     "output_type": "stream",
     "text": [
      "WARNING:tensorflow:sample_weight modes were coerced from\n",
      "  ...\n",
      "    to  \n",
      "  ['...']\n",
      "WARNING:tensorflow:sample_weight modes were coerced from\n",
      "  ...\n",
      "    to  \n",
      "  ['...']\n",
      "Train for 1644 steps, validate for 348 steps\n",
      "Epoch 1/30\n",
      "1644/1644 [==============================] - 254s 154ms/step - loss: 0.2046 - mean_squared_error: 0.0225 - psnr: 21.4219 - ssim: 0.7954 - val_loss: 0.1491 - val_mean_squared_error: 0.0037 - val_psnr: 25.1664 - val_ssim: 0.8509\n",
      "Epoch 2/30\n",
      "1644/1644 [==============================] - 252s 153ms/step - loss: 0.1386 - mean_squared_error: 0.0062 - psnr: 23.2299 - ssim: 0.8615 - val_loss: 0.1590 - val_mean_squared_error: 0.0055 - val_psnr: 23.5885 - val_ssim: 0.8410\n",
      "Epoch 3/30\n",
      "1643/1644 [============================>.] - ETA: 0s - loss: 0.1193 - mean_squared_error: 0.0047 - psnr: 23.9436 - ssim: 0.8807\n",
      "Epoch 00003: ReduceLROnPlateau reducing learning rate to 0.00020000000949949026.\n",
      "1644/1644 [==============================] - 252s 153ms/step - loss: 0.1194 - mean_squared_error: 0.0047 - psnr: 23.9435 - ssim: 0.8807 - val_loss: 0.1606 - val_mean_squared_error: 0.0042 - val_psnr: 24.4724 - val_ssim: 0.8394\n",
      "Epoch 4/30\n",
      "1644/1644 [==============================] - 252s 153ms/step - loss: 0.1059 - mean_squared_error: 0.0033 - psnr: 25.2707 - ssim: 0.8941 - val_loss: 0.1074 - val_mean_squared_error: 0.0032 - val_psnr: 25.4859 - val_ssim: 0.8926\n",
      "Epoch 5/30\n",
      "1644/1644 [==============================] - 252s 153ms/step - loss: 0.1035 - mean_squared_error: 0.0030 - psnr: 25.8623 - ssim: 0.8965 - val_loss: 0.1068 - val_mean_squared_error: 0.0028 - val_psnr: 26.4084 - val_ssim: 0.8932\n",
      "Epoch 6/30\n",
      "1644/1644 [==============================] - 252s 153ms/step - loss: 0.1013 - mean_squared_error: 0.0027 - psnr: 26.2947 - ssim: 0.8987 - val_loss: 0.1098 - val_mean_squared_error: 0.0030 - val_psnr: 25.7487 - val_ssim: 0.8902\n",
      "Epoch 7/30\n",
      "1643/1644 [============================>.] - ETA: 0s - loss: 0.0992 - mean_squared_error: 0.0026 - psnr: 26.6057 - ssim: 0.9008\n",
      "Epoch 00007: ReduceLROnPlateau reducing learning rate to 4.0000001899898055e-05.\n",
      "1644/1644 [==============================] - 254s 154ms/step - loss: 0.0992 - mean_squared_error: 0.0026 - psnr: 26.6062 - ssim: 0.9008 - val_loss: 0.1074 - val_mean_squared_error: 0.0025 - val_psnr: 26.7310 - val_ssim: 0.8926\n",
      "Epoch 8/30\n",
      "1644/1644 [==============================] - 255s 155ms/step - loss: 0.0967 - mean_squared_error: 0.0024 - psnr: 26.9215 - ssim: 0.9033 - val_loss: 0.0978 - val_mean_squared_error: 0.0023 - val_psnr: 27.0942 - val_ssim: 0.9022\n",
      "Epoch 9/30\n",
      "1644/1644 [==============================] - 256s 155ms/step - loss: 0.0965 - mean_squared_error: 0.0023 - psnr: 26.9768 - ssim: 0.9035 - val_loss: 0.0974 - val_mean_squared_error: 0.0022 - val_psnr: 27.2504 - val_ssim: 0.9026\n",
      "Epoch 10/30\n",
      "1644/1644 [==============================] - 255s 155ms/step - loss: 0.0962 - mean_squared_error: 0.0023 - psnr: 27.0151 - ssim: 0.9039 - val_loss: 0.0970 - val_mean_squared_error: 0.0022 - val_psnr: 27.2333 - val_ssim: 0.9030\n",
      "Epoch 11/30\n",
      "1644/1644 [==============================] - 256s 156ms/step - loss: 0.0957 - mean_squared_error: 0.0023 - psnr: 27.0600 - ssim: 0.9043 - val_loss: 0.0973 - val_mean_squared_error: 0.0022 - val_psnr: 27.1543 - val_ssim: 0.9027\n",
      "Epoch 12/30\n",
      "1643/1644 [============================>.] - ETA: 0s - loss: 0.0953 - mean_squared_error: 0.0023 - psnr: 27.0885 - ssim: 0.9047\n",
      "Epoch 00012: ReduceLROnPlateau reducing learning rate to 8.000000525498762e-06.\n",
      "1644/1644 [==============================] - 256s 156ms/step - loss: 0.0953 - mean_squared_error: 0.0023 - psnr: 27.0883 - ssim: 0.9047 - val_loss: 0.0970 - val_mean_squared_error: 0.0023 - val_psnr: 26.9209 - val_ssim: 0.9030\n",
      "Epoch 13/30\n",
      "1644/1644 [==============================] - 256s 156ms/step - loss: 0.0950 - mean_squared_error: 0.0022 - psnr: 27.1702 - ssim: 0.9050 - val_loss: 0.0959 - val_mean_squared_error: 0.0021 - val_psnr: 27.3575 - val_ssim: 0.9041\n",
      "Epoch 14/30\n",
      "1644/1644 [==============================] - 256s 156ms/step - loss: 0.0948 - mean_squared_error: 0.0022 - psnr: 27.1716 - ssim: 0.9052 - val_loss: 0.0961 - val_mean_squared_error: 0.0021 - val_psnr: 27.4103 - val_ssim: 0.9039\n",
      "Epoch 15/30\n",
      "1643/1644 [============================>.] - ETA: 0s - loss: 0.0947 - mean_squared_error: 0.0022 - psnr: 27.1743 - ssim: 0.9053\n",
      "Epoch 00015: ReduceLROnPlateau reducing learning rate to 1.6000001778593287e-06.\n",
      "1644/1644 [==============================] - 256s 156ms/step - loss: 0.0947 - mean_squared_error: 0.0022 - psnr: 27.1743 - ssim: 0.9053 - val_loss: 0.0963 - val_mean_squared_error: 0.0021 - val_psnr: 27.3457 - val_ssim: 0.9037\n",
      "Epoch 16/30\n",
      "1644/1644 [==============================] - 256s 156ms/step - loss: 0.0945 - mean_squared_error: 0.0022 - psnr: 27.1821 - ssim: 0.9055 - val_loss: 0.0956 - val_mean_squared_error: 0.0021 - val_psnr: 27.3514 - val_ssim: 0.9044\n",
      "Epoch 17/30\n",
      "1644/1644 [==============================] - 256s 156ms/step - loss: 0.0946 - mean_squared_error: 0.0022 - psnr: 27.1868 - ssim: 0.9054 - val_loss: 0.0949 - val_mean_squared_error: 0.0021 - val_psnr: 27.3862 - val_ssim: 0.9051\n",
      "Epoch 18/30\n",
      "1644/1644 [==============================] - 256s 156ms/step - loss: 0.0946 - mean_squared_error: 0.0022 - psnr: 27.1903 - ssim: 0.9054 - val_loss: 0.0956 - val_mean_squared_error: 0.0021 - val_psnr: 27.3337 - val_ssim: 0.9045\n",
      "Epoch 19/30\n",
      "1643/1644 [============================>.] - ETA: 0s - loss: 0.0944 - mean_squared_error: 0.0022 - psnr: 27.2072 - ssim: 0.9056\n",
      "Epoch 00019: ReduceLROnPlateau reducing learning rate to 3.200000264769187e-07.\n",
      "1644/1644 [==============================] - 256s 156ms/step - loss: 0.0944 - mean_squared_error: 0.0022 - psnr: 27.2075 - ssim: 0.9056 - val_loss: 0.0959 - val_mean_squared_error: 0.0021 - val_psnr: 27.3239 - val_ssim: 0.9041\n",
      "Epoch 20/30\n",
      "1643/1644 [============================>.] - ETA: 0s - loss: 0.0943 - mean_squared_error: 0.0022 - psnr: 27.2034 - ssim: 0.9057Restoring model weights from the end of the best epoch.\n",
      "1644/1644 [==============================] - 256s 156ms/step - loss: 0.0943 - mean_squared_error: 0.0022 - psnr: 27.2029 - ssim: 0.9057 - val_loss: 0.0959 - val_mean_squared_error: 0.0022 - val_psnr: 27.3124 - val_ssim: 0.9041\n",
      "Epoch 00020: early stopping\n",
      "##############################\n",
      "              PSNR         SSIM\n",
      "count  8039.000000  8039.000000\n",
      "mean     27.392380     0.905845\n",
      "std       2.579543     0.026410\n",
      "min      14.778830     0.672310\n",
      "25%      25.703001     0.893799\n",
      "50%      26.652676     0.908539\n",
      "75%      29.253095     0.922239\n",
      "max      35.702782     0.963238\n",
      "##############################\n"
     ]
    }
   ],
   "source": [
    "ae_ssim_model.compile(loss=ssim_loss, optimizer = 'adam', metrics=metrics)\n",
    "ae_ssim_fitted = workbench.run(model=ae_ssim_model, epochs=30)"
   ]
  },
  {
   "cell_type": "markdown",
   "metadata": {},
   "source": [
    "### AE + Skippend Long Connections (AE+sLC)"
   ]
  },
  {
   "cell_type": "markdown",
   "metadata": {},
   "source": [
    "#### Loss function: MSE"
   ]
  },
  {
   "cell_type": "code",
   "execution_count": 10,
   "metadata": {},
   "outputs": [],
   "source": [
    "ae_slc_mse_model = AutoEncoder(\n",
    "    encoder=SimpleEncoder(depth=4, feature_maps=16),\n",
    "    name=\"ae_slc_mse\",\n",
    "    skip_long_connections_function=layers.add\n",
    ")(input_shape=workbench.image_shape)"
   ]
  },
  {
   "cell_type": "code",
   "execution_count": 11,
   "metadata": {},
   "outputs": [
    {
     "name": "stdout",
     "output_type": "stream",
     "text": [
      "WARNING:tensorflow:sample_weight modes were coerced from\n",
      "  ...\n",
      "    to  \n",
      "  ['...']\n",
      "WARNING:tensorflow:sample_weight modes were coerced from\n",
      "  ...\n",
      "    to  \n",
      "  ['...']\n",
      "Train for 1644 steps, validate for 348 steps\n",
      "Epoch 1/30\n",
      "1644/1644 [==============================] - 253s 154ms/step - loss: 0.0027 - mean_squared_error: 0.0027 - psnr: 29.0210 - ssim: 0.7399 - val_loss: 0.0010 - val_mean_squared_error: 0.0010 - val_psnr: 31.3675 - val_ssim: 0.8669\n",
      "Epoch 2/30\n",
      "1644/1644 [==============================] - 251s 153ms/step - loss: 9.4111e-04 - mean_squared_error: 9.4073e-04 - psnr: 32.4140 - ssim: 0.8967 - val_loss: 8.9864e-04 - val_mean_squared_error: 8.9872e-04 - val_psnr: 33.4866 - val_ssim: 0.9164\n",
      "Epoch 3/30\n",
      "1644/1644 [==============================] - 251s 153ms/step - loss: 8.2888e-04 - mean_squared_error: 8.2735e-04 - psnr: 33.1611 - ssim: 0.9310 - val_loss: 7.8477e-04 - val_mean_squared_error: 7.8537e-04 - val_psnr: 33.2010 - val_ssim: 0.9491\n",
      "Epoch 4/30\n",
      "1644/1644 [==============================] - 251s 153ms/step - loss: 7.8625e-04 - mean_squared_error: 7.8578e-04 - psnr: 33.6179 - ssim: 0.9390 - val_loss: 0.0012 - val_mean_squared_error: 0.0012 - val_psnr: 30.2488 - val_ssim: 0.9069\n",
      "Epoch 5/30\n",
      "1644/1644 [==============================] - 251s 153ms/step - loss: 6.9977e-04 - mean_squared_error: 6.9862e-04 - psnr: 34.2582 - ssim: 0.9489 - val_loss: 5.6291e-04 - val_mean_squared_error: 5.6330e-04 - val_psnr: 35.6323 - val_ssim: 0.9554\n",
      "Epoch 6/30\n",
      "1644/1644 [==============================] - 251s 153ms/step - loss: 6.5210e-04 - mean_squared_error: 6.5207e-04 - psnr: 34.7544 - ssim: 0.9524 - val_loss: 6.4706e-04 - val_mean_squared_error: 6.4659e-04 - val_psnr: 34.9878 - val_ssim: 0.9473\n",
      "Epoch 7/30\n",
      "1643/1644 [============================>.] - ETA: 0s - loss: 6.1636e-04 - mean_squared_error: 6.1619e-04 - psnr: 35.0274 - ssim: 0.9548\n",
      "Epoch 00007: ReduceLROnPlateau reducing learning rate to 0.00020000000949949026.\n",
      "1644/1644 [==============================] - 251s 153ms/step - loss: 6.1622e-04 - mean_squared_error: 6.1605e-04 - psnr: 35.0288 - ssim: 0.9549 - val_loss: 6.1933e-04 - val_mean_squared_error: 6.1832e-04 - val_psnr: 36.2053 - val_ssim: 0.9536\n",
      "Epoch 8/30\n",
      "1644/1644 [==============================] - 252s 154ms/step - loss: 5.4070e-04 - mean_squared_error: 5.4071e-04 - psnr: 35.8216 - ssim: 0.9574 - val_loss: 4.8541e-04 - val_mean_squared_error: 4.8572e-04 - val_psnr: 37.2589 - val_ssim: 0.9500\n",
      "Epoch 9/30\n",
      "1643/1644 [============================>.] - ETA: 0s - loss: 5.1308e-04 - mean_squared_error: 5.1062e-04 - psnr: 36.2147 - ssim: 0.9582\n",
      "Epoch 00009: ReduceLROnPlateau reducing learning rate to 4.0000001899898055e-05.\n",
      "1644/1644 [==============================] - 253s 154ms/step - loss: 5.1312e-04 - mean_squared_error: 5.1066e-04 - psnr: 36.2144 - ssim: 0.9582 - val_loss: 4.8042e-04 - val_mean_squared_error: 4.8130e-04 - val_psnr: 37.2994 - val_ssim: 0.9541\n",
      "Epoch 10/30\n",
      "1644/1644 [==============================] - 252s 153ms/step - loss: 4.9563e-04 - mean_squared_error: 4.9584e-04 - psnr: 36.5449 - ssim: 0.9582 - val_loss: 4.4162e-04 - val_mean_squared_error: 4.4159e-04 - val_psnr: 37.7437 - val_ssim: 0.9585\n",
      "Epoch 11/30\n",
      "1644/1644 [==============================] - 252s 153ms/step - loss: 4.8498e-04 - mean_squared_error: 4.8508e-04 - psnr: 36.5887 - ssim: 0.9579 - val_loss: 4.5526e-04 - val_mean_squared_error: 4.5568e-04 - val_psnr: 37.6809 - val_ssim: 0.9583\n",
      "Epoch 12/30\n",
      "1643/1644 [============================>.] - ETA: 0s - loss: 4.8145e-04 - mean_squared_error: 4.8095e-04 - psnr: 36.7229 - ssim: 0.9590\n",
      "Epoch 00012: ReduceLROnPlateau reducing learning rate to 8.000000525498762e-06.\n",
      "1644/1644 [==============================] - 252s 153ms/step - loss: 4.8129e-04 - mean_squared_error: 4.8079e-04 - psnr: 36.7257 - ssim: 0.9590 - val_loss: 4.6864e-04 - val_mean_squared_error: 4.6864e-04 - val_psnr: 37.8565 - val_ssim: 0.9590\n",
      "Epoch 13/30\n",
      "1643/1644 [============================>.] - ETA: 0s - loss: 4.7303e-04 - mean_squared_error: 4.7252e-04 - psnr: 36.8366 - ssim: 0.9593Restoring model weights from the end of the best epoch.\n",
      "1644/1644 [==============================] - 252s 153ms/step - loss: 4.7311e-04 - mean_squared_error: 4.7260e-04 - psnr: 36.8370 - ssim: 0.9593 - val_loss: 4.5038e-04 - val_mean_squared_error: 4.5078e-04 - val_psnr: 37.8895 - val_ssim: 0.9606\n",
      "Epoch 00013: early stopping\n",
      "##############################\n",
      "              PSNR         SSIM\n",
      "count  8039.000000  8039.000000\n",
      "mean     37.616642     0.958842\n",
      "std       6.282031     0.030979\n",
      "min      19.500912     0.781237\n",
      "25%      31.649642     0.943720\n",
      "50%      39.195137     0.972136\n",
      "75%      43.801453     0.980873\n",
      "max      46.850021     0.991866\n",
      "##############################\n"
     ]
    }
   ],
   "source": [
    "ae_slc_mse_model.compile(loss='mean_squared_error', optimizer = 'adam', metrics=metrics)\n",
    "ae_slc_mse_fitted = workbench.run(model=ae_slc_mse_model, epochs=30)"
   ]
  },
  {
   "cell_type": "markdown",
   "metadata": {},
   "source": [
    "#### Loss function: SSIM"
   ]
  },
  {
   "cell_type": "code",
   "execution_count": 12,
   "metadata": {},
   "outputs": [],
   "source": [
    "ae_slc_ssim_model = AutoEncoder(\n",
    "    encoder=SimpleEncoder(depth=4, feature_maps=16),\n",
    "    name=\"ae_slc_ssim\",\n",
    "    skip_long_connections_function=layers.add\n",
    ")(input_shape=workbench.image_shape)"
   ]
  },
  {
   "cell_type": "code",
   "execution_count": 13,
   "metadata": {},
   "outputs": [
    {
     "name": "stdout",
     "output_type": "stream",
     "text": [
      "WARNING:tensorflow:sample_weight modes were coerced from\n",
      "  ...\n",
      "    to  \n",
      "  ['...']\n",
      "WARNING:tensorflow:sample_weight modes were coerced from\n",
      "  ...\n",
      "    to  \n",
      "  ['...']\n",
      "Train for 1644 steps, validate for 348 steps\n",
      "Epoch 1/30\n",
      "1644/1644 [==============================] - 264s 160ms/step - loss: 0.0771 - mean_squared_error: 0.0194 - psnr: 25.9752 - ssim: 0.9229 - val_loss: 0.0567 - val_mean_squared_error: 0.0026 - val_psnr: 31.7261 - val_ssim: 0.9433\n",
      "Epoch 2/30\n",
      "1644/1644 [==============================] - 262s 159ms/step - loss: 0.0366 - mean_squared_error: 0.0015 - psnr: 32.2372 - ssim: 0.9635 - val_loss: 0.0410 - val_mean_squared_error: 9.8708e-04 - val_psnr: 34.6587 - val_ssim: 0.9589\n",
      "Epoch 3/30\n",
      "1644/1644 [==============================] - 262s 159ms/step - loss: 0.0324 - mean_squared_error: 0.0010 - psnr: 33.1836 - ssim: 0.9676 - val_loss: 0.1191 - val_mean_squared_error: 0.0055 - val_psnr: 24.3661 - val_ssim: 0.8809\n",
      "Epoch 4/30\n",
      "1644/1644 [==============================] - 262s 159ms/step - loss: 0.0309 - mean_squared_error: 9.1296e-04 - psnr: 33.7750 - ssim: 0.9691 - val_loss: 0.0293 - val_mean_squared_error: 7.0188e-04 - val_psnr: 36.2112 - val_ssim: 0.9707\n",
      "Epoch 5/30\n",
      "1644/1644 [==============================] - 262s 159ms/step - loss: 0.0287 - mean_squared_error: 8.6032e-04 - psnr: 34.0658 - ssim: 0.9714 - val_loss: 0.1344 - val_mean_squared_error: 0.0018 - val_psnr: 33.9376 - val_ssim: 0.8656\n",
      "Epoch 6/30\n",
      "1644/1644 [==============================] - 262s 159ms/step - loss: 0.0273 - mean_squared_error: 8.0885e-04 - psnr: 34.3063 - ssim: 0.9727 - val_loss: 0.0263 - val_mean_squared_error: 7.6604e-04 - val_psnr: 36.5743 - val_ssim: 0.9737\n",
      "Epoch 7/30\n",
      "1644/1644 [==============================] - 262s 159ms/step - loss: 0.0259 - mean_squared_error: 7.5824e-04 - psnr: 34.6811 - ssim: 0.9741 - val_loss: 0.0438 - val_mean_squared_error: 0.0014 - val_psnr: 33.7837 - val_ssim: 0.9562\n",
      "Epoch 8/30\n",
      "1643/1644 [============================>.] - ETA: 0s - loss: 0.0250 - mean_squared_error: 7.3217e-04 - psnr: 34.8950 - ssim: 0.9751\n",
      "Epoch 00008: ReduceLROnPlateau reducing learning rate to 0.00020000000949949026.\n",
      "1644/1644 [==============================] - 262s 159ms/step - loss: 0.0250 - mean_squared_error: 7.3203e-04 - psnr: 34.8956 - ssim: 0.9751 - val_loss: 0.0286 - val_mean_squared_error: 9.1729e-04 - val_psnr: 36.2319 - val_ssim: 0.9714\n",
      "Epoch 9/30\n",
      "1643/1644 [============================>.] - ETA: 0s - loss: 0.0222 - mean_squared_error: 6.0959e-04 - psnr: 35.8683 - ssim: 0.9778Restoring model weights from the end of the best epoch.\n",
      "1644/1644 [==============================] - 262s 159ms/step - loss: 0.0222 - mean_squared_error: 6.0959e-04 - psnr: 35.8682 - ssim: 0.9778 - val_loss: 0.0317 - val_mean_squared_error: 8.2054e-04 - val_psnr: 37.3377 - val_ssim: 0.9684\n",
      "Epoch 00009: early stopping\n",
      "##############################\n",
      "              PSNR         SSIM\n",
      "count  8039.000000  8039.000000\n",
      "mean     36.623885     0.974035\n",
      "std       7.106879     0.034523\n",
      "min      14.550858     0.739732\n",
      "25%      30.073759     0.958736\n",
      "50%      38.908192     0.993430\n",
      "75%      42.370037     0.997644\n",
      "max      49.801781     0.998996\n",
      "##############################\n"
     ]
    }
   ],
   "source": [
    "ae_slc_ssim_model.compile(loss=ssim_loss, optimizer = 'adam', metrics=metrics)\n",
    "ae_slc_ssim_fitted = workbench.run(model=ae_slc_ssim_model, epochs=30)"
   ]
  },
  {
   "cell_type": "markdown",
   "metadata": {},
   "source": [
    "### AE + Residual block (RB)"
   ]
  },
  {
   "cell_type": "markdown",
   "metadata": {},
   "source": [
    "#### Loss function: MSE"
   ]
  },
  {
   "cell_type": "code",
   "execution_count": 6,
   "metadata": {},
   "outputs": [],
   "source": [
    "ae_rb_mse_model = AutoEncoder(\n",
    "    encoder=ResnetEncoderv1(nb_list=[3,4,2], feature_maps=16),\n",
    "    name=\"ae_rb_mse\",\n",
    ")(input_shape=workbench.image_shape)"
   ]
  },
  {
   "cell_type": "code",
   "execution_count": 7,
   "metadata": {},
   "outputs": [
    {
     "name": "stdout",
     "output_type": "stream",
     "text": [
      "WARNING:tensorflow:sample_weight modes were coerced from\n",
      "  ...\n",
      "    to  \n",
      "  ['...']\n",
      "WARNING:tensorflow:sample_weight modes were coerced from\n",
      "  ...\n",
      "    to  \n",
      "  ['...']\n",
      "Train for 1644 steps, validate for 348 steps\n",
      "Epoch 1/30\n",
      "1644/1644 [==============================] - 363s 221ms/step - loss: 0.0050 - mean_squared_error: 0.0050 - psnr: 24.2646 - ssim: 0.5664 - val_loss: 0.0028 - val_mean_squared_error: 0.0028 - val_psnr: 25.9637 - val_ssim: 0.6898\n",
      "Epoch 2/30\n",
      "1644/1644 [==============================] - 359s 218ms/step - loss: 0.0021 - mean_squared_error: 0.0021 - psnr: 27.1518 - ssim: 0.7965 - val_loss: 0.0021 - val_mean_squared_error: 0.0021 - val_psnr: 27.2979 - val_ssim: 0.7664\n",
      "Epoch 3/30\n",
      "1644/1644 [==============================] - 359s 218ms/step - loss: 0.0016 - mean_squared_error: 0.0016 - psnr: 28.3609 - ssim: 0.8620 - val_loss: 0.0016 - val_mean_squared_error: 0.0016 - val_psnr: 28.4010 - val_ssim: 0.8610\n",
      "Epoch 4/30\n",
      "1644/1644 [==============================] - 359s 218ms/step - loss: 0.0014 - mean_squared_error: 0.0014 - psnr: 29.1122 - ssim: 0.8902 - val_loss: 0.0016 - val_mean_squared_error: 0.0016 - val_psnr: 28.5655 - val_ssim: 0.8933\n",
      "Epoch 5/30\n",
      "1644/1644 [==============================] - 359s 218ms/step - loss: 0.0013 - mean_squared_error: 0.0013 - psnr: 29.6696 - ssim: 0.9044 - val_loss: 0.0012 - val_mean_squared_error: 0.0012 - val_psnr: 29.6216 - val_ssim: 0.9050\n",
      "Epoch 6/30\n",
      "1644/1644 [==============================] - 359s 218ms/step - loss: 0.0011 - mean_squared_error: 0.0011 - psnr: 30.1874 - ssim: 0.9143 - val_loss: 0.0013 - val_mean_squared_error: 0.0013 - val_psnr: 29.4589 - val_ssim: 0.9199\n",
      "Epoch 7/30\n",
      "1643/1644 [============================>.] - ETA: 0s - loss: 0.0011 - mean_squared_error: 0.0011 - psnr: 30.4805 - ssim: 0.9198\n",
      "Epoch 00007: ReduceLROnPlateau reducing learning rate to 0.00020000000949949026.\n",
      "1644/1644 [==============================] - 359s 218ms/step - loss: 0.0011 - mean_squared_error: 0.0011 - psnr: 30.4813 - ssim: 0.9198 - val_loss: 0.0012 - val_mean_squared_error: 0.0012 - val_psnr: 29.5646 - val_ssim: 0.8982\n",
      "Epoch 8/30\n",
      "1644/1644 [==============================] - 359s 218ms/step - loss: 9.2065e-04 - mean_squared_error: 9.2021e-04 - psnr: 31.2239 - ssim: 0.9273 - val_loss: 9.3705e-04 - val_mean_squared_error: 9.3674e-04 - val_psnr: 31.1248 - val_ssim: 0.9219\n",
      "Epoch 9/30\n",
      "1644/1644 [==============================] - 359s 218ms/step - loss: 9.0736e-04 - mean_squared_error: 9.0560e-04 - psnr: 31.2901 - ssim: 0.9293 - val_loss: 8.7890e-04 - val_mean_squared_error: 8.7838e-04 - val_psnr: 31.4542 - val_ssim: 0.9231\n",
      "Epoch 10/30\n",
      "1643/1644 [============================>.] - ETA: 0s - loss: 8.7848e-04 - mean_squared_error: 8.7818e-04 - psnr: 31.4483 - ssim: 0.9314\n",
      "Epoch 00010: ReduceLROnPlateau reducing learning rate to 4.0000001899898055e-05.\n",
      "1644/1644 [==============================] - 359s 218ms/step - loss: 8.7848e-04 - mean_squared_error: 8.7818e-04 - psnr: 31.4482 - ssim: 0.9314 - val_loss: 8.5858e-04 - val_mean_squared_error: 8.5840e-04 - val_psnr: 31.4868 - val_ssim: 0.9291\n",
      "Epoch 11/30\n",
      "1644/1644 [==============================] - 359s 218ms/step - loss: 8.4786e-04 - mean_squared_error: 8.4605e-04 - psnr: 31.6424 - ssim: 0.9333 - val_loss: 8.7140e-04 - val_mean_squared_error: 8.7190e-04 - val_psnr: 31.4475 - val_ssim: 0.9337\n",
      "Epoch 12/30\n",
      "1644/1644 [==============================] - 359s 218ms/step - loss: 8.4252e-04 - mean_squared_error: 8.4261e-04 - psnr: 31.6843 - ssim: 0.9335 - val_loss: 8.2040e-04 - val_mean_squared_error: 8.1949e-04 - val_psnr: 31.7693 - val_ssim: 0.9335\n",
      "Epoch 13/30\n",
      "1644/1644 [==============================] - 359s 218ms/step - loss: 8.3338e-04 - mean_squared_error: 8.3342e-04 - psnr: 31.7050 - ssim: 0.9341 - val_loss: 8.4130e-04 - val_mean_squared_error: 8.4155e-04 - val_psnr: 31.6279 - val_ssim: 0.9310\n",
      "Epoch 14/30\n",
      "1643/1644 [============================>.] - ETA: 0s - loss: 8.3201e-04 - mean_squared_error: 8.3083e-04 - psnr: 31.7301 - ssim: 0.9343\n",
      "Epoch 00014: ReduceLROnPlateau reducing learning rate to 8.000000525498762e-06.\n",
      "1644/1644 [==============================] - 359s 218ms/step - loss: 8.3200e-04 - mean_squared_error: 8.3082e-04 - psnr: 31.7300 - ssim: 0.9343 - val_loss: 8.1146e-04 - val_mean_squared_error: 8.1193e-04 - val_psnr: 31.8403 - val_ssim: 0.9313\n",
      "Epoch 15/30\n",
      "1644/1644 [==============================] - 359s 218ms/step - loss: 8.2122e-04 - mean_squared_error: 8.2084e-04 - psnr: 31.7822 - ssim: 0.9348 - val_loss: 7.9706e-04 - val_mean_squared_error: 7.9732e-04 - val_psnr: 31.9145 - val_ssim: 0.9345\n",
      "Epoch 16/30\n",
      "1643/1644 [============================>.] - ETA: 0s - loss: 8.1886e-04 - mean_squared_error: 8.1846e-04 - psnr: 31.8028 - ssim: 0.9350\n",
      "Epoch 00016: ReduceLROnPlateau reducing learning rate to 1.6000001778593287e-06.\n",
      "1644/1644 [==============================] - 359s 218ms/step - loss: 8.1892e-04 - mean_squared_error: 8.1853e-04 - psnr: 31.8024 - ssim: 0.9350 - val_loss: 8.0752e-04 - val_mean_squared_error: 8.0830e-04 - val_psnr: 31.8899 - val_ssim: 0.9350\n",
      "Epoch 17/30\n",
      "1644/1644 [==============================] - 359s 218ms/step - loss: 8.2053e-04 - mean_squared_error: 8.1896e-04 - psnr: 31.8090 - ssim: 0.9349 - val_loss: 8.0429e-04 - val_mean_squared_error: 8.0398e-04 - val_psnr: 31.8947 - val_ssim: 0.9356\n",
      "Epoch 18/30\n",
      "1643/1644 [============================>.] - ETA: 0s - loss: 8.1552e-04 - mean_squared_error: 8.1415e-04 - psnr: 31.8261 - ssim: 0.9349\n",
      "Epoch 00018: ReduceLROnPlateau reducing learning rate to 3.200000264769187e-07.\n",
      "1644/1644 [==============================] - 359s 219ms/step - loss: 8.1559e-04 - mean_squared_error: 8.1422e-04 - psnr: 31.8263 - ssim: 0.9349 - val_loss: 7.7756e-04 - val_mean_squared_error: 7.7692e-04 - val_psnr: 32.0148 - val_ssim: 0.9354\n",
      "Epoch 19/30\n",
      "1644/1644 [==============================] - 359s 218ms/step - loss: 8.1207e-04 - mean_squared_error: 8.1206e-04 - psnr: 31.8407 - ssim: 0.9351 - val_loss: 7.8235e-04 - val_mean_squared_error: 7.8128e-04 - val_psnr: 31.9872 - val_ssim: 0.9358\n",
      "Epoch 20/30\n",
      "1643/1644 [============================>.] - ETA: 0s - loss: 8.2686e-04 - mean_squared_error: 8.1819e-04 - psnr: 31.7968 - ssim: 0.9347\n",
      "Epoch 00020: ReduceLROnPlateau reducing learning rate to 6.400000529538374e-08.\n",
      "1644/1644 [==============================] - 359s 218ms/step - loss: 8.2693e-04 - mean_squared_error: 8.1827e-04 - psnr: 31.7962 - ssim: 0.9347 - val_loss: 7.9970e-04 - val_mean_squared_error: 7.9975e-04 - val_psnr: 31.9420 - val_ssim: 0.9350\n",
      "Epoch 21/30\n",
      "1643/1644 [============================>.] - ETA: 0s - loss: 8.1736e-04 - mean_squared_error: 8.1709e-04 - psnr: 31.8124 - ssim: 0.9349Restoring model weights from the end of the best epoch.\n",
      "1644/1644 [==============================] - 359s 218ms/step - loss: 8.1738e-04 - mean_squared_error: 8.1710e-04 - psnr: 31.8121 - ssim: 0.9349 - val_loss: 7.7849e-04 - val_mean_squared_error: 7.7872e-04 - val_psnr: 32.0173 - val_ssim: 0.9360\n",
      "Epoch 00021: early stopping\n",
      "##############################\n",
      "              PSNR         SSIM\n",
      "count  8039.000000  8039.000000\n",
      "mean     32.058988     0.936228\n",
      "std       2.800629     0.024903\n",
      "min      16.767284     0.641549\n",
      "25%      30.431412     0.925951\n",
      "50%      32.315456     0.944971\n",
      "75%      33.671953     0.951866\n",
      "max      40.030731     0.971408\n",
      "##############################\n"
     ]
    }
   ],
   "source": [
    "ae_rb_mse_model.compile(loss='mean_squared_error', optimizer = 'adam', metrics=metrics)\n",
    "ae_rb_mse_fitted = workbench.run(model=ae_rb_mse_model, epochs=30)"
   ]
  },
  {
   "cell_type": "markdown",
   "metadata": {},
   "source": [
    "#### Loss function: SSIM"
   ]
  },
  {
   "cell_type": "code",
   "execution_count": 8,
   "metadata": {},
   "outputs": [],
   "source": [
    "ae_rb_ssim_model = AutoEncoder(\n",
    "    encoder=ResnetEncoderv1(nb_list=[3,4,2], feature_maps=16),\n",
    "    name=\"ae_rb_ssim\",\n",
    ")(input_shape=workbench.image_shape)"
   ]
  },
  {
   "cell_type": "code",
   "execution_count": 9,
   "metadata": {},
   "outputs": [
    {
     "name": "stdout",
     "output_type": "stream",
     "text": [
      "WARNING:tensorflow:sample_weight modes were coerced from\n",
      "  ...\n",
      "    to  \n",
      "  ['...']\n",
      "WARNING:tensorflow:sample_weight modes were coerced from\n",
      "  ...\n",
      "    to  \n",
      "  ['...']\n",
      "Train for 1644 steps, validate for 348 steps\n",
      "Epoch 1/30\n",
      "1644/1644 [==============================] - 371s 226ms/step - loss: 0.1663 - mean_squared_error: 0.0198 - psnr: 22.4561 - ssim: 0.8337 - val_loss: 0.1287 - val_mean_squared_error: 0.0042 - val_psnr: 24.8536 - val_ssim: 0.8713\n",
      "Epoch 2/30\n",
      "1644/1644 [==============================] - 367s 223ms/step - loss: 0.0851 - mean_squared_error: 0.0022 - psnr: 27.6640 - ssim: 0.9149 - val_loss: 0.4156 - val_mean_squared_error: 0.1282 - val_psnr: 9.3709 - val_ssim: 0.5845\n",
      "Epoch 3/30\n",
      "1643/1644 [============================>.] - ETA: 0s - loss: 0.0670 - mean_squared_error: 0.0016 - psnr: 28.8867 - ssim: 0.9330\n",
      "Epoch 00003: ReduceLROnPlateau reducing learning rate to 0.00020000000949949026.\n",
      "1644/1644 [==============================] - 368s 224ms/step - loss: 0.0670 - mean_squared_error: 0.0016 - psnr: 28.8873 - ssim: 0.9330 - val_loss: 0.3071 - val_mean_squared_error: 0.0613 - val_psnr: 13.8029 - val_ssim: 0.6929\n",
      "Epoch 4/30\n",
      "1644/1644 [==============================] - 368s 224ms/step - loss: 0.0578 - mean_squared_error: 0.0013 - psnr: 29.7245 - ssim: 0.9422 - val_loss: 0.0573 - val_mean_squared_error: 0.0012 - val_psnr: 30.2854 - val_ssim: 0.9427\n",
      "Epoch 5/30\n",
      "1644/1644 [==============================] - 368s 224ms/step - loss: 0.0557 - mean_squared_error: 0.0013 - psnr: 29.9181 - ssim: 0.9443 - val_loss: 0.0668 - val_mean_squared_error: 0.0019 - val_psnr: 29.7480 - val_ssim: 0.9332\n",
      "Epoch 6/30\n",
      "1644/1644 [==============================] - 368s 224ms/step - loss: 0.0532 - mean_squared_error: 0.0012 - psnr: 30.1710 - ssim: 0.9468 - val_loss: 0.0552 - val_mean_squared_error: 0.0012 - val_psnr: 30.3938 - val_ssim: 0.9448\n",
      "Epoch 7/30\n",
      "1644/1644 [==============================] - 368s 224ms/step - loss: 0.0507 - mean_squared_error: 0.0012 - psnr: 30.3513 - ssim: 0.9493 - val_loss: 0.0567 - val_mean_squared_error: 0.0014 - val_psnr: 29.9144 - val_ssim: 0.9433\n",
      "Epoch 8/30\n",
      "1643/1644 [============================>.] - ETA: 0s - loss: 0.0489 - mean_squared_error: 0.0011 - psnr: 30.5641 - ssim: 0.9511\n",
      "Epoch 00008: ReduceLROnPlateau reducing learning rate to 4.0000001899898055e-05.\n",
      "1644/1644 [==============================] - 368s 224ms/step - loss: 0.0489 - mean_squared_error: 0.0011 - psnr: 30.5636 - ssim: 0.9511 - val_loss: 0.0589 - val_mean_squared_error: 0.0019 - val_psnr: 29.9173 - val_ssim: 0.9411\n",
      "Epoch 9/30\n",
      "1644/1644 [==============================] - 368s 224ms/step - loss: 0.0471 - mean_squared_error: 0.0011 - psnr: 30.7625 - ssim: 0.9529 - val_loss: 0.0474 - val_mean_squared_error: 9.5655e-04 - val_psnr: 31.3499 - val_ssim: 0.9526\n",
      "Epoch 10/30\n",
      "1644/1644 [==============================] - 368s 224ms/step - loss: 0.0468 - mean_squared_error: 0.0011 - psnr: 30.8364 - ssim: 0.9533 - val_loss: 0.0484 - val_mean_squared_error: 0.0011 - val_psnr: 30.9644 - val_ssim: 0.9516\n",
      "Epoch 11/30\n",
      "1643/1644 [============================>.] - ETA: 0s - loss: 0.0460 - mean_squared_error: 0.0011 - psnr: 30.9249 - ssim: 0.9540\n",
      "Epoch 00011: ReduceLROnPlateau reducing learning rate to 8.000000525498762e-06.\n",
      "1644/1644 [==============================] - 369s 224ms/step - loss: 0.0461 - mean_squared_error: 0.0011 - psnr: 30.9249 - ssim: 0.9540 - val_loss: 0.0475 - val_mean_squared_error: 0.0012 - val_psnr: 31.1150 - val_ssim: 0.9525\n",
      "Epoch 12/30\n",
      "1644/1644 [==============================] - 368s 224ms/step - loss: 0.0458 - mean_squared_error: 0.0010 - psnr: 30.9769 - ssim: 0.9543 - val_loss: 0.0459 - val_mean_squared_error: 9.2838e-04 - val_psnr: 31.5351 - val_ssim: 0.9541\n",
      "Epoch 13/30\n",
      "1644/1644 [==============================] - 368s 224ms/step - loss: 0.0456 - mean_squared_error: 0.0010 - psnr: 30.9941 - ssim: 0.9543 - val_loss: 0.0471 - val_mean_squared_error: 0.0010 - val_psnr: 31.3252 - val_ssim: 0.9529\n",
      "Epoch 14/30\n",
      "1644/1644 [==============================] - 368s 224ms/step - loss: 0.0455 - mean_squared_error: 0.0010 - psnr: 30.9833 - ssim: 0.9545 - val_loss: 0.0453 - val_mean_squared_error: 9.0968e-04 - val_psnr: 31.6275 - val_ssim: 0.9547\n",
      "Epoch 15/30\n",
      "1644/1644 [==============================] - 369s 224ms/step - loss: 0.0451 - mean_squared_error: 0.0010 - psnr: 31.0560 - ssim: 0.9549 - val_loss: 0.0458 - val_mean_squared_error: 9.5227e-04 - val_psnr: 31.4458 - val_ssim: 0.9542\n",
      "Epoch 16/30\n",
      "1643/1644 [============================>.] - ETA: 0s - loss: 0.0455 - mean_squared_error: 0.0010 - psnr: 31.0166 - ssim: 0.9545\n",
      "Epoch 00016: ReduceLROnPlateau reducing learning rate to 1.6000001778593287e-06.\n",
      "1644/1644 [==============================] - 368s 224ms/step - loss: 0.0455 - mean_squared_error: 0.0010 - psnr: 31.0168 - ssim: 0.9545 - val_loss: 0.0454 - val_mean_squared_error: 9.2981e-04 - val_psnr: 31.5094 - val_ssim: 0.9546\n",
      "Epoch 17/30\n",
      "1644/1644 [==============================] - 368s 224ms/step - loss: 0.0452 - mean_squared_error: 0.0010 - psnr: 31.0459 - ssim: 0.9548 - val_loss: 0.0450 - val_mean_squared_error: 9.2499e-04 - val_psnr: 31.6073 - val_ssim: 0.9550\n",
      "Epoch 18/30\n",
      "1644/1644 [==============================] - 368s 224ms/step - loss: 0.0453 - mean_squared_error: 0.0010 - psnr: 31.0243 - ssim: 0.9547 - val_loss: 0.0443 - val_mean_squared_error: 8.9373e-04 - val_psnr: 31.6624 - val_ssim: 0.9557\n",
      "Epoch 19/30\n",
      "1644/1644 [==============================] - 368s 224ms/step - loss: 0.0455 - mean_squared_error: 0.0010 - psnr: 31.0069 - ssim: 0.9545 - val_loss: 0.0452 - val_mean_squared_error: 9.1737e-04 - val_psnr: 31.6104 - val_ssim: 0.9547\n",
      "Epoch 20/30\n",
      "1643/1644 [============================>.] - ETA: 0s - loss: 0.0453 - mean_squared_error: 0.0010 - psnr: 31.0727 - ssim: 0.9547\n",
      "Epoch 00020: ReduceLROnPlateau reducing learning rate to 3.200000264769187e-07.\n",
      "1644/1644 [==============================] - 368s 224ms/step - loss: 0.0453 - mean_squared_error: 0.0010 - psnr: 31.0732 - ssim: 0.9547 - val_loss: 0.0458 - val_mean_squared_error: 9.2064e-04 - val_psnr: 31.5621 - val_ssim: 0.9542\n",
      "Epoch 21/30\n",
      "1643/1644 [============================>.] - ETA: 0s - loss: 0.0452 - mean_squared_error: 0.0010 - psnr: 31.0240 - ssim: 0.9548Restoring model weights from the end of the best epoch.\n",
      "1644/1644 [==============================] - 368s 224ms/step - loss: 0.0452 - mean_squared_error: 0.0010 - psnr: 31.0231 - ssim: 0.9547 - val_loss: 0.0454 - val_mean_squared_error: 9.2586e-04 - val_psnr: 31.5566 - val_ssim: 0.9546\n",
      "Epoch 00021: early stopping\n",
      "##############################\n",
      "              PSNR         SSIM\n",
      "count  8039.000000  8039.000000\n",
      "mean     31.630875     0.955308\n",
      "std       3.261647     0.025527\n",
      "min      16.591827     0.753376\n",
      "25%      29.686069     0.945152\n",
      "50%      31.899290     0.964831\n",
      "75%      33.542730     0.972023\n",
      "max      40.491753     0.987627\n",
      "##############################\n"
     ]
    }
   ],
   "source": [
    "ae_rb_ssim_model.compile(loss=ssim_loss, optimizer = 'adam', metrics=metrics)\n",
    "ae_rb_ssim_fitted = workbench.run(model=ae_rb_ssim_model, epochs=30)"
   ]
  },
  {
   "cell_type": "markdown",
   "metadata": {},
   "source": [
    "### AE + sLC + RB (v1)"
   ]
  },
  {
   "cell_type": "markdown",
   "metadata": {},
   "source": [
    "#### Loss function: MSE"
   ]
  },
  {
   "cell_type": "code",
   "execution_count": 10,
   "metadata": {},
   "outputs": [],
   "source": [
    "ae_slc_rb_mse_model_v1 = AutoEncoder(\n",
    "    encoder=ResnetEncoderv1(nb_list=[3,4,2], feature_maps=16),\n",
    "    name=\"ae_slc_rb_mse_v1\",\n",
    "    skip_long_connections_function=layers.add\n",
    ")(input_shape=workbench.image_shape)"
   ]
  },
  {
   "cell_type": "code",
   "execution_count": 11,
   "metadata": {},
   "outputs": [
    {
     "name": "stdout",
     "output_type": "stream",
     "text": [
      "WARNING:tensorflow:sample_weight modes were coerced from\n",
      "  ...\n",
      "    to  \n",
      "  ['...']\n",
      "WARNING:tensorflow:sample_weight modes were coerced from\n",
      "  ...\n",
      "    to  \n",
      "  ['...']\n",
      "Train for 1644 steps, validate for 348 steps\n",
      "Epoch 1/30\n",
      "1644/1644 [==============================] - 364s 221ms/step - loss: 0.0032 - mean_squared_error: 0.0032 - psnr: 27.2372 - ssim: 0.7017 - val_loss: 0.0924 - val_mean_squared_error: 0.0924 - val_psnr: 10.6225 - val_ssim: 0.5715\n",
      "Epoch 2/30\n",
      "1644/1644 [==============================] - 362s 220ms/step - loss: 0.0014 - mean_squared_error: 0.0014 - psnr: 29.7619 - ssim: 0.8610 - val_loss: 0.0016 - val_mean_squared_error: 0.0016 - val_psnr: 28.9872 - val_ssim: 0.7859\n",
      "Epoch 3/30\n",
      "1644/1644 [==============================] - 362s 220ms/step - loss: 0.0011 - mean_squared_error: 0.0011 - psnr: 30.7402 - ssim: 0.9046 - val_loss: 0.0011 - val_mean_squared_error: 0.0011 - val_psnr: 31.0182 - val_ssim: 0.9017\n",
      "Epoch 4/30\n",
      "1644/1644 [==============================] - 362s 220ms/step - loss: 9.5464e-04 - mean_squared_error: 9.5436e-04 - psnr: 31.5346 - ssim: 0.9225 - val_loss: 0.0012 - val_mean_squared_error: 0.0012 - val_psnr: 30.4277 - val_ssim: 0.9237\n",
      "Epoch 5/30\n",
      "1643/1644 [============================>.] - ETA: 0s - loss: 8.7310e-04 - mean_squared_error: 8.7237e-04 - psnr: 32.0470 - ssim: 0.9331\n",
      "Epoch 00005: ReduceLROnPlateau reducing learning rate to 0.00020000000949949026.\n",
      "1644/1644 [==============================] - 362s 220ms/step - loss: 8.7329e-04 - mean_squared_error: 8.7257e-04 - psnr: 32.0468 - ssim: 0.9331 - val_loss: 0.0033 - val_mean_squared_error: 0.0033 - val_psnr: 26.0209 - val_ssim: 0.7348\n",
      "Epoch 6/30\n",
      "1644/1644 [==============================] - 362s 220ms/step - loss: 7.5840e-04 - mean_squared_error: 7.5856e-04 - psnr: 32.7841 - ssim: 0.9390 - val_loss: 6.8427e-04 - val_mean_squared_error: 6.8428e-04 - val_psnr: 33.4138 - val_ssim: 0.9342\n",
      "Epoch 7/30\n",
      "1644/1644 [==============================] - 362s 220ms/step - loss: 7.3088e-04 - mean_squared_error: 7.3111e-04 - psnr: 32.9649 - ssim: 0.9420 - val_loss: 7.3177e-04 - val_mean_squared_error: 7.3177e-04 - val_psnr: 33.1116 - val_ssim: 0.9201\n",
      "Epoch 8/30\n",
      "1643/1644 [============================>.] - ETA: 0s - loss: 7.1816e-04 - mean_squared_error: 7.1633e-04 - psnr: 33.0964 - ssim: 0.9438\n",
      "Epoch 00008: ReduceLROnPlateau reducing learning rate to 4.0000001899898055e-05.\n",
      "1644/1644 [==============================] - 362s 220ms/step - loss: 7.1807e-04 - mean_squared_error: 7.1625e-04 - psnr: 33.0970 - ssim: 0.9438 - val_loss: 6.9024e-04 - val_mean_squared_error: 6.9010e-04 - val_psnr: 33.1058 - val_ssim: 0.9454\n",
      "Epoch 9/30\n",
      "1644/1644 [==============================] - 362s 220ms/step - loss: 6.6787e-04 - mean_squared_error: 6.6792e-04 - psnr: 33.4069 - ssim: 0.9460 - val_loss: 6.3900e-04 - val_mean_squared_error: 6.3849e-04 - val_psnr: 33.7948 - val_ssim: 0.9452\n",
      "Epoch 10/30\n",
      "1643/1644 [============================>.] - ETA: 0s - loss: 6.6816e-04 - mean_squared_error: 6.6841e-04 - psnr: 33.4167 - ssim: 0.9463\n",
      "Epoch 00010: ReduceLROnPlateau reducing learning rate to 8.000000525498762e-06.\n",
      "1644/1644 [==============================] - 362s 220ms/step - loss: 6.6846e-04 - mean_squared_error: 6.6871e-04 - psnr: 33.4162 - ssim: 0.9463 - val_loss: 6.6207e-04 - val_mean_squared_error: 6.6248e-04 - val_psnr: 33.7835 - val_ssim: 0.9466\n",
      "Epoch 11/30\n",
      "1644/1644 [==============================] - 362s 220ms/step - loss: 6.6004e-04 - mean_squared_error: 6.5936e-04 - psnr: 33.4790 - ssim: 0.9464 - val_loss: 6.1387e-04 - val_mean_squared_error: 6.1327e-04 - val_psnr: 33.9269 - val_ssim: 0.9473\n",
      "Epoch 12/30\n",
      "1643/1644 [============================>.] - ETA: 0s - loss: 6.5652e-04 - mean_squared_error: 6.5675e-04 - psnr: 33.5136 - ssim: 0.9468\n",
      "Epoch 00012: ReduceLROnPlateau reducing learning rate to 1.6000001778593287e-06.\n",
      "1644/1644 [==============================] - 362s 220ms/step - loss: 6.5661e-04 - mean_squared_error: 6.5684e-04 - psnr: 33.5133 - ssim: 0.9468 - val_loss: 6.0532e-04 - val_mean_squared_error: 6.0505e-04 - val_psnr: 33.9349 - val_ssim: 0.9476\n",
      "Epoch 13/30\n",
      "1644/1644 [==============================] - 362s 220ms/step - loss: 6.5822e-04 - mean_squared_error: 6.5816e-04 - psnr: 33.5098 - ssim: 0.9468 - val_loss: 6.0468e-04 - val_mean_squared_error: 6.0370e-04 - val_psnr: 34.0205 - val_ssim: 0.9492\n",
      "Epoch 14/30\n",
      "1643/1644 [============================>.] - ETA: 0s - loss: 6.5727e-04 - mean_squared_error: 6.5615e-04 - psnr: 33.5069 - ssim: 0.9467\n",
      "Epoch 00014: ReduceLROnPlateau reducing learning rate to 3.200000264769187e-07.\n",
      "1644/1644 [==============================] - 362s 220ms/step - loss: 6.5731e-04 - mean_squared_error: 6.5620e-04 - psnr: 33.5068 - ssim: 0.9467 - val_loss: 5.9980e-04 - val_mean_squared_error: 6.0012e-04 - val_psnr: 34.0053 - val_ssim: 0.9501\n",
      "Epoch 15/30\n",
      "1644/1644 [==============================] - 362s 220ms/step - loss: 6.5074e-04 - mean_squared_error: 6.5033e-04 - psnr: 33.5796 - ssim: 0.9472 - val_loss: 6.1594e-04 - val_mean_squared_error: 6.1606e-04 - val_psnr: 33.8855 - val_ssim: 0.9486\n",
      "Epoch 16/30\n",
      "1643/1644 [============================>.] - ETA: 0s - loss: 6.5651e-04 - mean_squared_error: 6.5660e-04 - psnr: 33.5107 - ssim: 0.9471\n",
      "Epoch 00016: ReduceLROnPlateau reducing learning rate to 6.400000529538374e-08.\n",
      "1644/1644 [==============================] - 362s 220ms/step - loss: 6.5644e-04 - mean_squared_error: 6.5654e-04 - psnr: 33.5112 - ssim: 0.9471 - val_loss: 6.1629e-04 - val_mean_squared_error: 6.1636e-04 - val_psnr: 33.9308 - val_ssim: 0.9490\n",
      "Epoch 17/30\n",
      "1643/1644 [============================>.] - ETA: 0s - loss: 6.5991e-04 - mean_squared_error: 6.5989e-04 - psnr: 33.4960 - ssim: 0.9468Restoring model weights from the end of the best epoch.\n",
      "1644/1644 [==============================] - 362s 220ms/step - loss: 6.5976e-04 - mean_squared_error: 6.5974e-04 - psnr: 33.4969 - ssim: 0.9468 - val_loss: 6.1313e-04 - val_mean_squared_error: 6.1307e-04 - val_psnr: 33.9936 - val_ssim: 0.9487\n",
      "Epoch 00017: early stopping\n",
      "##############################\n",
      "              PSNR         SSIM\n",
      "count  8039.000000  8039.000000\n",
      "mean     33.957538     0.950169\n",
      "std       3.843410     0.030119\n",
      "min      20.120720     0.674821\n",
      "25%      30.957678     0.937352\n",
      "50%      34.807529     0.962268\n",
      "75%      36.823837     0.971857\n",
      "max      42.761108     0.983204\n",
      "##############################\n"
     ]
    }
   ],
   "source": [
    "ae_slc_rb_mse_model_v1.compile(loss='mean_squared_error', optimizer = 'adam', metrics=metrics)\n",
    "ae_slc_rb_mse_v1_fitted = workbench.run(model=ae_slc_rb_mse_model_v1, epochs=30)"
   ]
  },
  {
   "cell_type": "markdown",
   "metadata": {},
   "source": [
    "#### Loss function: SSIM"
   ]
  },
  {
   "cell_type": "code",
   "execution_count": 12,
   "metadata": {},
   "outputs": [],
   "source": [
    "ae_slc_rb_ssim_model_v1 = AutoEncoder(\n",
    "    encoder=ResnetEncoderv1(nb_list=[3,4,2], feature_maps=16),\n",
    "    name=\"ae_slc_rb_ssim_v1\",\n",
    "    skip_long_connections_function=layers.add\n",
    ")(input_shape=workbench.image_shape)"
   ]
  },
  {
   "cell_type": "code",
   "execution_count": 13,
   "metadata": {},
   "outputs": [
    {
     "name": "stdout",
     "output_type": "stream",
     "text": [
      "WARNING:tensorflow:sample_weight modes were coerced from\n",
      "  ...\n",
      "    to  \n",
      "  ['...']\n",
      "WARNING:tensorflow:sample_weight modes were coerced from\n",
      "  ...\n",
      "    to  \n",
      "  ['...']\n",
      "Train for 1644 steps, validate for 348 steps\n",
      "Epoch 1/30\n",
      "1644/1644 [==============================] - 373s 227ms/step - loss: 0.0833 - mean_squared_error: 0.0185 - psnr: 23.6851 - ssim: 0.9167 - val_loss: 0.0592 - val_mean_squared_error: 0.0022 - val_psnr: 29.9095 - val_ssim: 0.9408\n",
      "Epoch 2/30\n",
      "1644/1644 [==============================] - 370s 225ms/step - loss: 0.0427 - mean_squared_error: 0.0016 - psnr: 28.6369 - ssim: 0.9574 - val_loss: 0.1041 - val_mean_squared_error: 0.0025 - val_psnr: 27.2630 - val_ssim: 0.8958\n",
      "Epoch 3/30\n",
      "1643/1644 [============================>.] - ETA: 0s - loss: 0.0379 - mean_squared_error: 0.0014 - psnr: 29.2545 - ssim: 0.9621\n",
      "Epoch 00003: ReduceLROnPlateau reducing learning rate to 0.00020000000949949026.\n",
      "1644/1644 [==============================] - 370s 225ms/step - loss: 0.0379 - mean_squared_error: 0.0014 - psnr: 29.2539 - ssim: 0.9621 - val_loss: 0.3469 - val_mean_squared_error: 0.1329 - val_psnr: 9.1682 - val_ssim: 0.6531\n",
      "Epoch 4/30\n",
      "1644/1644 [==============================] - 370s 225ms/step - loss: 0.0331 - mean_squared_error: 0.0013 - psnr: 29.6989 - ssim: 0.9669 - val_loss: 0.0399 - val_mean_squared_error: 0.0017 - val_psnr: 29.5034 - val_ssim: 0.9600\n",
      "Epoch 5/30\n",
      "1644/1644 [==============================] - 370s 225ms/step - loss: 0.0322 - mean_squared_error: 0.0013 - psnr: 29.7741 - ssim: 0.9679 - val_loss: 0.0590 - val_mean_squared_error: 0.0073 - val_psnr: 22.2901 - val_ssim: 0.9410\n",
      "Epoch 6/30\n",
      "1643/1644 [============================>.] - ETA: 0s - loss: 0.0306 - mean_squared_error: 0.0012 - psnr: 29.9894 - ssim: 0.9694\n",
      "Epoch 00006: ReduceLROnPlateau reducing learning rate to 4.0000001899898055e-05.\n",
      "1644/1644 [==============================] - 370s 225ms/step - loss: 0.0306 - mean_squared_error: 0.0012 - psnr: 29.9894 - ssim: 0.9694 - val_loss: 0.0537 - val_mean_squared_error: 0.0012 - val_psnr: 29.9959 - val_ssim: 0.9463\n",
      "Epoch 7/30\n",
      "1644/1644 [==============================] - 370s 225ms/step - loss: 0.0289 - mean_squared_error: 0.0011 - psnr: 30.2749 - ssim: 0.9711 - val_loss: 0.0301 - val_mean_squared_error: 0.0011 - val_psnr: 30.4693 - val_ssim: 0.9699\n",
      "Epoch 8/30\n",
      "1644/1644 [==============================] - 370s 225ms/step - loss: 0.0286 - mean_squared_error: 0.0011 - psnr: 30.3547 - ssim: 0.9714 - val_loss: 0.0296 - val_mean_squared_error: 0.0010 - val_psnr: 30.6436 - val_ssim: 0.9704\n",
      "Epoch 9/30\n",
      "1644/1644 [==============================] - 370s 225ms/step - loss: 0.0286 - mean_squared_error: 0.0011 - psnr: 30.3935 - ssim: 0.9714 - val_loss: 0.0295 - val_mean_squared_error: 0.0012 - val_psnr: 30.5168 - val_ssim: 0.9705\n",
      "Epoch 10/30\n",
      "1644/1644 [==============================] - 370s 225ms/step - loss: 0.0286 - mean_squared_error: 0.0011 - psnr: 30.4078 - ssim: 0.9715 - val_loss: 0.0281 - val_mean_squared_error: 0.0010 - val_psnr: 30.7313 - val_ssim: 0.9720\n",
      "Epoch 11/30\n",
      "1644/1644 [==============================] - 370s 225ms/step - loss: 0.0281 - mean_squared_error: 0.0011 - psnr: 30.4790 - ssim: 0.9719 - val_loss: 0.0291 - val_mean_squared_error: 0.0012 - val_psnr: 30.5407 - val_ssim: 0.9709\n",
      "Epoch 12/30\n",
      "1644/1644 [==============================] - 370s 225ms/step - loss: 0.0281 - mean_squared_error: 0.0011 - psnr: 30.5149 - ssim: 0.9719 - val_loss: 0.0277 - val_mean_squared_error: 0.0010 - val_psnr: 30.7366 - val_ssim: 0.9723\n",
      "Epoch 13/30\n",
      "1644/1644 [==============================] - 370s 225ms/step - loss: 0.0281 - mean_squared_error: 0.0011 - psnr: 30.5220 - ssim: 0.9719 - val_loss: 0.0287 - val_mean_squared_error: 0.0011 - val_psnr: 30.5818 - val_ssim: 0.9713\n",
      "Epoch 14/30\n",
      "1643/1644 [============================>.] - ETA: 0s - loss: 0.0277 - mean_squared_error: 0.0010 - psnr: 30.5742 - ssim: 0.9724\n",
      "Epoch 00014: ReduceLROnPlateau reducing learning rate to 8.000000525498762e-06.\n",
      "1644/1644 [==============================] - 370s 225ms/step - loss: 0.0277 - mean_squared_error: 0.0010 - psnr: 30.5743 - ssim: 0.9724 - val_loss: 0.0282 - val_mean_squared_error: 0.0012 - val_psnr: 30.5173 - val_ssim: 0.9717\n",
      "Epoch 15/30\n",
      "1644/1644 [==============================] - 370s 225ms/step - loss: 0.0270 - mean_squared_error: 0.0010 - psnr: 30.6859 - ssim: 0.9731 - val_loss: 0.0271 - val_mean_squared_error: 9.9466e-04 - val_psnr: 30.8232 - val_ssim: 0.9729\n",
      "Epoch 16/30\n",
      "1644/1644 [==============================] - 370s 225ms/step - loss: 0.0273 - mean_squared_error: 0.0010 - psnr: 30.6768 - ssim: 0.9728 - val_loss: 0.0265 - val_mean_squared_error: 9.6620e-04 - val_psnr: 30.8968 - val_ssim: 0.9734\n",
      "Epoch 17/30\n",
      "1644/1644 [==============================] - 370s 225ms/step - loss: 0.0273 - mean_squared_error: 0.0010 - psnr: 30.6634 - ssim: 0.9727 - val_loss: 0.0272 - val_mean_squared_error: 9.9400e-04 - val_psnr: 30.8450 - val_ssim: 0.9728\n",
      "Epoch 18/30\n",
      "1643/1644 [============================>.] - ETA: 0s - loss: 0.0273 - mean_squared_error: 0.0010 - psnr: 30.6938 - ssim: 0.9728\n",
      "Epoch 00018: ReduceLROnPlateau reducing learning rate to 1.6000001778593287e-06.\n",
      "1644/1644 [==============================] - 370s 225ms/step - loss: 0.0273 - mean_squared_error: 0.0010 - psnr: 30.6939 - ssim: 0.9728 - val_loss: 0.0267 - val_mean_squared_error: 9.7797e-04 - val_psnr: 30.8801 - val_ssim: 0.9733\n",
      "Epoch 19/30\n",
      "1643/1644 [============================>.] - ETA: 0s - loss: 0.0270 - mean_squared_error: 0.0010 - psnr: 30.7175 - ssim: 0.9730Restoring model weights from the end of the best epoch.\n",
      "1644/1644 [==============================] - 370s 225ms/step - loss: 0.0270 - mean_squared_error: 0.0010 - psnr: 30.7175 - ssim: 0.9730 - val_loss: 0.0272 - val_mean_squared_error: 9.8145e-04 - val_psnr: 30.8501 - val_ssim: 0.9728\n",
      "Epoch 00019: early stopping\n",
      "##############################\n",
      "              PSNR         SSIM\n",
      "count  8039.000000  8039.000000\n",
      "mean     30.811520     0.972900\n",
      "std       2.391680     0.024983\n",
      "min      18.297634     0.796321\n",
      "25%      29.344037     0.959937\n",
      "50%      31.746735     0.984728\n",
      "75%      32.513952     0.990816\n",
      "max      33.907780     0.995888\n",
      "##############################\n"
     ]
    }
   ],
   "source": [
    "ae_slc_rb_ssim_model_v1.compile(loss=ssim_loss, optimizer = 'adam', metrics=metrics)\n",
    "ae_slc_rb_ssim_v1_fitted = workbench.run(model=ae_slc_rb_ssim_model_v1, epochs=30)"
   ]
  },
  {
   "cell_type": "markdown",
   "metadata": {},
   "source": [
    "### AE + sLC + RB (v2)"
   ]
  },
  {
   "cell_type": "markdown",
   "metadata": {},
   "source": [
    "#### Loss function: MSE"
   ]
  },
  {
   "cell_type": "code",
   "execution_count": 14,
   "metadata": {},
   "outputs": [],
   "source": [
    "ae_slc_rb_mse_model_v2 = AutoEncoder(\n",
    "    encoder=ResnetEncoderv2(nb_list=[3,4,2], feature_maps=16),\n",
    "    name=\"ae_slc_rb_mse_v2\",\n",
    "    skip_long_connections_function=layers.add\n",
    ")(input_shape=workbench.image_shape)"
   ]
  },
  {
   "cell_type": "code",
   "execution_count": 15,
   "metadata": {},
   "outputs": [
    {
     "name": "stdout",
     "output_type": "stream",
     "text": [
      "WARNING:tensorflow:sample_weight modes were coerced from\n",
      "  ...\n",
      "    to  \n",
      "  ['...']\n",
      "WARNING:tensorflow:sample_weight modes were coerced from\n",
      "  ...\n",
      "    to  \n",
      "  ['...']\n",
      "Train for 1644 steps, validate for 348 steps\n",
      "Epoch 1/30\n",
      "1644/1644 [==============================] - 369s 224ms/step - loss: 0.0029 - mean_squared_error: 0.0029 - psnr: 28.5856 - ssim: 0.7331 - val_loss: 0.0010 - val_mean_squared_error: 0.0010 - val_psnr: 31.8557 - val_ssim: 0.8457\n",
      "Epoch 2/30\n",
      "1644/1644 [==============================] - 366s 222ms/step - loss: 0.0010 - mean_squared_error: 0.0010 - psnr: 32.1573 - ssim: 0.8838 - val_loss: 0.0010 - val_mean_squared_error: 0.0010 - val_psnr: 31.0225 - val_ssim: 0.9014\n",
      "Epoch 3/30\n",
      "1643/1644 [============================>.] - ETA: 0s - loss: 8.5792e-04 - mean_squared_error: 8.5676e-04 - psnr: 33.1607 - ssim: 0.9290\n",
      "Epoch 00003: ReduceLROnPlateau reducing learning rate to 0.00020000000949949026.\n",
      "1644/1644 [==============================] - 366s 222ms/step - loss: 8.5782e-04 - mean_squared_error: 8.5667e-04 - psnr: 33.1609 - ssim: 0.9290 - val_loss: 0.0281 - val_mean_squared_error: 0.0281 - val_psnr: 18.2311 - val_ssim: 0.6397\n",
      "Epoch 4/30\n",
      "1644/1644 [==============================] - 366s 222ms/step - loss: 7.2948e-04 - mean_squared_error: 7.2768e-04 - psnr: 34.1060 - ssim: 0.9423 - val_loss: 0.0010 - val_mean_squared_error: 0.0010 - val_psnr: 33.1532 - val_ssim: 0.8492\n",
      "Epoch 5/30\n",
      "1644/1644 [==============================] - 366s 222ms/step - loss: 7.0768e-04 - mean_squared_error: 7.0694e-04 - psnr: 34.3168 - ssim: 0.9450 - val_loss: 7.4647e-04 - val_mean_squared_error: 7.4474e-04 - val_psnr: 35.6325 - val_ssim: 0.9101\n",
      "Epoch 6/30\n",
      "1644/1644 [==============================] - 366s 223ms/step - loss: 6.6742e-04 - mean_squared_error: 6.6707e-04 - psnr: 34.6313 - ssim: 0.9474 - val_loss: 0.0010 - val_mean_squared_error: 0.0010 - val_psnr: 35.0524 - val_ssim: 0.9391\n",
      "Epoch 7/30\n",
      "1644/1644 [==============================] - 366s 223ms/step - loss: 6.6197e-04 - mean_squared_error: 6.6078e-04 - psnr: 34.7675 - ssim: 0.9468 - val_loss: 5.6372e-04 - val_mean_squared_error: 5.6456e-04 - val_psnr: 36.4401 - val_ssim: 0.9456\n",
      "Epoch 8/30\n",
      "1644/1644 [==============================] - 366s 223ms/step - loss: 6.2571e-04 - mean_squared_error: 6.2262e-04 - psnr: 35.0851 - ssim: 0.9510 - val_loss: 0.0020 - val_mean_squared_error: 0.0020 - val_psnr: 31.1802 - val_ssim: 0.8673\n",
      "Epoch 9/30\n",
      "1643/1644 [============================>.] - ETA: 0s - loss: 6.1130e-04 - mean_squared_error: 6.1053e-04 - psnr: 35.3032 - ssim: 0.9526\n",
      "Epoch 00009: ReduceLROnPlateau reducing learning rate to 4.0000001899898055e-05.\n",
      "1644/1644 [==============================] - 367s 223ms/step - loss: 6.1126e-04 - mean_squared_error: 6.1050e-04 - psnr: 35.3034 - ssim: 0.9526 - val_loss: 0.0028 - val_mean_squared_error: 0.0028 - val_psnr: 30.0145 - val_ssim: 0.8369\n",
      "Epoch 10/30\n",
      "1644/1644 [==============================] - 367s 223ms/step - loss: 5.5021e-04 - mean_squared_error: 5.4991e-04 - psnr: 35.9365 - ssim: 0.9529 - val_loss: 5.2030e-04 - val_mean_squared_error: 5.2023e-04 - val_psnr: 37.0913 - val_ssim: 0.9482\n",
      "Epoch 11/30\n",
      "1643/1644 [============================>.] - ETA: 0s - loss: 5.4271e-04 - mean_squared_error: 5.4140e-04 - psnr: 36.0384 - ssim: 0.9523\n",
      "Epoch 00011: ReduceLROnPlateau reducing learning rate to 8.000000525498762e-06.\n",
      "1644/1644 [==============================] - 367s 223ms/step - loss: 5.4269e-04 - mean_squared_error: 5.4139e-04 - psnr: 36.0378 - ssim: 0.9523 - val_loss: 5.4519e-04 - val_mean_squared_error: 5.4448e-04 - val_psnr: 37.0204 - val_ssim: 0.9466\n",
      "Epoch 12/30\n",
      "1644/1644 [==============================] - 367s 223ms/step - loss: 5.2150e-04 - mean_squared_error: 5.2170e-04 - psnr: 36.3727 - ssim: 0.9522 - val_loss: 5.1331e-04 - val_mean_squared_error: 5.1239e-04 - val_psnr: 37.2301 - val_ssim: 0.9474\n",
      "Epoch 13/30\n",
      "1643/1644 [============================>.] - ETA: 0s - loss: 5.1809e-04 - mean_squared_error: 5.1779e-04 - psnr: 36.4760 - ssim: 0.9525\n",
      "Epoch 00013: ReduceLROnPlateau reducing learning rate to 1.6000001778593287e-06.\n",
      "1644/1644 [==============================] - 367s 223ms/step - loss: 5.1808e-04 - mean_squared_error: 5.1778e-04 - psnr: 36.4766 - ssim: 0.9525 - val_loss: 5.0440e-04 - val_mean_squared_error: 5.0434e-04 - val_psnr: 37.1955 - val_ssim: 0.9511\n",
      "Epoch 14/30\n",
      "1644/1644 [==============================] - 367s 223ms/step - loss: 5.1180e-04 - mean_squared_error: 5.1121e-04 - psnr: 36.5718 - ssim: 0.9523 - val_loss: 5.1706e-04 - val_mean_squared_error: 5.1733e-04 - val_psnr: 37.1816 - val_ssim: 0.9529\n",
      "Epoch 15/30\n",
      "1643/1644 [============================>.] - ETA: 0s - loss: 5.1095e-04 - mean_squared_error: 5.1036e-04 - psnr: 36.5593 - ssim: 0.9520\n",
      "Epoch 00015: ReduceLROnPlateau reducing learning rate to 3.200000264769187e-07.\n",
      "1644/1644 [==============================] - 367s 223ms/step - loss: 5.1115e-04 - mean_squared_error: 5.1056e-04 - psnr: 36.5578 - ssim: 0.9520 - val_loss: 4.8949e-04 - val_mean_squared_error: 4.8986e-04 - val_psnr: 37.3147 - val_ssim: 0.9542\n",
      "Epoch 16/30\n",
      "1644/1644 [==============================] - 367s 223ms/step - loss: 5.1446e-04 - mean_squared_error: 5.1418e-04 - psnr: 36.5500 - ssim: 0.9520 - val_loss: 4.9988e-04 - val_mean_squared_error: 4.9990e-04 - val_psnr: 37.2580 - val_ssim: 0.9530\n",
      "Epoch 17/30\n",
      "1643/1644 [============================>.] - ETA: 0s - loss: 5.1295e-04 - mean_squared_error: 5.1184e-04 - psnr: 36.5855 - ssim: 0.9521\n",
      "Epoch 00017: ReduceLROnPlateau reducing learning rate to 6.400000529538374e-08.\n",
      "1644/1644 [==============================] - 367s 223ms/step - loss: 5.1285e-04 - mean_squared_error: 5.1174e-04 - psnr: 36.5872 - ssim: 0.9521 - val_loss: 4.9141e-04 - val_mean_squared_error: 4.8681e-04 - val_psnr: 37.3551 - val_ssim: 0.9541\n",
      "Epoch 18/30\n",
      "1643/1644 [============================>.] - ETA: 0s - loss: 5.1574e-04 - mean_squared_error: 5.1472e-04 - psnr: 36.5864 - ssim: 0.9518Restoring model weights from the end of the best epoch.\n",
      "1644/1644 [==============================] - 368s 224ms/step - loss: 5.1585e-04 - mean_squared_error: 5.1483e-04 - psnr: 36.5866 - ssim: 0.9518 - val_loss: 4.9252e-04 - val_mean_squared_error: 4.9301e-04 - val_psnr: 37.3500 - val_ssim: 0.9534\n",
      "Epoch 00018: early stopping\n",
      "##############################\n",
      "              PSNR         SSIM\n",
      "count  8039.000000  8039.000000\n",
      "mean     37.385475     0.954537\n",
      "std       6.433779     0.034688\n",
      "min      17.585472     0.751183\n",
      "25%      31.415109     0.939880\n",
      "50%      38.762489     0.970294\n",
      "75%      43.966314     0.978153\n",
      "max      47.185860     0.989535\n",
      "##############################\n"
     ]
    }
   ],
   "source": [
    "ae_slc_rb_mse_model_v2.compile(loss='mean_squared_error', optimizer = 'adam', metrics=metrics)\n",
    "ae_slc_rb_mse_v2_fitted = workbench.run(model=ae_slc_rb_mse_model_v2, epochs=30)"
   ]
  },
  {
   "cell_type": "markdown",
   "metadata": {},
   "source": [
    "#### Loss function: SSIM"
   ]
  },
  {
   "cell_type": "code",
   "execution_count": 16,
   "metadata": {},
   "outputs": [],
   "source": [
    "ae_slc_rb_ssim_model_v2 = AutoEncoder(\n",
    "    encoder=ResnetEncoderv2(nb_list=[3,4,2], feature_maps=16),\n",
    "    name=\"ae_slc_rb_ssim_v2\",\n",
    "    skip_long_connections_function=layers.add\n",
    ")(input_shape=workbench.image_shape)"
   ]
  },
  {
   "cell_type": "code",
   "execution_count": 17,
   "metadata": {},
   "outputs": [
    {
     "name": "stdout",
     "output_type": "stream",
     "text": [
      "WARNING:tensorflow:sample_weight modes were coerced from\n",
      "  ...\n",
      "    to  \n",
      "  ['...']\n",
      "WARNING:tensorflow:sample_weight modes were coerced from\n",
      "  ...\n",
      "    to  \n",
      "  ['...']\n",
      "Train for 1644 steps, validate for 348 steps\n",
      "Epoch 1/30\n",
      "1644/1644 [==============================] - 377s 230ms/step - loss: 0.0629 - mean_squared_error: 0.0101 - psnr: 29.2371 - ssim: 0.9371 - val_loss: 0.3324 - val_mean_squared_error: 0.0611 - val_psnr: 13.0074 - val_ssim: 0.6676\n",
      "Epoch 2/30\n",
      "1644/1644 [==============================] - 374s 228ms/step - loss: 0.0331 - mean_squared_error: 0.0010 - psnr: 33.3277 - ssim: 0.9670 - val_loss: 0.0761 - val_mean_squared_error: 0.0019 - val_psnr: 33.6277 - val_ssim: 0.9238\n",
      "Epoch 3/30\n",
      "1644/1644 [==============================] - 374s 228ms/step - loss: 0.0306 - mean_squared_error: 8.9086e-04 - psnr: 33.9571 - ssim: 0.9694 - val_loss: 0.3220 - val_mean_squared_error: 0.0435 - val_psnr: 14.4083 - val_ssim: 0.6780\n",
      "Epoch 4/30\n",
      "1643/1644 [============================>.] - ETA: 0s - loss: 0.0274 - mean_squared_error: 7.8581e-04 - psnr: 34.4308 - ssim: 0.9726\n",
      "Epoch 00004: ReduceLROnPlateau reducing learning rate to 0.00020000000949949026.\n",
      "1644/1644 [==============================] - 374s 228ms/step - loss: 0.0274 - mean_squared_error: 7.8556e-04 - psnr: 34.4328 - ssim: 0.9726 - val_loss: 0.3898 - val_mean_squared_error: 0.2514 - val_psnr: 6.2136 - val_ssim: 0.6103\n",
      "Epoch 5/30\n",
      "1643/1644 [============================>.] - ETA: 0s - loss: 0.0241 - mean_squared_error: 6.6770e-04 - psnr: 35.2618 - ssim: 0.9759Restoring model weights from the end of the best epoch.\n",
      "1644/1644 [==============================] - 374s 228ms/step - loss: 0.0241 - mean_squared_error: 6.6765e-04 - psnr: 35.2611 - ssim: 0.9759 - val_loss: 0.1125 - val_mean_squared_error: 0.0026 - val_psnr: 30.1344 - val_ssim: 0.8876\n",
      "Epoch 00005: early stopping\n",
      "##############################\n",
      "              PSNR         SSIM\n",
      "count  8039.000000  8039.000000\n",
      "mean     33.820590     0.925830\n",
      "std       7.674660     0.050879\n",
      "min      13.393740     0.701595\n",
      "25%      27.015756     0.902856\n",
      "50%      37.369560     0.949022\n",
      "75%      40.839340     0.961647\n",
      "max      44.363884     0.980866\n",
      "##############################\n"
     ]
    }
   ],
   "source": [
    "ae_slc_rb_ssim_model_v2.compile(loss=ssim_loss, optimizer = 'adam', metrics=metrics)\n",
    "ae_slc_rb_ssim_v2_fitted = workbench.run(model=ae_slc_rb_ssim_model_v2, epochs=30)"
   ]
  },
  {
   "cell_type": "code",
   "execution_count": null,
   "metadata": {},
   "outputs": [],
   "source": []
  }
 ],
 "metadata": {
  "kernelspec": {
   "display_name": "data-science",
   "language": "python",
   "name": "data-science"
  },
  "language_info": {
   "codemirror_mode": {
    "name": "ipython",
    "version": 3
   },
   "file_extension": ".py",
   "mimetype": "text/x-python",
   "name": "python",
   "nbconvert_exporter": "python",
   "pygments_lexer": "ipython3",
   "version": "3.7.6"
  }
 },
 "nbformat": 4,
 "nbformat_minor": 4
}
