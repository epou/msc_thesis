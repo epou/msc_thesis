{
 "cells": [
  {
   "cell_type": "markdown",
   "metadata": {},
   "source": [
    "# Testing the architectures designed: depth 4, inital feature maps 16"
   ]
  },
  {
   "cell_type": "markdown",
   "metadata": {},
   "source": [
    "The goal of this notebook is to evaluate the architectures designed according as has been explained in the methodology section. To do so, the same workbench will be used to train and evaluate them under the same circumstances. As explained in the report, each architecture will be trained using both MSE and SSIM loss functions."
   ]
  },
  {
   "cell_type": "markdown",
   "metadata": {},
   "source": [
    "### (Previous preparation)"
   ]
  },
  {
   "cell_type": "code",
   "execution_count": 1,
   "metadata": {},
   "outputs": [],
   "source": [
    "import os\n",
    "import sys\n",
    "module_path = os.path.abspath(os.path.join('..'))\n",
    "if module_path not in sys.path:\n",
    "    sys.path.append(module_path)"
   ]
  },
  {
   "cell_type": "markdown",
   "metadata": {},
   "source": [
    "## Importing packages"
   ]
  },
  {
   "cell_type": "code",
   "execution_count": 2,
   "metadata": {},
   "outputs": [],
   "source": [
    "from src.helpers import load_experiment_workbench, use_gpu\n",
    "from src.models import AutoEncoder\n",
    "from src.models.autoencoder.modules.encoders.models import SimpleEncoder, ResnetEncoderv1, ResnetEncoderv2\n",
    "from src.trainer.metrics import psnr, ssim\n",
    "from src.trainer.losses import ssim as ssim_loss\n",
    "\n",
    "from tensorflow.keras import layers"
   ]
  },
  {
   "cell_type": "markdown",
   "metadata": {},
   "source": [
    "#### Enabling GPU"
   ]
  },
  {
   "cell_type": "code",
   "execution_count": 3,
   "metadata": {},
   "outputs": [
    {
     "name": "stdout",
     "output_type": "stream",
     "text": [
      "1 Physical GPUs, 1 Logical GPUs\n"
     ]
    }
   ],
   "source": [
    "use_gpu(True)"
   ]
  },
  {
   "cell_type": "markdown",
   "metadata": {},
   "source": [
    "### Creating a new workbench"
   ]
  },
  {
   "cell_type": "code",
   "execution_count": 4,
   "metadata": {},
   "outputs": [
    {
     "name": "stdout",
     "output_type": "stream",
     "text": [
      "Found 26305 validated image filenames.\n",
      "Found 26305 validated image filenames.\n",
      "Found 5573 validated image filenames.\n",
      "Found 5573 validated image filenames.\n",
      "Found 8039 validated image filenames.\n",
      "Found 8039 validated image filenames.\n"
     ]
    }
   ],
   "source": [
    "workbench = load_experiment_workbench(\"architectures_desgined_4fm\")"
   ]
  },
  {
   "cell_type": "markdown",
   "metadata": {},
   "source": [
    "### Define metrics"
   ]
  },
  {
   "cell_type": "code",
   "execution_count": 5,
   "metadata": {},
   "outputs": [],
   "source": [
    "metrics = [\n",
    "    \"mean_squared_error\",\n",
    "    psnr,\n",
    "    ssim\n",
    "]"
   ]
  },
  {
   "cell_type": "markdown",
   "metadata": {},
   "source": [
    "## Architectures"
   ]
  },
  {
   "cell_type": "markdown",
   "metadata": {},
   "source": [
    "### AutoEncoder (AE)"
   ]
  },
  {
   "cell_type": "markdown",
   "metadata": {},
   "source": [
    "#### Loss function: MSE"
   ]
  },
  {
   "cell_type": "code",
   "execution_count": 6,
   "metadata": {},
   "outputs": [],
   "source": [
    "ae_mse_model = AutoEncoder(\n",
    "    encoder=SimpleEncoder(depth=4, feature_maps=4),\n",
    "    name=\"ae_mse\",\n",
    ")(input_shape=workbench.image_shape)"
   ]
  },
  {
   "cell_type": "code",
   "execution_count": 7,
   "metadata": {},
   "outputs": [
    {
     "name": "stdout",
     "output_type": "stream",
     "text": [
      "WARNING:tensorflow:sample_weight modes were coerced from\n",
      "  ...\n",
      "    to  \n",
      "  ['...']\n",
      "WARNING:tensorflow:sample_weight modes were coerced from\n",
      "  ...\n",
      "    to  \n",
      "  ['...']\n",
      "Train for 1644 steps, validate for 348 steps\n",
      "Epoch 1/30\n",
      "1644/1644 [==============================] - 105s 64ms/step - loss: 0.0169 - mean_squared_error: 0.0169 - psnr: 19.5139 - ssim: 0.3292 - val_loss: 0.0083 - val_mean_squared_error: 0.0083 - val_psnr: 21.0252 - val_ssim: 0.3743\n",
      "Epoch 2/30\n",
      "1644/1644 [==============================] - 103s 62ms/step - loss: 0.0061 - mean_squared_error: 0.0061 - psnr: 22.4594 - ssim: 0.4668 - val_loss: 0.0059 - val_mean_squared_error: 0.0059 - val_psnr: 22.4963 - val_ssim: 0.5061\n",
      "Epoch 3/30\n",
      "1644/1644 [==============================] - 103s 63ms/step - loss: 0.0054 - mean_squared_error: 0.0054 - psnr: 23.0252 - ssim: 0.5533 - val_loss: 0.0051 - val_mean_squared_error: 0.0051 - val_psnr: 23.1644 - val_ssim: 0.5873\n",
      "Epoch 4/30\n",
      "1644/1644 [==============================] - 103s 63ms/step - loss: 0.0045 - mean_squared_error: 0.0045 - psnr: 23.6916 - ssim: 0.6324 - val_loss: 0.0043 - val_mean_squared_error: 0.0043 - val_psnr: 23.8441 - val_ssim: 0.6209\n",
      "Epoch 5/30\n",
      "1644/1644 [==============================] - 103s 63ms/step - loss: 0.0041 - mean_squared_error: 0.0041 - psnr: 24.1343 - ssim: 0.6858 - val_loss: 0.0041 - val_mean_squared_error: 0.0041 - val_psnr: 24.1546 - val_ssim: 0.6470\n",
      "Epoch 6/30\n",
      "1644/1644 [==============================] - 103s 63ms/step - loss: 0.0038 - mean_squared_error: 0.0038 - psnr: 24.4734 - ssim: 0.7102 - val_loss: 0.0037 - val_mean_squared_error: 0.0037 - val_psnr: 24.5652 - val_ssim: 0.7100\n",
      "Epoch 7/30\n",
      "1644/1644 [==============================] - 103s 63ms/step - loss: 0.0036 - mean_squared_error: 0.0036 - psnr: 24.7478 - ssim: 0.7255 - val_loss: 0.0034 - val_mean_squared_error: 0.0034 - val_psnr: 24.9141 - val_ssim: 0.7228\n",
      "Epoch 8/30\n",
      "1644/1644 [==============================] - 104s 63ms/step - loss: 0.0035 - mean_squared_error: 0.0035 - psnr: 24.9367 - ssim: 0.7349 - val_loss: 0.0033 - val_mean_squared_error: 0.0033 - val_psnr: 25.0594 - val_ssim: 0.7435\n",
      "Epoch 9/30\n",
      "1644/1644 [==============================] - 104s 63ms/step - loss: 0.0033 - mean_squared_error: 0.0033 - psnr: 25.0804 - ssim: 0.7437 - val_loss: 0.0033 - val_mean_squared_error: 0.0033 - val_psnr: 25.0717 - val_ssim: 0.7438\n",
      "Epoch 10/30\n",
      "1643/1644 [============================>.] - ETA: 0s - loss: 0.0032 - mean_squared_error: 0.0032 - psnr: 25.2412 - ssim: 0.7522\n",
      "Epoch 00010: ReduceLROnPlateau reducing learning rate to 0.00020000000949949026.\n",
      "1644/1644 [==============================] - 104s 63ms/step - loss: 0.0032 - mean_squared_error: 0.0032 - psnr: 25.2413 - ssim: 0.7522 - val_loss: 0.0035 - val_mean_squared_error: 0.0035 - val_psnr: 24.8661 - val_ssim: 0.7436\n",
      "Epoch 11/30\n",
      "1644/1644 [==============================] - 104s 63ms/step - loss: 0.0031 - mean_squared_error: 0.0031 - psnr: 25.3922 - ssim: 0.7591 - val_loss: 0.0032 - val_mean_squared_error: 0.0032 - val_psnr: 25.2210 - val_ssim: 0.7563\n",
      "Epoch 12/30\n",
      "1644/1644 [==============================] - 104s 63ms/step - loss: 0.0031 - mean_squared_error: 0.0031 - psnr: 25.4339 - ssim: 0.7618 - val_loss: 0.0031 - val_mean_squared_error: 0.0031 - val_psnr: 25.3348 - val_ssim: 0.7632\n",
      "Epoch 13/30\n",
      "1643/1644 [============================>.] - ETA: 0s - loss: 0.0031 - mean_squared_error: 0.0031 - psnr: 25.4595 - ssim: 0.7638\n",
      "Epoch 00013: ReduceLROnPlateau reducing learning rate to 4.0000001899898055e-05.\n",
      "1644/1644 [==============================] - 104s 63ms/step - loss: 0.0031 - mean_squared_error: 0.0031 - psnr: 25.4594 - ssim: 0.7638 - val_loss: 0.0031 - val_mean_squared_error: 0.0031 - val_psnr: 25.3053 - val_ssim: 0.7625\n",
      "Epoch 14/30\n",
      "1644/1644 [==============================] - 104s 63ms/step - loss: 0.0262 - mean_squared_error: 0.0262 - psnr: 16.0746 - ssim: 0.3406 - val_loss: 0.0208 - val_mean_squared_error: 0.0208 - val_psnr: 17.0322 - val_ssim: 0.3594\n",
      "Epoch 15/30\n",
      "1643/1644 [============================>.] - ETA: 0s - loss: 0.0044 - mean_squared_error: 0.0044 - psnr: 24.3895 - ssim: 0.7146\n",
      "Epoch 00015: ReduceLROnPlateau reducing learning rate to 8.000000525498762e-06.\n",
      "1644/1644 [==============================] - 104s 63ms/step - loss: 0.0044 - mean_squared_error: 0.0044 - psnr: 24.3907 - ssim: 0.7147 - val_loss: 0.0031 - val_mean_squared_error: 0.0031 - val_psnr: 25.3470 - val_ssim: 0.7624\n",
      "Epoch 16/30\n",
      "1644/1644 [==============================] - 104s 63ms/step - loss: 0.0031 - mean_squared_error: 0.0031 - psnr: 25.3952 - ssim: 0.7622 - val_loss: 0.0031 - val_mean_squared_error: 0.0031 - val_psnr: 25.3968 - val_ssim: 0.7625\n",
      "Epoch 17/30\n",
      "1644/1644 [==============================] - 104s 63ms/step - loss: 0.0031 - mean_squared_error: 0.0031 - psnr: 25.4444 - ssim: 0.7639 - val_loss: 0.0031 - val_mean_squared_error: 0.0031 - val_psnr: 25.4045 - val_ssim: 0.7632\n",
      "Epoch 18/30\n",
      "1643/1644 [============================>.] - ETA: 0s - loss: 0.0276 - mean_squared_error: 0.0276 - psnr: 15.8891 - ssim: 0.3497\n",
      "Epoch 00018: ReduceLROnPlateau reducing learning rate to 1.6000001778593287e-06.\n",
      "1644/1644 [==============================] - 104s 63ms/step - loss: 0.0276 - mean_squared_error: 0.0276 - psnr: 15.8893 - ssim: 0.3497 - val_loss: 0.0195 - val_mean_squared_error: 0.0195 - val_psnr: 17.2874 - val_ssim: 0.3857\n",
      "Epoch 19/30\n",
      "1644/1644 [==============================] - 104s 63ms/step - loss: 0.0126 - mean_squared_error: 0.0126 - psnr: 19.3700 - ssim: 0.4677 - val_loss: 0.0084 - val_mean_squared_error: 0.0084 - val_psnr: 20.9707 - val_ssim: 0.5355\n",
      "Epoch 20/30\n",
      "1643/1644 [============================>.] - ETA: 0s - loss: 0.0059 - mean_squared_error: 0.0059 - psnr: 22.5878 - ssim: 0.6131\n",
      "Epoch 00020: ReduceLROnPlateau reducing learning rate to 3.200000264769187e-07.\n",
      "Restoring model weights from the end of the best epoch.\n",
      "1644/1644 [==============================] - 104s 63ms/step - loss: 0.0059 - mean_squared_error: 0.0059 - psnr: 22.5884 - ssim: 0.6131 - val_loss: 0.0046 - val_mean_squared_error: 0.0046 - val_psnr: 23.5945 - val_ssim: 0.6607\n",
      "Epoch 00020: early stopping\n",
      "##############################\n",
      "              PSNR         SSIM\n",
      "count  8039.000000  8039.000000\n",
      "mean     25.510158     0.766205\n",
      "std       1.756497     0.038593\n",
      "min      16.749832     0.574584\n",
      "25%      24.373073     0.741632\n",
      "50%      25.133902     0.765347\n",
      "75%      26.533475     0.789236\n",
      "max      32.077438     0.874211\n",
      "##############################\n"
     ]
    }
   ],
   "source": [
    "ae_mse_model.compile(loss='mean_squared_error', optimizer = 'adam', metrics=metrics)\n",
    "ae_mse_fitted = workbench.run(model=ae_mse_model, epochs=30)"
   ]
  },
  {
   "cell_type": "markdown",
   "metadata": {},
   "source": [
    "#### Loss function: SSIM"
   ]
  },
  {
   "cell_type": "code",
   "execution_count": 8,
   "metadata": {},
   "outputs": [],
   "source": [
    "ae_ssim_model = AutoEncoder(\n",
    "    encoder=SimpleEncoder(depth=4, feature_maps=4),\n",
    "    name=\"ae_ssim\",\n",
    ")(input_shape=workbench.image_shape)"
   ]
  },
  {
   "cell_type": "code",
   "execution_count": 9,
   "metadata": {},
   "outputs": [
    {
     "name": "stdout",
     "output_type": "stream",
     "text": [
      "WARNING:tensorflow:sample_weight modes were coerced from\n",
      "  ...\n",
      "    to  \n",
      "  ['...']\n",
      "WARNING:tensorflow:sample_weight modes were coerced from\n",
      "  ...\n",
      "    to  \n",
      "  ['...']\n",
      "Train for 1644 steps, validate for 348 steps\n",
      "Epoch 1/30\n",
      "1644/1644 [==============================] - 115s 70ms/step - loss: 0.3757 - mean_squared_error: 0.0899 - psnr: 14.9610 - ssim: 0.6243 - val_loss: 0.2772 - val_mean_squared_error: 0.0256 - val_psnr: 17.4781 - val_ssim: 0.7228\n",
      "Epoch 2/30\n",
      "1644/1644 [==============================] - 114s 69ms/step - loss: 0.2198 - mean_squared_error: 0.0074 - psnr: 22.5174 - ssim: 0.7803 - val_loss: 0.2252 - val_mean_squared_error: 0.0093 - val_psnr: 21.7800 - val_ssim: 0.7748\n",
      "Epoch 3/30\n",
      "1644/1644 [==============================] - 114s 69ms/step - loss: 0.2046 - mean_squared_error: 0.0065 - psnr: 23.0312 - ssim: 0.7954 - val_loss: 0.5856 - val_mean_squared_error: 0.3648 - val_psnr: 4.5022 - val_ssim: 0.4144\n",
      "Epoch 4/30\n",
      "1644/1644 [==============================] - 114s 69ms/step - loss: 0.1953 - mean_squared_error: 0.0060 - psnr: 23.3953 - ssim: 0.8047 - val_loss: 0.1976 - val_mean_squared_error: 0.0065 - val_psnr: 23.4640 - val_ssim: 0.8024\n",
      "Epoch 5/30\n",
      "1644/1644 [==============================] - 114s 69ms/step - loss: 0.1919 - mean_squared_error: 0.0063 - psnr: 23.2957 - ssim: 0.8081 - val_loss: 0.2467 - val_mean_squared_error: 0.0052 - val_psnr: 23.7740 - val_ssim: 0.7533\n",
      "Epoch 6/30\n",
      "1644/1644 [==============================] - 114s 69ms/step - loss: 0.1889 - mean_squared_error: 0.0061 - psnr: 23.4453 - ssim: 0.8111 - val_loss: 0.1921 - val_mean_squared_error: 0.0052 - val_psnr: 23.8067 - val_ssim: 0.8079\n",
      "Epoch 7/30\n",
      "1644/1644 [==============================] - 114s 69ms/step - loss: 0.1831 - mean_squared_error: 0.0056 - psnr: 23.7195 - ssim: 0.8169 - val_loss: 0.2131 - val_mean_squared_error: 0.0052 - val_psnr: 23.7237 - val_ssim: 0.7869\n",
      "Epoch 8/30\n",
      "1643/1644 [============================>.] - ETA: 0s - loss: 0.1793 - mean_squared_error: 0.0054 - psnr: 23.8476 - ssim: 0.8207\n",
      "Epoch 00008: ReduceLROnPlateau reducing learning rate to 0.00020000000949949026.\n",
      "1644/1644 [==============================] - 114s 69ms/step - loss: 0.1793 - mean_squared_error: 0.0054 - psnr: 23.8484 - ssim: 0.8207 - val_loss: 0.2247 - val_mean_squared_error: 0.0048 - val_psnr: 24.0810 - val_ssim: 0.7754\n",
      "Epoch 9/30\n",
      "1644/1644 [==============================] - 114s 69ms/step - loss: 0.1748 - mean_squared_error: 0.0051 - psnr: 24.1064 - ssim: 0.8252 - val_loss: 0.1766 - val_mean_squared_error: 0.0048 - val_psnr: 24.4507 - val_ssim: 0.8234\n",
      "Epoch 10/30\n",
      "1644/1644 [==============================] - 114s 69ms/step - loss: 0.1743 - mean_squared_error: 0.0050 - psnr: 24.1212 - ssim: 0.8257 - val_loss: 0.1761 - val_mean_squared_error: 0.0050 - val_psnr: 24.2629 - val_ssim: 0.8239\n",
      "Epoch 11/30\n",
      "1644/1644 [==============================] - 114s 69ms/step - loss: 0.1735 - mean_squared_error: 0.0050 - psnr: 24.1388 - ssim: 0.8265 - val_loss: 0.1877 - val_mean_squared_error: 0.0043 - val_psnr: 24.6087 - val_ssim: 0.8122\n",
      "Epoch 12/30\n",
      "1644/1644 [==============================] - 114s 69ms/step - loss: 0.1724 - mean_squared_error: 0.0049 - psnr: 24.2039 - ssim: 0.8276 - val_loss: 0.1744 - val_mean_squared_error: 0.0045 - val_psnr: 24.4963 - val_ssim: 0.8256\n",
      "Epoch 13/30\n",
      "1644/1644 [==============================] - 114s 69ms/step - loss: 0.1728 - mean_squared_error: 0.0050 - psnr: 24.1698 - ssim: 0.8273 - val_loss: 0.1742 - val_mean_squared_error: 0.0046 - val_psnr: 24.4772 - val_ssim: 0.8257\n",
      "Epoch 14/30\n",
      "1644/1644 [==============================] - 114s 69ms/step - loss: 0.1714 - mean_squared_error: 0.0048 - psnr: 24.2936 - ssim: 0.8286 - val_loss: 0.1809 - val_mean_squared_error: 0.0043 - val_psnr: 24.6629 - val_ssim: 0.8191\n",
      "Epoch 15/30\n",
      "1643/1644 [============================>.] - ETA: 0s - loss: 0.1706 - mean_squared_error: 0.0047 - psnr: 24.3173 - ssim: 0.8294\n",
      "Epoch 00015: ReduceLROnPlateau reducing learning rate to 4.0000001899898055e-05.\n",
      "1644/1644 [==============================] - 114s 69ms/step - loss: 0.1706 - mean_squared_error: 0.0047 - psnr: 24.3175 - ssim: 0.8294 - val_loss: 0.1797 - val_mean_squared_error: 0.0042 - val_psnr: 24.6438 - val_ssim: 0.8203\n",
      "Epoch 16/30\n",
      "1644/1644 [==============================] - 114s 69ms/step - loss: 0.1699 - mean_squared_error: 0.0046 - psnr: 24.3826 - ssim: 0.8302 - val_loss: 0.1711 - val_mean_squared_error: 0.0045 - val_psnr: 24.5301 - val_ssim: 0.8289\n",
      "Epoch 17/30\n",
      "1644/1644 [==============================] - 114s 69ms/step - loss: 0.5854 - mean_squared_error: 0.0354 - psnr: 14.8642 - ssim: 0.4144 - val_loss: 0.5491 - val_mean_squared_error: 0.0291 - val_psnr: 15.6754 - val_ssim: 0.4508\n",
      "Epoch 18/30\n",
      "1643/1644 [============================>.] - ETA: 0s - loss: 0.1973 - mean_squared_error: 0.0061 - psnr: 23.7165 - ssim: 0.8029\n",
      "Epoch 00018: ReduceLROnPlateau reducing learning rate to 8.000000525498762e-06.\n",
      "1644/1644 [==============================] - 114s 69ms/step - loss: 0.1973 - mean_squared_error: 0.0061 - psnr: 23.7168 - ssim: 0.8029 - val_loss: 0.1724 - val_mean_squared_error: 0.0044 - val_psnr: 24.6436 - val_ssim: 0.8276\n",
      "Epoch 19/30\n",
      "1643/1644 [============================>.] - ETA: 0s - loss: 0.1702 - mean_squared_error: 0.0047 - psnr: 24.3734 - ssim: 0.8299Restoring model weights from the end of the best epoch.\n",
      "1644/1644 [==============================] - 114s 69ms/step - loss: 0.1702 - mean_squared_error: 0.0047 - psnr: 24.3735 - ssim: 0.8299 - val_loss: 0.1713 - val_mean_squared_error: 0.0045 - val_psnr: 24.5987 - val_ssim: 0.8287\n",
      "Epoch 00019: early stopping\n",
      "##############################\n",
      "              PSNR         SSIM\n",
      "count  8039.000000  8039.000000\n",
      "mean     24.564131     0.830344\n",
      "std       2.815815     0.036441\n",
      "min      13.356435     0.602038\n",
      "25%      23.766185     0.809227\n",
      "50%      24.698753     0.831937\n",
      "75%      26.261298     0.853623\n",
      "max      31.915178     0.918428\n",
      "##############################\n"
     ]
    }
   ],
   "source": [
    "ae_ssim_model.compile(loss=ssim_loss, optimizer = 'adam', metrics=metrics)\n",
    "ae_ssim_fitted = workbench.run(model=ae_ssim_model, epochs=30)"
   ]
  },
  {
   "cell_type": "markdown",
   "metadata": {},
   "source": [
    "### AE + Skippend Long Connections (AE+sLC)"
   ]
  },
  {
   "cell_type": "markdown",
   "metadata": {},
   "source": [
    "#### Loss function: MSE"
   ]
  },
  {
   "cell_type": "code",
   "execution_count": 10,
   "metadata": {},
   "outputs": [],
   "source": [
    "ae_slc_mse_model = AutoEncoder(\n",
    "    encoder=SimpleEncoder(depth=4, feature_maps=4),\n",
    "    name=\"ae_slc_mse\",\n",
    "    skip_long_connections_function=layers.add\n",
    ")(input_shape=workbench.image_shape)"
   ]
  },
  {
   "cell_type": "code",
   "execution_count": 11,
   "metadata": {},
   "outputs": [
    {
     "name": "stdout",
     "output_type": "stream",
     "text": [
      "WARNING:tensorflow:sample_weight modes were coerced from\n",
      "  ...\n",
      "    to  \n",
      "  ['...']\n",
      "WARNING:tensorflow:sample_weight modes were coerced from\n",
      "  ...\n",
      "    to  \n",
      "  ['...']\n",
      "Train for 1644 steps, validate for 348 steps\n",
      "Epoch 1/30\n",
      "1644/1644 [==============================] - 104s 63ms/step - loss: 0.0158 - mean_squared_error: 0.0158 - psnr: 21.5460 - ssim: 0.5338 - val_loss: 0.0032 - val_mean_squared_error: 0.0032 - val_psnr: 26.8168 - val_ssim: 0.6511\n",
      "Epoch 2/30\n",
      "1644/1644 [==============================] - 103s 62ms/step - loss: 0.0020 - mean_squared_error: 0.0020 - psnr: 28.5585 - ssim: 0.6996 - val_loss: 0.0037 - val_mean_squared_error: 0.0037 - val_psnr: 25.5516 - val_ssim: 0.7029\n",
      "Epoch 3/30\n",
      "1644/1644 [==============================] - 103s 62ms/step - loss: 0.0014 - mean_squared_error: 0.0014 - psnr: 30.1838 - ssim: 0.7700 - val_loss: 0.0011 - val_mean_squared_error: 0.0011 - val_psnr: 31.5047 - val_ssim: 0.7902\n",
      "Epoch 4/30\n",
      "1644/1644 [==============================] - 103s 63ms/step - loss: 0.0012 - mean_squared_error: 0.0012 - psnr: 31.1352 - ssim: 0.8481 - val_loss: 0.0010 - val_mean_squared_error: 0.0010 - val_psnr: 32.5869 - val_ssim: 0.8870\n",
      "Epoch 5/30\n",
      "1643/1644 [============================>.] - ETA: 0s - loss: 0.0011 - mean_squared_error: 0.0011 - psnr: 31.4485 - ssim: 0.8779\n",
      "Epoch 00005: ReduceLROnPlateau reducing learning rate to 0.00020000000949949026.\n",
      "1644/1644 [==============================] - 103s 63ms/step - loss: 0.0011 - mean_squared_error: 0.0011 - psnr: 31.4486 - ssim: 0.8779 - val_loss: 0.0011 - val_mean_squared_error: 0.0011 - val_psnr: 32.2434 - val_ssim: 0.8730\n",
      "Epoch 6/30\n",
      "1644/1644 [==============================] - 103s 63ms/step - loss: 0.0010 - mean_squared_error: 0.0010 - psnr: 31.8738 - ssim: 0.8926 - val_loss: 8.4732e-04 - val_mean_squared_error: 8.4361e-04 - val_psnr: 33.3486 - val_ssim: 0.9026\n",
      "Epoch 7/30\n",
      "1644/1644 [==============================] - 103s 62ms/step - loss: 9.8773e-04 - mean_squared_error: 9.8390e-04 - psnr: 32.1395 - ssim: 0.8971 - val_loss: 8.4991e-04 - val_mean_squared_error: 8.4936e-04 - val_psnr: 33.3709 - val_ssim: 0.8797\n",
      "Epoch 8/30\n",
      "1643/1644 [============================>.] - ETA: 0s - loss: 9.6517e-04 - mean_squared_error: 9.6337e-04 - psnr: 32.2306 - ssim: 0.8990\n",
      "Epoch 00008: ReduceLROnPlateau reducing learning rate to 4.0000001899898055e-05.\n",
      "1644/1644 [==============================] - 103s 63ms/step - loss: 9.6491e-04 - mean_squared_error: 9.6311e-04 - psnr: 32.2315 - ssim: 0.8990 - val_loss: 0.0011 - val_mean_squared_error: 0.0011 - val_psnr: 33.1723 - val_ssim: 0.9295\n",
      "Epoch 9/30\n",
      "1644/1644 [==============================] - 103s 63ms/step - loss: 9.2050e-04 - mean_squared_error: 9.1883e-04 - psnr: 32.4841 - ssim: 0.9006 - val_loss: 8.4497e-04 - val_mean_squared_error: 8.4634e-04 - val_psnr: 33.2740 - val_ssim: 0.8635\n",
      "Epoch 10/30\n",
      "1643/1644 [============================>.] - ETA: 0s - loss: 8.9284e-04 - mean_squared_error: 8.9320e-04 - psnr: 32.6860 - ssim: 0.9011\n",
      "Epoch 00010: ReduceLROnPlateau reducing learning rate to 8.000000525498762e-06.\n",
      "1644/1644 [==============================] - 103s 63ms/step - loss: 8.9310e-04 - mean_squared_error: 8.9346e-04 - psnr: 32.6848 - ssim: 0.9011 - val_loss: 8.1109e-04 - val_mean_squared_error: 8.0993e-04 - val_psnr: 33.6515 - val_ssim: 0.9212\n",
      "Epoch 11/30\n",
      "1644/1644 [==============================] - 103s 62ms/step - loss: 8.9413e-04 - mean_squared_error: 8.9266e-04 - psnr: 32.6922 - ssim: 0.9012 - val_loss: 7.9577e-04 - val_mean_squared_error: 7.9573e-04 - val_psnr: 33.7276 - val_ssim: 0.9127\n",
      "Epoch 12/30\n",
      "1643/1644 [============================>.] - ETA: 0s - loss: 8.8940e-04 - mean_squared_error: 8.8961e-04 - psnr: 32.7123 - ssim: 0.9014\n",
      "Epoch 00012: ReduceLROnPlateau reducing learning rate to 1.6000001778593287e-06.\n",
      "1644/1644 [==============================] - 103s 62ms/step - loss: 8.8940e-04 - mean_squared_error: 8.8961e-04 - psnr: 32.7124 - ssim: 0.9014 - val_loss: 7.9750e-04 - val_mean_squared_error: 7.9784e-04 - val_psnr: 33.6660 - val_ssim: 0.9009\n",
      "Epoch 13/30\n",
      "1644/1644 [==============================] - 102s 62ms/step - loss: 8.8372e-04 - mean_squared_error: 8.8130e-04 - psnr: 32.7470 - ssim: 0.9013 - val_loss: 8.1231e-04 - val_mean_squared_error: 8.1322e-04 - val_psnr: 33.5594 - val_ssim: 0.9034\n",
      "Epoch 14/30\n",
      "1643/1644 [============================>.] - ETA: 0s - loss: 0.0408 - mean_squared_error: 0.0408 - psnr: 14.1677 - ssim: 0.2647\n",
      "Epoch 00014: ReduceLROnPlateau reducing learning rate to 3.200000264769187e-07.\n",
      "Restoring model weights from the end of the best epoch.\n",
      "1644/1644 [==============================] - 103s 63ms/step - loss: 0.0408 - mean_squared_error: 0.0408 - psnr: 14.1679 - ssim: 0.2647 - val_loss: 0.0032 - val_mean_squared_error: 0.0032 - val_psnr: 25.5106 - val_ssim: 0.7820\n",
      "Epoch 00014: early stopping\n",
      "##############################\n",
      "              PSNR         SSIM\n",
      "count  8039.000000  8039.000000\n",
      "mean     33.696524     0.914904\n",
      "std       5.009089     0.048303\n",
      "min      17.134109     0.656572\n",
      "25%      29.253589     0.894661\n",
      "50%      34.170277     0.928802\n",
      "75%      39.045078     0.949613\n",
      "max      41.377853     0.977142\n",
      "##############################\n"
     ]
    }
   ],
   "source": [
    "ae_slc_mse_model.compile(loss='mean_squared_error', optimizer = 'adam', metrics=metrics)\n",
    "ae_slc_mse_fitted = workbench.run(model=ae_slc_mse_model, epochs=30)"
   ]
  },
  {
   "cell_type": "markdown",
   "metadata": {},
   "source": [
    "#### Loss function: SSIM"
   ]
  },
  {
   "cell_type": "code",
   "execution_count": 12,
   "metadata": {},
   "outputs": [],
   "source": [
    "ae_slc_ssim_model = AutoEncoder(\n",
    "    encoder=SimpleEncoder(depth=4, feature_maps=4),\n",
    "    name=\"ae_slc_ssim\",\n",
    "    skip_long_connections_function=layers.add\n",
    ")(input_shape=workbench.image_shape)"
   ]
  },
  {
   "cell_type": "code",
   "execution_count": 13,
   "metadata": {},
   "outputs": [
    {
     "name": "stdout",
     "output_type": "stream",
     "text": [
      "WARNING:tensorflow:sample_weight modes were coerced from\n",
      "  ...\n",
      "    to  \n",
      "  ['...']\n",
      "WARNING:tensorflow:sample_weight modes were coerced from\n",
      "  ...\n",
      "    to  \n",
      "  ['...']\n",
      "Train for 1644 steps, validate for 348 steps\n",
      "Epoch 1/30\n",
      "1644/1644 [==============================] - 117s 71ms/step - loss: 0.1515 - mean_squared_error: 0.0506 - psnr: 21.6863 - ssim: 0.8485 - val_loss: 0.1140 - val_mean_squared_error: 0.0025 - val_psnr: 30.4754 - val_ssim: 0.8860\n",
      "Epoch 2/30\n",
      "1644/1644 [==============================] - 116s 71ms/step - loss: 0.0506 - mean_squared_error: 0.0039 - psnr: 28.9556 - ssim: 0.9496 - val_loss: 0.1068 - val_mean_squared_error: 0.0028 - val_psnr: 29.2949 - val_ssim: 0.8932\n",
      "Epoch 3/30\n",
      "1644/1644 [==============================] - 116s 70ms/step - loss: 0.0445 - mean_squared_error: 0.0039 - psnr: 28.9967 - ssim: 0.9555 - val_loss: 0.0445 - val_mean_squared_error: 0.0032 - val_psnr: 30.0849 - val_ssim: 0.9555\n",
      "Epoch 4/30\n",
      "1644/1644 [==============================] - 116s 70ms/step - loss: 0.0413 - mean_squared_error: 0.0039 - psnr: 29.0825 - ssim: 0.9587 - val_loss: 0.0481 - val_mean_squared_error: 0.0039 - val_psnr: 28.4449 - val_ssim: 0.9520\n",
      "Epoch 5/30\n",
      "1643/1644 [============================>.] - ETA: 0s - loss: 0.0393 - mean_squared_error: 0.0038 - psnr: 29.1965 - ssim: 0.9607\n",
      "Epoch 00005: ReduceLROnPlateau reducing learning rate to 0.00020000000949949026.\n",
      "1644/1644 [==============================] - 116s 71ms/step - loss: 0.0393 - mean_squared_error: 0.0038 - psnr: 29.1962 - ssim: 0.9607 - val_loss: 0.0499 - val_mean_squared_error: 0.0027 - val_psnr: 30.0479 - val_ssim: 0.9501\n",
      "Epoch 6/30\n",
      "1644/1644 [==============================] - 116s 71ms/step - loss: 0.0364 - mean_squared_error: 0.0031 - psnr: 29.8321 - ssim: 0.9636 - val_loss: 0.0363 - val_mean_squared_error: 0.0019 - val_psnr: 30.9648 - val_ssim: 0.9638\n",
      "Epoch 7/30\n",
      "1644/1644 [==============================] - 116s 71ms/step - loss: 0.0352 - mean_squared_error: 0.0014 - psnr: 31.0513 - ssim: 0.9648 - val_loss: 0.0391 - val_mean_squared_error: 0.0014 - val_psnr: 31.4380 - val_ssim: 0.9609\n",
      "Epoch 8/30\n",
      "1644/1644 [==============================] - 116s 71ms/step - loss: 0.0342 - mean_squared_error: 0.0013 - psnr: 31.2776 - ssim: 0.9658 - val_loss: 0.0351 - val_mean_squared_error: 0.0013 - val_psnr: 31.7219 - val_ssim: 0.9649\n",
      "Epoch 9/30\n",
      "1644/1644 [==============================] - 116s 71ms/step - loss: 0.0334 - mean_squared_error: 0.0012 - psnr: 31.4360 - ssim: 0.9666 - val_loss: 0.0345 - val_mean_squared_error: 0.0011 - val_psnr: 31.5724 - val_ssim: 0.9655\n",
      "Epoch 10/30\n",
      "1644/1644 [==============================] - 116s 71ms/step - loss: 0.0329 - mean_squared_error: 0.0012 - psnr: 31.4907 - ssim: 0.9671 - val_loss: 0.0337 - val_mean_squared_error: 0.0011 - val_psnr: 31.9366 - val_ssim: 0.9663\n",
      "Epoch 11/30\n",
      "1644/1644 [==============================] - 116s 71ms/step - loss: 0.0327 - mean_squared_error: 0.0011 - psnr: 31.5774 - ssim: 0.9673 - val_loss: 0.0321 - val_mean_squared_error: 0.0010 - val_psnr: 32.1517 - val_ssim: 0.9679\n",
      "Epoch 12/30\n",
      "1644/1644 [==============================] - 116s 70ms/step - loss: 0.0325 - mean_squared_error: 0.0011 - psnr: 31.6112 - ssim: 0.9676 - val_loss: 0.0335 - val_mean_squared_error: 0.0012 - val_psnr: 31.7362 - val_ssim: 0.9665\n",
      "Epoch 13/30\n",
      "1643/1644 [============================>.] - ETA: 0s - loss: 0.0324 - mean_squared_error: 0.0011 - psnr: 31.6162 - ssim: 0.9677\n",
      "Epoch 00013: ReduceLROnPlateau reducing learning rate to 4.0000001899898055e-05.\n",
      "1644/1644 [==============================] - 116s 70ms/step - loss: 0.0324 - mean_squared_error: 0.0011 - psnr: 31.6162 - ssim: 0.9677 - val_loss: 0.0346 - val_mean_squared_error: 0.0012 - val_psnr: 31.6648 - val_ssim: 0.9654\n",
      "Epoch 14/30\n",
      "1644/1644 [==============================] - 116s 71ms/step - loss: 0.0321 - mean_squared_error: 0.0011 - psnr: 31.7151 - ssim: 0.9679 - val_loss: 0.0315 - val_mean_squared_error: 0.0010 - val_psnr: 32.0884 - val_ssim: 0.9685\n",
      "Epoch 15/30\n",
      "1644/1644 [==============================] - 116s 70ms/step - loss: 0.0320 - mean_squared_error: 0.0011 - psnr: 31.7171 - ssim: 0.9680 - val_loss: 0.0311 - val_mean_squared_error: 0.0010 - val_psnr: 32.1259 - val_ssim: 0.9689\n",
      "Epoch 16/30\n",
      "1644/1644 [==============================] - 116s 71ms/step - loss: 0.0317 - mean_squared_error: 0.0011 - psnr: 31.7585 - ssim: 0.9683 - val_loss: 0.0308 - val_mean_squared_error: 0.0010 - val_psnr: 32.1138 - val_ssim: 0.9692\n",
      "Epoch 17/30\n",
      "1644/1644 [==============================] - 116s 71ms/step - loss: 0.0321 - mean_squared_error: 0.0011 - psnr: 31.7332 - ssim: 0.9679 - val_loss: 0.0315 - val_mean_squared_error: 0.0010 - val_psnr: 32.1591 - val_ssim: 0.9684\n",
      "Epoch 18/30\n",
      "1643/1644 [============================>.] - ETA: 0s - loss: 0.0314 - mean_squared_error: 0.0011 - psnr: 31.8057 - ssim: 0.9687\n",
      "Epoch 00018: ReduceLROnPlateau reducing learning rate to 8.000000525498762e-06.\n",
      "1644/1644 [==============================] - 117s 71ms/step - loss: 0.0314 - mean_squared_error: 0.0011 - psnr: 31.8065 - ssim: 0.9687 - val_loss: 0.0309 - val_mean_squared_error: 9.9103e-04 - val_psnr: 32.1157 - val_ssim: 0.9691\n",
      "Epoch 19/30\n",
      "1643/1644 [============================>.] - ETA: 0s - loss: 0.0314 - mean_squared_error: 0.0011 - psnr: 31.8323 - ssim: 0.9686Restoring model weights from the end of the best epoch.\n",
      "1644/1644 [==============================] - 120s 73ms/step - loss: 0.0314 - mean_squared_error: 0.0011 - psnr: 31.8323 - ssim: 0.9686 - val_loss: 0.0313 - val_mean_squared_error: 0.0010 - val_psnr: 32.0584 - val_ssim: 0.9687\n",
      "Epoch 00019: early stopping\n",
      "##############################\n",
      "              PSNR         SSIM\n",
      "count  8039.000000  8039.000000\n",
      "mean     32.107965     0.968682\n",
      "std       4.666879     0.036406\n",
      "min      14.837831     0.727394\n",
      "25%      28.494632     0.952013\n",
      "50%      32.289661     0.985825\n",
      "75%      34.826202     0.996820\n",
      "max      46.536049     0.998226\n",
      "##############################\n"
     ]
    }
   ],
   "source": [
    "ae_slc_ssim_model.compile(loss=ssim_loss, optimizer = 'adam', metrics=metrics)\n",
    "ae_slc_ssim_fitted = workbench.run(model=ae_slc_ssim_model, epochs=30)"
   ]
  },
  {
   "cell_type": "markdown",
   "metadata": {},
   "source": [
    "### AE + Residual block (RB)"
   ]
  },
  {
   "cell_type": "markdown",
   "metadata": {},
   "source": [
    "#### Loss function: MSE"
   ]
  },
  {
   "cell_type": "code",
   "execution_count": 14,
   "metadata": {},
   "outputs": [],
   "source": [
    "ae_rb_mse_model = AutoEncoder(\n",
    "    encoder=ResnetEncoderv1(nb_list=[3,4,2], feature_maps=4),\n",
    "    name=\"ae_rb_mse\",\n",
    ")(input_shape=workbench.image_shape)"
   ]
  },
  {
   "cell_type": "code",
   "execution_count": 15,
   "metadata": {},
   "outputs": [
    {
     "name": "stdout",
     "output_type": "stream",
     "text": [
      "WARNING:tensorflow:sample_weight modes were coerced from\n",
      "  ...\n",
      "    to  \n",
      "  ['...']\n",
      "WARNING:tensorflow:sample_weight modes were coerced from\n",
      "  ...\n",
      "    to  \n",
      "  ['...']\n",
      "Train for 1644 steps, validate for 348 steps\n",
      "Epoch 1/30\n",
      "1644/1644 [==============================] - 138s 84ms/step - loss: 0.0132 - mean_squared_error: 0.0132 - psnr: 20.7180 - ssim: 0.3766 - val_loss: 0.0226 - val_mean_squared_error: 0.0226 - val_psnr: 16.8555 - val_ssim: 0.4151\n",
      "Epoch 2/30\n",
      "1644/1644 [==============================] - 136s 82ms/step - loss: 0.0043 - mean_squared_error: 0.0043 - psnr: 23.9674 - ssim: 0.5601 - val_loss: 0.0171 - val_mean_squared_error: 0.0171 - val_psnr: 18.0934 - val_ssim: 0.4628\n",
      "Epoch 3/30\n",
      "1644/1644 [==============================] - 136s 83ms/step - loss: 0.0034 - mean_squared_error: 0.0034 - psnr: 24.9876 - ssim: 0.6804 - val_loss: 0.0053 - val_mean_squared_error: 0.0053 - val_psnr: 22.9383 - val_ssim: 0.5226\n",
      "Epoch 4/30\n",
      "1644/1644 [==============================] - 136s 82ms/step - loss: 0.0028 - mean_squared_error: 0.0028 - psnr: 25.8850 - ssim: 0.7563 - val_loss: 0.0144 - val_mean_squared_error: 0.0144 - val_psnr: 18.6743 - val_ssim: 0.5264\n",
      "Epoch 5/30\n",
      "1644/1644 [==============================] - 136s 83ms/step - loss: 0.0025 - mean_squared_error: 0.0025 - psnr: 26.4135 - ssim: 0.7884 - val_loss: 0.0027 - val_mean_squared_error: 0.0027 - val_psnr: 26.0943 - val_ssim: 0.8241\n",
      "Epoch 6/30\n",
      "1644/1644 [==============================] - 136s 83ms/step - loss: 0.0022 - mean_squared_error: 0.0022 - psnr: 26.9176 - ssim: 0.8118 - val_loss: 0.0021 - val_mean_squared_error: 0.0021 - val_psnr: 27.2160 - val_ssim: 0.8241\n",
      "Epoch 7/30\n",
      "1644/1644 [==============================] - 136s 83ms/step - loss: 0.0021 - mean_squared_error: 0.0021 - psnr: 27.2619 - ssim: 0.8287 - val_loss: 0.0500 - val_mean_squared_error: 0.0499 - val_psnr: 13.4274 - val_ssim: 0.5407\n",
      "Epoch 8/30\n",
      "1643/1644 [============================>.] - ETA: 0s - loss: 0.0019 - mean_squared_error: 0.0019 - psnr: 27.5699 - ssim: 0.8407\n",
      "Epoch 00008: ReduceLROnPlateau reducing learning rate to 0.00020000000949949026.\n",
      "1644/1644 [==============================] - 136s 83ms/step - loss: 0.0019 - mean_squared_error: 0.0019 - psnr: 27.5702 - ssim: 0.8407 - val_loss: 0.0022 - val_mean_squared_error: 0.0022 - val_psnr: 27.0445 - val_ssim: 0.7856\n",
      "Epoch 9/30\n",
      "1643/1644 [============================>.] - ETA: 0s - loss: 0.0018 - mean_squared_error: 0.0018 - psnr: 27.8843 - ssim: 0.8496Restoring model weights from the end of the best epoch.\n",
      "1644/1644 [==============================] - 136s 82ms/step - loss: 0.0018 - mean_squared_error: 0.0018 - psnr: 27.8844 - ssim: 0.8496 - val_loss: 0.0023 - val_mean_squared_error: 0.0023 - val_psnr: 26.9202 - val_ssim: 0.7750\n",
      "Epoch 00009: early stopping\n",
      "##############################\n",
      "              PSNR         SSIM\n",
      "count  8039.000000  8039.000000\n",
      "mean     27.268375     0.826372\n",
      "std       2.036537     0.035489\n",
      "min      18.202339     0.643535\n",
      "25%      26.104866     0.809228\n",
      "50%      27.079639     0.829972\n",
      "75%      28.404779     0.845583\n",
      "max      33.906319     0.909685\n",
      "##############################\n"
     ]
    }
   ],
   "source": [
    "ae_rb_mse_model.compile(loss='mean_squared_error', optimizer = 'adam', metrics=metrics)\n",
    "ae_rb_mse_fitted = workbench.run(model=ae_rb_mse_model, epochs=30)"
   ]
  },
  {
   "cell_type": "markdown",
   "metadata": {},
   "source": [
    "#### Loss function: SSIM"
   ]
  },
  {
   "cell_type": "code",
   "execution_count": 16,
   "metadata": {},
   "outputs": [],
   "source": [
    "ae_rb_ssim_model = AutoEncoder(\n",
    "    encoder=ResnetEncoderv1(nb_list=[3,4,2], feature_maps=4),\n",
    "    name=\"ae_rb_ssim\",\n",
    ")(input_shape=workbench.image_shape)"
   ]
  },
  {
   "cell_type": "code",
   "execution_count": 17,
   "metadata": {},
   "outputs": [
    {
     "name": "stdout",
     "output_type": "stream",
     "text": [
      "WARNING:tensorflow:sample_weight modes were coerced from\n",
      "  ...\n",
      "    to  \n",
      "  ['...']\n",
      "WARNING:tensorflow:sample_weight modes were coerced from\n",
      "  ...\n",
      "    to  \n",
      "  ['...']\n",
      "Train for 1644 steps, validate for 348 steps\n",
      "Epoch 1/30\n",
      "1644/1644 [==============================] - 151s 92ms/step - loss: 0.2532 - mean_squared_error: 0.0206 - psnr: 21.2430 - ssim: 0.7468 - val_loss: 0.5202 - val_mean_squared_error: 0.0896 - val_psnr: 10.6909 - val_ssim: 0.4798\n",
      "Epoch 2/30\n",
      "1644/1644 [==============================] - 149s 91ms/step - loss: 0.1342 - mean_squared_error: 0.0029 - psnr: 25.8908 - ssim: 0.8658 - val_loss: 0.1809 - val_mean_squared_error: 0.0039 - val_psnr: 25.4686 - val_ssim: 0.8192\n",
      "Epoch 3/30\n",
      "1644/1644 [==============================] - 149s 90ms/step - loss: 0.1145 - mean_squared_error: 0.0025 - psnr: 26.6497 - ssim: 0.8855 - val_loss: 0.4849 - val_mean_squared_error: 0.0650 - val_psnr: 11.9600 - val_ssim: 0.5152\n",
      "Epoch 4/30\n",
      "1644/1644 [==============================] - 149s 91ms/step - loss: 0.1038 - mean_squared_error: 0.0023 - psnr: 27.0930 - ssim: 0.8962 - val_loss: 0.1523 - val_mean_squared_error: 0.0037 - val_psnr: 25.8656 - val_ssim: 0.8477\n",
      "Epoch 5/30\n",
      "1644/1644 [==============================] - 149s 90ms/step - loss: 0.0994 - mean_squared_error: 0.0022 - psnr: 27.3053 - ssim: 0.9006 - val_loss: 0.3611 - val_mean_squared_error: 0.0377 - val_psnr: 14.9426 - val_ssim: 0.6388\n",
      "Epoch 6/30\n",
      "1644/1644 [==============================] - 149s 91ms/step - loss: 0.0964 - mean_squared_error: 0.0021 - psnr: 27.4718 - ssim: 0.9036 - val_loss: 0.0991 - val_mean_squared_error: 0.0022 - val_psnr: 27.2858 - val_ssim: 0.9009\n",
      "Epoch 7/30\n",
      "1644/1644 [==============================] - 149s 91ms/step - loss: 0.0936 - mean_squared_error: 0.0020 - psnr: 27.6033 - ssim: 0.9064 - val_loss: 0.1039 - val_mean_squared_error: 0.0030 - val_psnr: 26.4537 - val_ssim: 0.8961\n",
      "Epoch 8/30\n",
      "1643/1644 [============================>.] - ETA: 0s - loss: 0.0904 - mean_squared_error: 0.0020 - psnr: 27.7258 - ssim: 0.9096\n",
      "Epoch 00008: ReduceLROnPlateau reducing learning rate to 0.00020000000949949026.\n",
      "1644/1644 [==============================] - 149s 91ms/step - loss: 0.0904 - mean_squared_error: 0.0020 - psnr: 27.7255 - ssim: 0.9096 - val_loss: 0.1344 - val_mean_squared_error: 0.0053 - val_psnr: 23.6849 - val_ssim: 0.8656\n",
      "Epoch 9/30\n",
      "1644/1644 [==============================] - 149s 90ms/step - loss: 0.0867 - mean_squared_error: 0.0018 - psnr: 27.9888 - ssim: 0.9133 - val_loss: 0.0919 - val_mean_squared_error: 0.0025 - val_psnr: 27.6339 - val_ssim: 0.9081\n",
      "Epoch 10/30\n",
      "1644/1644 [==============================] - 149s 90ms/step - loss: 0.0859 - mean_squared_error: 0.0018 - psnr: 28.0331 - ssim: 0.9141 - val_loss: 0.0915 - val_mean_squared_error: 0.0027 - val_psnr: 27.4223 - val_ssim: 0.9086\n",
      "Epoch 11/30\n",
      "1644/1644 [==============================] - 149s 90ms/step - loss: 0.0856 - mean_squared_error: 0.0018 - psnr: 28.0506 - ssim: 0.9144 - val_loss: 0.0982 - val_mean_squared_error: 0.0030 - val_psnr: 26.0641 - val_ssim: 0.9018\n",
      "Epoch 12/30\n",
      "1644/1644 [==============================] - 149s 91ms/step - loss: 0.0852 - mean_squared_error: 0.0018 - psnr: 28.0769 - ssim: 0.9148 - val_loss: 0.0911 - val_mean_squared_error: 0.0025 - val_psnr: 26.5859 - val_ssim: 0.9089\n",
      "Epoch 13/30\n",
      "1644/1644 [==============================] - 149s 91ms/step - loss: 0.0844 - mean_squared_error: 0.0018 - psnr: 28.1061 - ssim: 0.9156 - val_loss: 0.0855 - val_mean_squared_error: 0.0018 - val_psnr: 28.0345 - val_ssim: 0.9144\n",
      "Epoch 14/30\n",
      "1644/1644 [==============================] - 149s 91ms/step - loss: 0.0841 - mean_squared_error: 0.0018 - psnr: 28.1357 - ssim: 0.9159 - val_loss: 0.0992 - val_mean_squared_error: 0.0023 - val_psnr: 27.4315 - val_ssim: 0.9008\n",
      "Epoch 15/30\n",
      "1643/1644 [============================>.] - ETA: 0s - loss: 0.0838 - mean_squared_error: 0.0018 - psnr: 28.1898 - ssim: 0.9163\n",
      "Epoch 00015: ReduceLROnPlateau reducing learning rate to 4.0000001899898055e-05.\n",
      "1644/1644 [==============================] - 149s 90ms/step - loss: 0.0838 - mean_squared_error: 0.0018 - psnr: 28.1885 - ssim: 0.9162 - val_loss: 0.0893 - val_mean_squared_error: 0.0026 - val_psnr: 27.4323 - val_ssim: 0.9107\n",
      "Epoch 16/30\n",
      "1644/1644 [==============================] - 149s 91ms/step - loss: 0.0831 - mean_squared_error: 0.0018 - psnr: 28.2176 - ssim: 0.9169 - val_loss: 0.0845 - val_mean_squared_error: 0.0020 - val_psnr: 28.0423 - val_ssim: 0.9155\n",
      "Epoch 17/30\n",
      "1644/1644 [==============================] - 149s 90ms/step - loss: 0.0828 - mean_squared_error: 0.0017 - psnr: 28.2435 - ssim: 0.9172 - val_loss: 0.0847 - val_mean_squared_error: 0.0019 - val_psnr: 28.2789 - val_ssim: 0.9153\n",
      "Epoch 18/30\n",
      "1644/1644 [==============================] - 149s 90ms/step - loss: 0.0829 - mean_squared_error: 0.0017 - psnr: 28.2683 - ssim: 0.9171 - val_loss: 0.0837 - val_mean_squared_error: 0.0016 - val_psnr: 28.6844 - val_ssim: 0.9162\n",
      "Epoch 19/30\n",
      "1644/1644 [==============================] - 149s 91ms/step - loss: 0.0828 - mean_squared_error: 0.0017 - psnr: 28.2506 - ssim: 0.9173 - val_loss: 0.0855 - val_mean_squared_error: 0.0022 - val_psnr: 28.0624 - val_ssim: 0.9145\n",
      "Epoch 20/30\n",
      "1643/1644 [============================>.] - ETA: 0s - loss: 0.0826 - mean_squared_error: 0.0017 - psnr: 28.2584 - ssim: 0.9174\n",
      "Epoch 00020: ReduceLROnPlateau reducing learning rate to 8.000000525498762e-06.\n",
      "1644/1644 [==============================] - 149s 91ms/step - loss: 0.0826 - mean_squared_error: 0.0017 - psnr: 28.2592 - ssim: 0.9174 - val_loss: 0.0842 - val_mean_squared_error: 0.0019 - val_psnr: 28.2801 - val_ssim: 0.9158\n",
      "Epoch 21/30\n",
      "1643/1644 [============================>.] - ETA: 0s - loss: 0.0826 - mean_squared_error: 0.0017 - psnr: 28.2647 - ssim: 0.9174Restoring model weights from the end of the best epoch.\n",
      "1644/1644 [==============================] - 149s 91ms/step - loss: 0.0826 - mean_squared_error: 0.0017 - psnr: 28.2649 - ssim: 0.9174 - val_loss: 0.0842 - val_mean_squared_error: 0.0019 - val_psnr: 28.3566 - val_ssim: 0.9158\n",
      "Epoch 00021: early stopping\n",
      "##############################\n",
      "              PSNR         SSIM\n",
      "count  8039.000000  8039.000000\n",
      "mean     28.739060     0.917257\n",
      "std       2.358071     0.027835\n",
      "min      18.569393     0.696777\n",
      "25%      27.510934     0.906568\n",
      "50%      28.625376     0.922302\n",
      "75%      30.112385     0.934898\n",
      "max      36.167973     0.966976\n",
      "##############################\n"
     ]
    }
   ],
   "source": [
    "ae_rb_ssim_model.compile(loss=ssim_loss, optimizer = 'adam', metrics=metrics)\n",
    "ae_rb_ssim_fitted = workbench.run(model=ae_rb_ssim_model, epochs=30)"
   ]
  },
  {
   "cell_type": "markdown",
   "metadata": {},
   "source": [
    "### AE + sLC + RB (v1)"
   ]
  },
  {
   "cell_type": "markdown",
   "metadata": {},
   "source": [
    "#### Loss function: MSE"
   ]
  },
  {
   "cell_type": "code",
   "execution_count": 18,
   "metadata": {},
   "outputs": [],
   "source": [
    "ae_slc_rb_mse_model_v1 = AutoEncoder(\n",
    "    encoder=ResnetEncoderv1(nb_list=[3,4,2], feature_maps=4),\n",
    "    name=\"ae_slc_rb_mse_v1\",\n",
    "    skip_long_connections_function=layers.add\n",
    ")(input_shape=workbench.image_shape)"
   ]
  },
  {
   "cell_type": "code",
   "execution_count": 19,
   "metadata": {},
   "outputs": [
    {
     "name": "stdout",
     "output_type": "stream",
     "text": [
      "WARNING:tensorflow:sample_weight modes were coerced from\n",
      "  ...\n",
      "    to  \n",
      "  ['...']\n",
      "WARNING:tensorflow:sample_weight modes were coerced from\n",
      "  ...\n",
      "    to  \n",
      "  ['...']\n",
      "Train for 1644 steps, validate for 348 steps\n",
      "Epoch 1/30\n",
      "1644/1644 [==============================] - 138s 84ms/step - loss: 0.0106 - mean_squared_error: 0.0106 - psnr: 22.9907 - ssim: 0.5481 - val_loss: 0.0030 - val_mean_squared_error: 0.0030 - val_psnr: 26.4219 - val_ssim: 0.6689\n",
      "Epoch 2/30\n",
      "1644/1644 [==============================] - 136s 83ms/step - loss: 0.0019 - mean_squared_error: 0.0019 - psnr: 27.7446 - ssim: 0.7294 - val_loss: 0.0025 - val_mean_squared_error: 0.0025 - val_psnr: 27.9447 - val_ssim: 0.7924\n",
      "Epoch 3/30\n",
      "1644/1644 [==============================] - 136s 83ms/step - loss: 0.0016 - mean_squared_error: 0.0016 - psnr: 28.6099 - ssim: 0.8178 - val_loss: 0.0019 - val_mean_squared_error: 0.0019 - val_psnr: 27.8965 - val_ssim: 0.7394\n",
      "Epoch 4/30\n",
      "1644/1644 [==============================] - 136s 83ms/step - loss: 0.0014 - mean_squared_error: 0.0014 - psnr: 29.3027 - ssim: 0.8558 - val_loss: 0.0016 - val_mean_squared_error: 0.0016 - val_psnr: 28.7828 - val_ssim: 0.8775\n",
      "Epoch 5/30\n",
      "1644/1644 [==============================] - 136s 83ms/step - loss: 0.0013 - mean_squared_error: 0.0013 - psnr: 29.7840 - ssim: 0.8907 - val_loss: 0.0021 - val_mean_squared_error: 0.0021 - val_psnr: 27.2698 - val_ssim: 0.8669\n",
      "Epoch 6/30\n",
      "1644/1644 [==============================] - 136s 83ms/step - loss: 0.0012 - mean_squared_error: 0.0012 - psnr: 30.0394 - ssim: 0.9017 - val_loss: 0.0013 - val_mean_squared_error: 0.0013 - val_psnr: 29.7059 - val_ssim: 0.8559\n",
      "Epoch 7/30\n",
      "1644/1644 [==============================] - 136s 83ms/step - loss: 0.0012 - mean_squared_error: 0.0012 - psnr: 30.2356 - ssim: 0.9068 - val_loss: 0.0011 - val_mean_squared_error: 0.0011 - val_psnr: 30.5679 - val_ssim: 0.9113\n",
      "Epoch 8/30\n",
      "1644/1644 [==============================] - 136s 83ms/step - loss: 0.0011 - mean_squared_error: 0.0011 - psnr: 30.4629 - ssim: 0.9108 - val_loss: 0.0075 - val_mean_squared_error: 0.0075 - val_psnr: 22.1252 - val_ssim: 0.7093\n",
      "Epoch 9/30\n",
      "1643/1644 [============================>.] - ETA: 0s - loss: 0.0011 - mean_squared_error: 0.0011 - psnr: 30.6049 - ssim: 0.9120\n",
      "Epoch 00009: ReduceLROnPlateau reducing learning rate to 0.00020000000949949026.\n",
      "1644/1644 [==============================] - 136s 83ms/step - loss: 0.0011 - mean_squared_error: 0.0011 - psnr: 30.6052 - ssim: 0.9120 - val_loss: 0.0013 - val_mean_squared_error: 0.0013 - val_psnr: 29.5772 - val_ssim: 0.9109\n",
      "Epoch 10/30\n",
      "1644/1644 [==============================] - 136s 83ms/step - loss: 0.0010 - mean_squared_error: 0.0010 - psnr: 30.8457 - ssim: 0.9160 - val_loss: 9.4521e-04 - val_mean_squared_error: 9.4585e-04 - val_psnr: 31.2601 - val_ssim: 0.9194\n",
      "Epoch 11/30\n",
      "1644/1644 [==============================] - 136s 83ms/step - loss: 0.0010 - mean_squared_error: 0.0010 - psnr: 30.8340 - ssim: 0.9164 - val_loss: 9.6867e-04 - val_mean_squared_error: 9.6928e-04 - val_psnr: 31.1576 - val_ssim: 0.9044\n",
      "Epoch 12/30\n",
      "1643/1644 [============================>.] - ETA: 0s - loss: 0.0010 - mean_squared_error: 0.0010 - psnr: 30.8926 - ssim: 0.9175\n",
      "Epoch 00012: ReduceLROnPlateau reducing learning rate to 4.0000001899898055e-05.\n",
      "1644/1644 [==============================] - 136s 83ms/step - loss: 0.0010 - mean_squared_error: 0.0010 - psnr: 30.8933 - ssim: 0.9175 - val_loss: 9.1109e-04 - val_mean_squared_error: 9.0918e-04 - val_psnr: 31.4352 - val_ssim: 0.9168\n",
      "Epoch 13/30\n",
      "1644/1644 [==============================] - 136s 83ms/step - loss: 0.0010 - mean_squared_error: 0.0010 - psnr: 30.9563 - ssim: 0.9177 - val_loss: 9.0460e-04 - val_mean_squared_error: 9.0484e-04 - val_psnr: 31.4895 - val_ssim: 0.9226\n",
      "Epoch 14/30\n",
      "1643/1644 [============================>.] - ETA: 0s - loss: 9.9732e-04 - mean_squared_error: 9.9647e-04 - psnr: 31.0004 - ssim: 0.9182\n",
      "Epoch 00014: ReduceLROnPlateau reducing learning rate to 8.000000525498762e-06.\n",
      "1644/1644 [==============================] - 136s 83ms/step - loss: 9.9722e-04 - mean_squared_error: 9.9637e-04 - psnr: 31.0006 - ssim: 0.9182 - val_loss: 9.0689e-04 - val_mean_squared_error: 9.0600e-04 - val_psnr: 31.4421 - val_ssim: 0.9217\n",
      "Epoch 15/30\n",
      "1644/1644 [==============================] - 136s 83ms/step - loss: 0.0010 - mean_squared_error: 9.9813e-04 - psnr: 30.9735 - ssim: 0.9184 - val_loss: 9.1580e-04 - val_mean_squared_error: 9.1348e-04 - val_psnr: 31.4462 - val_ssim: 0.9209\n",
      "Epoch 16/30\n",
      "1643/1644 [============================>.] - ETA: 0s - loss: 9.9500e-04 - mean_squared_error: 9.9277e-04 - psnr: 30.9979 - ssim: 0.9187\n",
      "Epoch 00016: ReduceLROnPlateau reducing learning rate to 1.6000001778593287e-06.\n",
      "1644/1644 [==============================] - 136s 83ms/step - loss: 9.9474e-04 - mean_squared_error: 9.9251e-04 - psnr: 30.9990 - ssim: 0.9187 - val_loss: 9.0194e-04 - val_mean_squared_error: 9.0200e-04 - val_psnr: 31.4805 - val_ssim: 0.9200\n",
      "Epoch 17/30\n",
      "1644/1644 [==============================] - 136s 83ms/step - loss: 0.0010 - mean_squared_error: 0.0010 - psnr: 30.9648 - ssim: 0.9182 - val_loss: 9.1527e-04 - val_mean_squared_error: 9.1540e-04 - val_psnr: 31.4603 - val_ssim: 0.9209\n",
      "Epoch 18/30\n",
      "1643/1644 [============================>.] - ETA: 0s - loss: 9.9351e-04 - mean_squared_error: 9.9205e-04 - psnr: 31.0037 - ssim: 0.9188\n",
      "Epoch 00018: ReduceLROnPlateau reducing learning rate to 3.200000264769187e-07.\n",
      "1644/1644 [==============================] - 136s 83ms/step - loss: 9.9359e-04 - mean_squared_error: 9.9214e-04 - psnr: 31.0035 - ssim: 0.9188 - val_loss: 8.8824e-04 - val_mean_squared_error: 8.8793e-04 - val_psnr: 31.5504 - val_ssim: 0.9214\n",
      "Epoch 19/30\n",
      "1644/1644 [==============================] - 136s 83ms/step - loss: 9.9613e-04 - mean_squared_error: 9.9474e-04 - psnr: 30.9961 - ssim: 0.9188 - val_loss: 9.1861e-04 - val_mean_squared_error: 9.1892e-04 - val_psnr: 31.4517 - val_ssim: 0.9210\n",
      "Epoch 20/30\n",
      "1643/1644 [============================>.] - ETA: 0s - loss: 9.9989e-04 - mean_squared_error: 9.9985e-04 - psnr: 30.9705 - ssim: 0.9185\n",
      "Epoch 00020: ReduceLROnPlateau reducing learning rate to 6.400000529538374e-08.\n",
      "1644/1644 [==============================] - 136s 83ms/step - loss: 9.9992e-04 - mean_squared_error: 9.9989e-04 - psnr: 30.9704 - ssim: 0.9185 - val_loss: 9.0292e-04 - val_mean_squared_error: 9.0343e-04 - val_psnr: 31.5006 - val_ssim: 0.9212\n",
      "Epoch 21/30\n",
      "1643/1644 [============================>.] - ETA: 0s - loss: 0.0010 - mean_squared_error: 9.9990e-04 - psnr: 30.9648 - ssim: 0.9186Restoring model weights from the end of the best epoch.\n",
      "1644/1644 [==============================] - 136s 83ms/step - loss: 0.0010 - mean_squared_error: 9.9969e-04 - psnr: 30.9654 - ssim: 0.9185 - val_loss: 9.1849e-04 - val_mean_squared_error: 9.1794e-04 - val_psnr: 31.4195 - val_ssim: 0.9202\n",
      "Epoch 00021: early stopping\n",
      "##############################\n",
      "              PSNR         SSIM\n",
      "count  8039.000000  8039.000000\n",
      "mean     31.523487     0.922433\n",
      "std       2.981854     0.032908\n",
      "min      19.885765     0.731861\n",
      "25%      29.570480     0.911957\n",
      "50%      31.915670     0.930231\n",
      "75%      33.460545     0.945564\n",
      "max      39.590225     0.968632\n",
      "##############################\n"
     ]
    }
   ],
   "source": [
    "ae_slc_rb_mse_model_v1.compile(loss='mean_squared_error', optimizer = 'adam', metrics=metrics)\n",
    "ae_slc_rb_mse_v1_fitted = workbench.run(model=ae_slc_rb_mse_model_v1, epochs=30)"
   ]
  },
  {
   "cell_type": "markdown",
   "metadata": {},
   "source": [
    "#### Loss function: SSIM"
   ]
  },
  {
   "cell_type": "code",
   "execution_count": 20,
   "metadata": {},
   "outputs": [],
   "source": [
    "ae_slc_rb_ssim_model_v1 = AutoEncoder(\n",
    "    encoder=ResnetEncoderv1(nb_list=[3,4,2], feature_maps=4),\n",
    "    name=\"ae_slc_rb_ssim_v1\",\n",
    "    skip_long_connections_function=layers.add\n",
    ")(input_shape=workbench.image_shape)"
   ]
  },
  {
   "cell_type": "code",
   "execution_count": 21,
   "metadata": {},
   "outputs": [
    {
     "name": "stdout",
     "output_type": "stream",
     "text": [
      "WARNING:tensorflow:sample_weight modes were coerced from\n",
      "  ...\n",
      "    to  \n",
      "  ['...']\n",
      "WARNING:tensorflow:sample_weight modes were coerced from\n",
      "  ...\n",
      "    to  \n",
      "  ['...']\n",
      "Train for 1644 steps, validate for 348 steps\n",
      "Epoch 1/30\n",
      "1644/1644 [==============================] - 152s 93ms/step - loss: 0.1758 - mean_squared_error: 0.0435 - psnr: 20.2239 - ssim: 0.8242 - val_loss: 0.1030 - val_mean_squared_error: 0.0032 - val_psnr: 27.1112 - val_ssim: 0.8970\n",
      "Epoch 2/30\n",
      "1644/1644 [==============================] - 149s 91ms/step - loss: 0.0839 - mean_squared_error: 0.0039 - psnr: 26.0151 - ssim: 0.9161 - val_loss: 0.0956 - val_mean_squared_error: 0.0045 - val_psnr: 24.6358 - val_ssim: 0.9044\n",
      "Epoch 3/30\n",
      "1644/1644 [==============================] - 150s 91ms/step - loss: 0.0738 - mean_squared_error: 0.0034 - psnr: 26.8876 - ssim: 0.9262 - val_loss: 0.1166 - val_mean_squared_error: 0.0051 - val_psnr: 24.4267 - val_ssim: 0.8834\n",
      "Epoch 4/30\n",
      "1643/1644 [============================>.] - ETA: 0s - loss: 0.0679 - mean_squared_error: 0.0031 - psnr: 27.4362 - ssim: 0.9321\n",
      "Epoch 00004: ReduceLROnPlateau reducing learning rate to 0.00020000000949949026.\n",
      "1644/1644 [==============================] - 150s 91ms/step - loss: 0.0679 - mean_squared_error: 0.0031 - psnr: 27.4351 - ssim: 0.9321 - val_loss: 0.3328 - val_mean_squared_error: 0.0046 - val_psnr: 24.2485 - val_ssim: 0.6671\n",
      "Epoch 5/30\n",
      "1644/1644 [==============================] - 150s 91ms/step - loss: 0.0651 - mean_squared_error: 0.0031 - psnr: 27.6029 - ssim: 0.9349 - val_loss: 0.0649 - val_mean_squared_error: 0.0031 - val_psnr: 27.8026 - val_ssim: 0.9352\n",
      "Epoch 6/30\n",
      "1644/1644 [==============================] - 150s 91ms/step - loss: 0.0646 - mean_squared_error: 0.0030 - psnr: 27.7741 - ssim: 0.9354 - val_loss: 0.0686 - val_mean_squared_error: 0.0030 - val_psnr: 27.7327 - val_ssim: 0.9314\n",
      "Epoch 7/30\n",
      "1643/1644 [============================>.] - ETA: 0s - loss: 0.0641 - mean_squared_error: 0.0030 - psnr: 27.8236 - ssim: 0.9358\n",
      "Epoch 00007: ReduceLROnPlateau reducing learning rate to 4.0000001899898055e-05.\n",
      "1644/1644 [==============================] - 150s 91ms/step - loss: 0.0641 - mean_squared_error: 0.0030 - psnr: 27.8230 - ssim: 0.9358 - val_loss: 0.0665 - val_mean_squared_error: 0.0030 - val_psnr: 28.0587 - val_ssim: 0.9335\n",
      "Epoch 8/30\n",
      "1644/1644 [==============================] - 149s 91ms/step - loss: 0.0632 - mean_squared_error: 0.0030 - psnr: 27.9673 - ssim: 0.9368 - val_loss: 0.0630 - val_mean_squared_error: 0.0029 - val_psnr: 28.1864 - val_ssim: 0.9371\n",
      "Epoch 9/30\n",
      "1644/1644 [==============================] - 149s 91ms/step - loss: 0.0631 - mean_squared_error: 0.0029 - psnr: 28.0256 - ssim: 0.9369 - val_loss: 0.0626 - val_mean_squared_error: 0.0028 - val_psnr: 28.3078 - val_ssim: 0.9374\n",
      "Epoch 10/30\n",
      "1644/1644 [==============================] - 149s 91ms/step - loss: 0.0628 - mean_squared_error: 0.0030 - psnr: 28.0229 - ssim: 0.9372 - val_loss: 0.0621 - val_mean_squared_error: 0.0028 - val_psnr: 28.2635 - val_ssim: 0.9378\n",
      "Epoch 11/30\n",
      "1644/1644 [==============================] - 149s 91ms/step - loss: 0.0631 - mean_squared_error: 0.0030 - psnr: 28.0134 - ssim: 0.9370 - val_loss: 0.0619 - val_mean_squared_error: 0.0028 - val_psnr: 28.2769 - val_ssim: 0.9381\n",
      "Epoch 12/30\n",
      "1644/1644 [==============================] - 150s 91ms/step - loss: 0.0624 - mean_squared_error: 0.0029 - psnr: 28.0458 - ssim: 0.9376 - val_loss: 0.0631 - val_mean_squared_error: 0.0029 - val_psnr: 28.2431 - val_ssim: 0.9369\n",
      "Epoch 13/30\n",
      "1644/1644 [==============================] - 150s 91ms/step - loss: 0.0625 - mean_squared_error: 0.0030 - psnr: 28.0857 - ssim: 0.9375 - val_loss: 0.0613 - val_mean_squared_error: 0.0028 - val_psnr: 28.3099 - val_ssim: 0.9387\n",
      "Epoch 14/30\n",
      "1644/1644 [==============================] - 150s 91ms/step - loss: 0.0625 - mean_squared_error: 0.0029 - psnr: 28.1004 - ssim: 0.9375 - val_loss: 0.0621 - val_mean_squared_error: 0.0028 - val_psnr: 28.3306 - val_ssim: 0.9379\n",
      "Epoch 15/30\n",
      "1643/1644 [============================>.] - ETA: 0s - loss: 0.0620 - mean_squared_error: 0.0029 - psnr: 28.1375 - ssim: 0.9381\n",
      "Epoch 00015: ReduceLROnPlateau reducing learning rate to 8.000000525498762e-06.\n",
      "1644/1644 [==============================] - 150s 91ms/step - loss: 0.0620 - mean_squared_error: 0.0029 - psnr: 28.1376 - ssim: 0.9381 - val_loss: 0.0638 - val_mean_squared_error: 0.0030 - val_psnr: 28.1641 - val_ssim: 0.9362\n",
      "Epoch 16/30\n",
      "1643/1644 [============================>.] - ETA: 0s - loss: 0.0620 - mean_squared_error: 0.0029 - psnr: 28.1690 - ssim: 0.9380Restoring model weights from the end of the best epoch.\n",
      "1644/1644 [==============================] - 149s 91ms/step - loss: 0.0620 - mean_squared_error: 0.0029 - psnr: 28.1700 - ssim: 0.9380 - val_loss: 0.0616 - val_mean_squared_error: 0.0029 - val_psnr: 28.2651 - val_ssim: 0.9383\n",
      "Epoch 00016: early stopping\n",
      "##############################\n",
      "              PSNR         SSIM\n",
      "count  8039.000000  8039.000000\n",
      "mean     28.321563     0.938758\n",
      "std       4.607661     0.038498\n",
      "min      13.221561     0.725550\n",
      "25%      25.915202     0.923195\n",
      "50%      29.307419     0.952854\n",
      "75%      31.123399     0.965264\n",
      "max      38.529175     0.984288\n",
      "##############################\n"
     ]
    }
   ],
   "source": [
    "ae_slc_rb_ssim_model_v1.compile(loss=ssim_loss, optimizer = 'adam', metrics=metrics)\n",
    "ae_slc_rb_ssim_v1_fitted = workbench.run(model=ae_slc_rb_ssim_model_v1, epochs=30)"
   ]
  },
  {
   "cell_type": "markdown",
   "metadata": {},
   "source": [
    "### AE + sLC + RB (v2)"
   ]
  },
  {
   "cell_type": "markdown",
   "metadata": {},
   "source": [
    "#### Loss function: MSE"
   ]
  },
  {
   "cell_type": "code",
   "execution_count": 22,
   "metadata": {},
   "outputs": [],
   "source": [
    "ae_slc_rb_mse_model_v2 = AutoEncoder(\n",
    "    encoder=ResnetEncoderv2(nb_list=[3,4,2], feature_maps=4),\n",
    "    name=\"ae_slc_rb_mse_v2\",\n",
    "    skip_long_connections_function=layers.add\n",
    ")(input_shape=workbench.image_shape)"
   ]
  },
  {
   "cell_type": "code",
   "execution_count": 23,
   "metadata": {},
   "outputs": [
    {
     "name": "stdout",
     "output_type": "stream",
     "text": [
      "WARNING:tensorflow:sample_weight modes were coerced from\n",
      "  ...\n",
      "    to  \n",
      "  ['...']\n",
      "WARNING:tensorflow:sample_weight modes were coerced from\n",
      "  ...\n",
      "    to  \n",
      "  ['...']\n",
      "Train for 1644 steps, validate for 348 steps\n",
      "Epoch 1/30\n",
      "1644/1644 [==============================] - 140s 85ms/step - loss: 0.0075 - mean_squared_error: 0.0075 - psnr: 24.6859 - ssim: 0.5951 - val_loss: 0.0036 - val_mean_squared_error: 0.0036 - val_psnr: 25.3828 - val_ssim: 0.6639\n",
      "Epoch 2/30\n",
      "1644/1644 [==============================] - 137s 84ms/step - loss: 0.0014 - mean_squared_error: 0.0014 - psnr: 29.9487 - ssim: 0.7606 - val_loss: 0.0012 - val_mean_squared_error: 0.0012 - val_psnr: 30.9489 - val_ssim: 0.7936\n",
      "Epoch 3/30\n",
      "1644/1644 [==============================] - 138s 84ms/step - loss: 0.0012 - mean_squared_error: 0.0012 - psnr: 30.9712 - ssim: 0.8485 - val_loss: 0.0010 - val_mean_squared_error: 0.0010 - val_psnr: 32.2862 - val_ssim: 0.8935\n",
      "Epoch 4/30\n",
      "1644/1644 [==============================] - 138s 84ms/step - loss: 0.0011 - mean_squared_error: 0.0011 - psnr: 31.5844 - ssim: 0.8900 - val_loss: 0.0011 - val_mean_squared_error: 0.0011 - val_psnr: 32.4381 - val_ssim: 0.8758\n",
      "Epoch 5/30\n",
      "1644/1644 [==============================] - 138s 84ms/step - loss: 0.0010 - mean_squared_error: 0.0010 - psnr: 31.9588 - ssim: 0.9090 - val_loss: 8.7620e-04 - val_mean_squared_error: 8.7597e-04 - val_psnr: 33.4653 - val_ssim: 0.9374\n",
      "Epoch 6/30\n",
      "1644/1644 [==============================] - 138s 84ms/step - loss: 9.3401e-04 - mean_squared_error: 9.3435e-04 - psnr: 32.3907 - ssim: 0.9201 - val_loss: 8.9579e-04 - val_mean_squared_error: 8.9454e-04 - val_psnr: 32.3958 - val_ssim: 0.9309\n",
      "Epoch 7/30\n",
      "1643/1644 [============================>.] - ETA: 0s - loss: 8.8471e-04 - mean_squared_error: 8.8489e-04 - psnr: 32.6663 - ssim: 0.9272\n",
      "Epoch 00007: ReduceLROnPlateau reducing learning rate to 0.00020000000949949026.\n",
      "1644/1644 [==============================] - 137s 84ms/step - loss: 8.8478e-04 - mean_squared_error: 8.8496e-04 - psnr: 32.6650 - ssim: 0.9272 - val_loss: 8.6314e-04 - val_mean_squared_error: 8.6300e-04 - val_psnr: 32.6491 - val_ssim: 0.9275\n",
      "Epoch 8/30\n",
      "1644/1644 [==============================] - 137s 84ms/step - loss: 7.7586e-04 - mean_squared_error: 7.7208e-04 - psnr: 33.4521 - ssim: 0.9292 - val_loss: 7.3604e-04 - val_mean_squared_error: 7.3396e-04 - val_psnr: 34.1242 - val_ssim: 0.9261\n",
      "Epoch 9/30\n",
      "1644/1644 [==============================] - 138s 84ms/step - loss: 7.5770e-04 - mean_squared_error: 7.5761e-04 - psnr: 33.6114 - ssim: 0.9310 - val_loss: 6.7899e-04 - val_mean_squared_error: 6.7921e-04 - val_psnr: 34.5842 - val_ssim: 0.9366\n",
      "Epoch 10/30\n",
      "1643/1644 [============================>.] - ETA: 0s - loss: 7.4358e-04 - mean_squared_error: 7.4167e-04 - psnr: 33.7415 - ssim: 0.9334\n",
      "Epoch 00010: ReduceLROnPlateau reducing learning rate to 4.0000001899898055e-05.\n",
      "1644/1644 [==============================] - 138s 84ms/step - loss: 7.4342e-04 - mean_squared_error: 7.4150e-04 - psnr: 33.7432 - ssim: 0.9334 - val_loss: 7.0502e-04 - val_mean_squared_error: 7.0572e-04 - val_psnr: 34.4689 - val_ssim: 0.9302\n",
      "Epoch 11/30\n",
      "1644/1644 [==============================] - 138s 84ms/step - loss: 7.3188e-04 - mean_squared_error: 7.3000e-04 - psnr: 33.9247 - ssim: 0.9332 - val_loss: 6.8999e-04 - val_mean_squared_error: 6.9011e-04 - val_psnr: 34.5564 - val_ssim: 0.9299\n",
      "Epoch 12/30\n",
      "1643/1644 [============================>.] - ETA: 0s - loss: 7.3536e-04 - mean_squared_error: 7.3534e-04 - psnr: 33.8994 - ssim: 0.9332\n",
      "Epoch 00012: ReduceLROnPlateau reducing learning rate to 8.000000525498762e-06.\n",
      "1644/1644 [==============================] - 138s 84ms/step - loss: 7.3528e-04 - mean_squared_error: 7.3526e-04 - psnr: 33.8992 - ssim: 0.9332 - val_loss: 6.6351e-04 - val_mean_squared_error: 6.6422e-04 - val_psnr: 34.7847 - val_ssim: 0.9313\n",
      "Epoch 13/30\n",
      "1644/1644 [==============================] - 138s 84ms/step - loss: 7.2805e-04 - mean_squared_error: 7.2800e-04 - psnr: 33.9479 - ssim: 0.9331 - val_loss: 6.6254e-04 - val_mean_squared_error: 6.6333e-04 - val_psnr: 34.8019 - val_ssim: 0.9378\n",
      "Epoch 14/30\n",
      "1643/1644 [============================>.] - ETA: 0s - loss: 7.1598e-04 - mean_squared_error: 7.1628e-04 - psnr: 34.0211 - ssim: 0.9335\n",
      "Epoch 00014: ReduceLROnPlateau reducing learning rate to 1.6000001778593287e-06.\n",
      "1644/1644 [==============================] - 138s 84ms/step - loss: 7.1605e-04 - mean_squared_error: 7.1635e-04 - psnr: 34.0209 - ssim: 0.9335 - val_loss: 6.8750e-04 - val_mean_squared_error: 6.8846e-04 - val_psnr: 34.6493 - val_ssim: 0.9348\n",
      "Epoch 15/30\n",
      "1644/1644 [==============================] - 137s 84ms/step - loss: 7.1488e-04 - mean_squared_error: 7.1306e-04 - psnr: 34.0276 - ssim: 0.9335 - val_loss: 6.7043e-04 - val_mean_squared_error: 6.7105e-04 - val_psnr: 34.7916 - val_ssim: 0.9347\n",
      "Epoch 16/30\n",
      "1643/1644 [============================>.] - ETA: 0s - loss: 0.0399 - mean_squared_error: 0.0399 - psnr: 14.3101 - ssim: 0.3031\n",
      "Epoch 00016: ReduceLROnPlateau reducing learning rate to 3.200000264769187e-07.\n",
      "Restoring model weights from the end of the best epoch.\n",
      "1644/1644 [==============================] - 137s 84ms/step - loss: 0.0399 - mean_squared_error: 0.0399 - psnr: 14.3100 - ssim: 0.3031 - val_loss: 0.0038 - val_mean_squared_error: 0.0038 - val_psnr: 24.5938 - val_ssim: 0.8443\n",
      "Epoch 00016: early stopping\n",
      "##############################\n",
      "              PSNR         SSIM\n",
      "count  8039.000000  8039.000000\n",
      "mean     34.706901     0.938838\n",
      "std       5.377152     0.041129\n",
      "min      20.548960     0.726778\n",
      "25%      29.911700     0.918199\n",
      "50%      34.722092     0.951903\n",
      "75%      40.522125     0.969793\n",
      "max      43.640522     0.988810\n",
      "##############################\n"
     ]
    }
   ],
   "source": [
    "ae_slc_rb_mse_model_v2.compile(loss='mean_squared_error', optimizer = 'adam', metrics=metrics)\n",
    "ae_slc_rb_mse_v2_fitted = workbench.run(model=ae_slc_rb_mse_model_v2, epochs=30)"
   ]
  },
  {
   "cell_type": "markdown",
   "metadata": {},
   "source": [
    "#### Loss function: SSIM"
   ]
  },
  {
   "cell_type": "code",
   "execution_count": 24,
   "metadata": {},
   "outputs": [],
   "source": [
    "ae_slc_rb_ssim_model_v2 = AutoEncoder(\n",
    "    encoder=ResnetEncoderv2(nb_list=[3,4,2], feature_maps=4),\n",
    "    name=\"ae_slc_rb_ssim_v2\",\n",
    "    skip_long_connections_function=layers.add\n",
    ")(input_shape=workbench.image_shape)"
   ]
  },
  {
   "cell_type": "code",
   "execution_count": 25,
   "metadata": {},
   "outputs": [
    {
     "name": "stdout",
     "output_type": "stream",
     "text": [
      "WARNING:tensorflow:sample_weight modes were coerced from\n",
      "  ...\n",
      "    to  \n",
      "  ['...']\n",
      "WARNING:tensorflow:sample_weight modes were coerced from\n",
      "  ...\n",
      "    to  \n",
      "  ['...']\n",
      "Train for 1644 steps, validate for 348 steps\n",
      "Epoch 1/30\n",
      "1644/1644 [==============================] - 154s 94ms/step - loss: 0.1468 - mean_squared_error: 0.0420 - psnr: 21.5872 - ssim: 0.8532 - val_loss: 0.1011 - val_mean_squared_error: 0.0032 - val_psnr: 29.1012 - val_ssim: 0.8989\n",
      "Epoch 2/30\n",
      "1644/1644 [==============================] - 151s 92ms/step - loss: 0.0511 - mean_squared_error: 0.0033 - psnr: 29.3274 - ssim: 0.9489 - val_loss: 0.0567 - val_mean_squared_error: 0.0029 - val_psnr: 30.8636 - val_ssim: 0.9433\n",
      "Epoch 3/30\n",
      "1644/1644 [==============================] - 151s 92ms/step - loss: 0.0460 - mean_squared_error: 0.0034 - psnr: 29.9084 - ssim: 0.9539 - val_loss: 0.0450 - val_mean_squared_error: 0.0022 - val_psnr: 31.3270 - val_ssim: 0.9550\n",
      "Epoch 4/30\n",
      "1644/1644 [==============================] - 151s 92ms/step - loss: 0.0430 - mean_squared_error: 0.0032 - psnr: 30.3284 - ssim: 0.9570 - val_loss: 0.1374 - val_mean_squared_error: 0.0277 - val_psnr: 19.2596 - val_ssim: 0.8626\n",
      "Epoch 5/30\n",
      "1643/1644 [============================>.] - ETA: 0s - loss: 0.0393 - mean_squared_error: 0.0016 - psnr: 31.7300 - ssim: 0.9608\n",
      "Epoch 00005: ReduceLROnPlateau reducing learning rate to 0.00020000000949949026.\n",
      "1644/1644 [==============================] - 151s 92ms/step - loss: 0.0393 - mean_squared_error: 0.0016 - psnr: 31.7307 - ssim: 0.9608 - val_loss: 0.0763 - val_mean_squared_error: 0.0021 - val_psnr: 29.5521 - val_ssim: 0.9238\n",
      "Epoch 6/30\n",
      "1644/1644 [==============================] - 151s 92ms/step - loss: 0.0350 - mean_squared_error: 9.5761e-04 - psnr: 32.8888 - ssim: 0.9650 - val_loss: 0.0375 - val_mean_squared_error: 0.0014 - val_psnr: 33.2765 - val_ssim: 0.9625\n",
      "Epoch 7/30\n",
      "1644/1644 [==============================] - 151s 92ms/step - loss: 0.0348 - mean_squared_error: 9.3449e-04 - psnr: 33.0275 - ssim: 0.9652 - val_loss: 0.0521 - val_mean_squared_error: 0.0020 - val_psnr: 32.4613 - val_ssim: 0.9479\n",
      "Epoch 8/30\n",
      "1644/1644 [==============================] - 151s 92ms/step - loss: 0.0341 - mean_squared_error: 9.0842e-04 - psnr: 33.1384 - ssim: 0.9659 - val_loss: 0.0357 - val_mean_squared_error: 0.0013 - val_psnr: 32.9023 - val_ssim: 0.9644\n",
      "Epoch 9/30\n",
      "1644/1644 [==============================] - 151s 92ms/step - loss: 0.0336 - mean_squared_error: 8.9137e-04 - psnr: 33.3239 - ssim: 0.9664 - val_loss: 0.0445 - val_mean_squared_error: 0.0011 - val_psnr: 33.3525 - val_ssim: 0.9555\n",
      "Epoch 10/30\n",
      "1644/1644 [==============================] - 151s 92ms/step - loss: 0.0331 - mean_squared_error: 8.7685e-04 - psnr: 33.3635 - ssim: 0.9669 - val_loss: 0.0324 - val_mean_squared_error: 8.2328e-04 - val_psnr: 33.8629 - val_ssim: 0.9676\n",
      "Epoch 11/30\n",
      "1644/1644 [==============================] - 151s 92ms/step - loss: 0.0328 - mean_squared_error: 8.5761e-04 - psnr: 33.4524 - ssim: 0.9672 - val_loss: 0.0739 - val_mean_squared_error: 0.0022 - val_psnr: 30.0207 - val_ssim: 0.9260\n",
      "Epoch 12/30\n",
      "1643/1644 [============================>.] - ETA: 0s - loss: 0.0324 - mean_squared_error: 8.4317e-04 - psnr: 33.5737 - ssim: 0.9676\n",
      "Epoch 00012: ReduceLROnPlateau reducing learning rate to 4.0000001899898055e-05.\n",
      "1644/1644 [==============================] - 151s 92ms/step - loss: 0.0324 - mean_squared_error: 8.4304e-04 - psnr: 33.5747 - ssim: 0.9676 - val_loss: 0.0405 - val_mean_squared_error: 9.4311e-04 - val_psnr: 33.6597 - val_ssim: 0.9594\n",
      "Epoch 13/30\n",
      "1644/1644 [==============================] - 151s 92ms/step - loss: 0.0314 - mean_squared_error: 7.9863e-04 - psnr: 33.8008 - ssim: 0.9686 - val_loss: 0.0312 - val_mean_squared_error: 6.9415e-04 - val_psnr: 34.9758 - val_ssim: 0.9688\n",
      "Epoch 14/30\n",
      "1644/1644 [==============================] - 151s 92ms/step - loss: 0.0316 - mean_squared_error: 8.0634e-04 - psnr: 33.7941 - ssim: 0.9684 - val_loss: 0.0327 - val_mean_squared_error: 0.0011 - val_psnr: 34.2279 - val_ssim: 0.9673\n",
      "Epoch 15/30\n",
      "1644/1644 [==============================] - 151s 92ms/step - loss: 0.0315 - mean_squared_error: 7.9908e-04 - psnr: 33.8343 - ssim: 0.9685 - val_loss: 0.0303 - val_mean_squared_error: 6.8822e-04 - val_psnr: 35.1159 - val_ssim: 0.9697\n",
      "Epoch 16/30\n",
      "1644/1644 [==============================] - 151s 92ms/step - loss: 0.0312 - mean_squared_error: 7.8296e-04 - psnr: 33.9270 - ssim: 0.9688 - val_loss: 0.0317 - val_mean_squared_error: 7.4997e-04 - val_psnr: 34.8501 - val_ssim: 0.9682\n",
      "Epoch 17/30\n",
      "1643/1644 [============================>.] - ETA: 0s - loss: 0.0314 - mean_squared_error: 7.8552e-04 - psnr: 33.9109 - ssim: 0.9686\n",
      "Epoch 00017: ReduceLROnPlateau reducing learning rate to 8.000000525498762e-06.\n",
      "1644/1644 [==============================] - 151s 92ms/step - loss: 0.0314 - mean_squared_error: 7.8535e-04 - psnr: 33.9120 - ssim: 0.9686 - val_loss: 0.0309 - val_mean_squared_error: 7.0609e-04 - val_psnr: 34.9835 - val_ssim: 0.9692\n",
      "Epoch 18/30\n",
      "1643/1644 [============================>.] - ETA: 0s - loss: 0.0309 - mean_squared_error: 7.7125e-04 - psnr: 34.0329 - ssim: 0.9691Restoring model weights from the end of the best epoch.\n",
      "1644/1644 [==============================] - 151s 92ms/step - loss: 0.0309 - mean_squared_error: 7.7140e-04 - psnr: 34.0322 - ssim: 0.9691 - val_loss: 0.0304 - val_mean_squared_error: 6.9343e-04 - val_psnr: 35.0245 - val_ssim: 0.9697\n",
      "Epoch 00018: early stopping\n",
      "##############################\n",
      "              PSNR         SSIM\n",
      "count  8039.000000  8039.000000\n",
      "mean     34.889093     0.969320\n",
      "std       5.544069     0.035914\n",
      "min      19.350538     0.710360\n",
      "25%      29.894942     0.954435\n",
      "50%      36.154266     0.986487\n",
      "75%      39.801815     0.996354\n",
      "max      45.007156     0.998123\n",
      "##############################\n"
     ]
    }
   ],
   "source": [
    "ae_slc_rb_ssim_model_v2.compile(loss=ssim_loss, optimizer = 'adam', metrics=metrics)\n",
    "ae_slc_rb_ssim_v2_fitted = workbench.run(model=ae_slc_rb_ssim_model_v2, epochs=30)"
   ]
  },
  {
   "cell_type": "code",
   "execution_count": null,
   "metadata": {},
   "outputs": [],
   "source": []
  }
 ],
 "metadata": {
  "kernelspec": {
   "display_name": "data-science",
   "language": "python",
   "name": "data-science"
  },
  "language_info": {
   "codemirror_mode": {
    "name": "ipython",
    "version": 3
   },
   "file_extension": ".py",
   "mimetype": "text/x-python",
   "name": "python",
   "nbconvert_exporter": "python",
   "pygments_lexer": "ipython3",
   "version": "3.7.6"
  }
 },
 "nbformat": 4,
 "nbformat_minor": 4
}
