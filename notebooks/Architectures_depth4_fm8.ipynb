{
 "cells": [
  {
   "cell_type": "markdown",
   "metadata": {},
   "source": [
    "# Testing the architectures designed"
   ]
  },
  {
   "cell_type": "markdown",
   "metadata": {},
   "source": [
    "The goal of this notebook is to evaluate the architectures designed according as has been explained in the methodology section. To do so, the same workbench will be used to train and evaluate them under the same circumstances. As explained in the report, each architecture will be trained using both MSE and SSIM loss functions."
   ]
  },
  {
   "cell_type": "markdown",
   "metadata": {},
   "source": [
    "### (Previous preparation)"
   ]
  },
  {
   "cell_type": "code",
   "execution_count": 1,
   "metadata": {},
   "outputs": [],
   "source": [
    "import os\n",
    "import sys\n",
    "module_path = os.path.abspath(os.path.join('..'))\n",
    "if module_path not in sys.path:\n",
    "    sys.path.append(module_path)"
   ]
  },
  {
   "cell_type": "markdown",
   "metadata": {},
   "source": [
    "## Importing packages"
   ]
  },
  {
   "cell_type": "code",
   "execution_count": 2,
   "metadata": {},
   "outputs": [],
   "source": [
    "from src.helpers import load_experiment_workbench, use_gpu\n",
    "from src.models import AutoEncoder\n",
    "from src.models.autoencoder.modules.encoders.models import SimpleEncoder, ResnetEncoderv1, ResnetEncoderv2\n",
    "from src.trainer.metrics import psnr, ssim\n",
    "from src.trainer.losses import ssim as ssim_loss\n",
    "\n",
    "from tensorflow.keras import layers"
   ]
  },
  {
   "cell_type": "markdown",
   "metadata": {},
   "source": [
    "#### Enabling GPU"
   ]
  },
  {
   "cell_type": "code",
   "execution_count": 3,
   "metadata": {},
   "outputs": [
    {
     "name": "stdout",
     "output_type": "stream",
     "text": [
      "1 Physical GPUs, 1 Logical GPUs\n"
     ]
    }
   ],
   "source": [
    "use_gpu(True)"
   ]
  },
  {
   "cell_type": "markdown",
   "metadata": {},
   "source": [
    "### Creating a new workbench"
   ]
  },
  {
   "cell_type": "code",
   "execution_count": 4,
   "metadata": {},
   "outputs": [
    {
     "name": "stdout",
     "output_type": "stream",
     "text": [
      "Found 26305 validated image filenames.\n",
      "Found 26305 validated image filenames.\n",
      "Found 5573 validated image filenames.\n",
      "Found 5573 validated image filenames.\n",
      "Found 8039 validated image filenames.\n",
      "Found 8039 validated image filenames.\n"
     ]
    }
   ],
   "source": [
    "workbench = load_experiment_workbench(\"architectures_desgined_8fm\")"
   ]
  },
  {
   "cell_type": "markdown",
   "metadata": {},
   "source": [
    "### Define metrics"
   ]
  },
  {
   "cell_type": "code",
   "execution_count": 5,
   "metadata": {},
   "outputs": [],
   "source": [
    "metrics = [\n",
    "    \"mean_squared_error\",\n",
    "    psnr,\n",
    "    ssim\n",
    "]"
   ]
  },
  {
   "cell_type": "markdown",
   "metadata": {},
   "source": [
    "## Architectures"
   ]
  },
  {
   "cell_type": "markdown",
   "metadata": {},
   "source": [
    "### AutoEncoder (AE)"
   ]
  },
  {
   "cell_type": "markdown",
   "metadata": {},
   "source": [
    "#### Loss function: MSE"
   ]
  },
  {
   "cell_type": "code",
   "execution_count": 6,
   "metadata": {},
   "outputs": [],
   "source": [
    "ae_mse_model = AutoEncoder(\n",
    "    encoder=SimpleEncoder(depth=4, feature_maps=8),\n",
    "    name=\"ae_mse\",\n",
    ")(input_shape=workbench.image_shape)"
   ]
  },
  {
   "cell_type": "code",
   "execution_count": 7,
   "metadata": {},
   "outputs": [
    {
     "name": "stdout",
     "output_type": "stream",
     "text": [
      "WARNING:tensorflow:sample_weight modes were coerced from\n",
      "  ...\n",
      "    to  \n",
      "  ['...']\n",
      "WARNING:tensorflow:sample_weight modes were coerced from\n",
      "  ...\n",
      "    to  \n",
      "  ['...']\n",
      "Train for 1644 steps, validate for 348 steps\n",
      "Epoch 1/30\n",
      "1644/1644 [==============================] - 161s 98ms/step - loss: 0.0160 - mean_squared_error: 0.0160 - psnr: 19.9810 - ssim: 0.3544 - val_loss: 0.0054 - val_mean_squared_error: 0.0054 - val_psnr: 22.8859 - val_ssim: 0.4498\n",
      "Epoch 2/30\n",
      "1644/1644 [==============================] - 159s 97ms/step - loss: 0.0059 - mean_squared_error: 0.0059 - psnr: 22.7375 - ssim: 0.4915 - val_loss: 0.0054 - val_mean_squared_error: 0.0054 - val_psnr: 23.0791 - val_ssim: 0.5211\n",
      "Epoch 3/30\n",
      "1644/1644 [==============================] - 159s 97ms/step - loss: 0.0043 - mean_squared_error: 0.0043 - psnr: 23.9932 - ssim: 0.6108 - val_loss: 0.0038 - val_mean_squared_error: 0.0038 - val_psnr: 24.4565 - val_ssim: 0.6518\n",
      "Epoch 4/30\n",
      "1644/1644 [==============================] - 159s 97ms/step - loss: 0.0037 - mean_squared_error: 0.0037 - psnr: 24.6933 - ssim: 0.6907 - val_loss: 0.0035 - val_mean_squared_error: 0.0036 - val_psnr: 24.7868 - val_ssim: 0.7313\n",
      "Epoch 5/30\n",
      "1644/1644 [==============================] - 159s 97ms/step - loss: 0.0033 - mean_squared_error: 0.0033 - psnr: 25.1789 - ssim: 0.7212 - val_loss: 0.0031 - val_mean_squared_error: 0.0031 - val_psnr: 25.3694 - val_ssim: 0.6858\n",
      "Epoch 6/30\n",
      "1644/1644 [==============================] - 159s 97ms/step - loss: 0.0029 - mean_squared_error: 0.0029 - psnr: 25.6468 - ssim: 0.7535 - val_loss: 0.0030 - val_mean_squared_error: 0.0030 - val_psnr: 25.4920 - val_ssim: 0.7645\n",
      "Epoch 7/30\n",
      "1643/1644 [============================>.] - ETA: 0s - loss: 0.0027 - mean_squared_error: 0.0027 - psnr: 25.9794 - ssim: 0.7749\n",
      "Epoch 00007: ReduceLROnPlateau reducing learning rate to 0.00020000000949949026.\n",
      "1644/1644 [==============================] - 159s 97ms/step - loss: 0.0027 - mean_squared_error: 0.0027 - psnr: 25.9794 - ssim: 0.7749 - val_loss: 0.0034 - val_mean_squared_error: 0.0034 - val_psnr: 25.0668 - val_ssim: 0.6969\n",
      "Epoch 8/30\n",
      "1644/1644 [==============================] - 160s 97ms/step - loss: 0.0025 - mean_squared_error: 0.0025 - psnr: 26.3433 - ssim: 0.7886 - val_loss: 0.0025 - val_mean_squared_error: 0.0025 - val_psnr: 26.3194 - val_ssim: 0.7912\n",
      "Epoch 9/30\n",
      "1644/1644 [==============================] - 160s 97ms/step - loss: 0.0025 - mean_squared_error: 0.0025 - psnr: 26.4099 - ssim: 0.7953 - val_loss: 0.0025 - val_mean_squared_error: 0.0025 - val_psnr: 26.4155 - val_ssim: 0.7960\n",
      "Epoch 10/30\n",
      "1643/1644 [============================>.] - ETA: 0s - loss: 0.0024 - mean_squared_error: 0.0024 - psnr: 26.4921 - ssim: 0.8000\n",
      "Epoch 00010: ReduceLROnPlateau reducing learning rate to 4.0000001899898055e-05.\n",
      "1644/1644 [==============================] - 160s 97ms/step - loss: 0.0024 - mean_squared_error: 0.0024 - psnr: 26.4923 - ssim: 0.8000 - val_loss: 0.0025 - val_mean_squared_error: 0.0025 - val_psnr: 26.3726 - val_ssim: 0.7748\n",
      "Epoch 11/30\n",
      "1644/1644 [==============================] - 160s 97ms/step - loss: 0.0024 - mean_squared_error: 0.0024 - psnr: 26.5775 - ssim: 0.8040 - val_loss: 0.0024 - val_mean_squared_error: 0.0024 - val_psnr: 26.5846 - val_ssim: 0.8055\n",
      "Epoch 12/30\n",
      "1644/1644 [==============================] - 162s 99ms/step - loss: 0.0024 - mean_squared_error: 0.0024 - psnr: 26.6091 - ssim: 0.8050 - val_loss: 0.0024 - val_mean_squared_error: 0.0024 - val_psnr: 26.6071 - val_ssim: 0.8041\n",
      "Epoch 13/30\n",
      "1643/1644 [============================>.] - ETA: 0s - loss: 0.0024 - mean_squared_error: 0.0024 - psnr: 26.6165 - ssim: 0.8061\n",
      "Epoch 00013: ReduceLROnPlateau reducing learning rate to 8.000000525498762e-06.\n",
      "1644/1644 [==============================] - 167s 101ms/step - loss: 0.0024 - mean_squared_error: 0.0024 - psnr: 26.6169 - ssim: 0.8061 - val_loss: 0.0023 - val_mean_squared_error: 0.0023 - val_psnr: 26.6284 - val_ssim: 0.8047\n",
      "Epoch 14/30\n",
      "1644/1644 [==============================] - 160s 97ms/step - loss: 0.0024 - mean_squared_error: 0.0024 - psnr: 26.6426 - ssim: 0.8070 - val_loss: 0.0023 - val_mean_squared_error: 0.0023 - val_psnr: 26.6569 - val_ssim: 0.8052\n",
      "Epoch 15/30\n",
      "1643/1644 [============================>.] - ETA: 0s - loss: 0.0024 - mean_squared_error: 0.0024 - psnr: 26.6333 - ssim: 0.8070\n",
      "Epoch 00015: ReduceLROnPlateau reducing learning rate to 1.6000001778593287e-06.\n",
      "1644/1644 [==============================] - 160s 97ms/step - loss: 0.0024 - mean_squared_error: 0.0024 - psnr: 26.6337 - ssim: 0.8070 - val_loss: 0.0024 - val_mean_squared_error: 0.0024 - val_psnr: 26.6058 - val_ssim: 0.8068\n",
      "Epoch 16/30\n",
      "1644/1644 [==============================] - 161s 98ms/step - loss: 0.0290 - mean_squared_error: 0.0290 - psnr: 16.3346 - ssim: 0.3889 - val_loss: 0.0121 - val_mean_squared_error: 0.0121 - val_psnr: 19.3793 - val_ssim: 0.5304\n",
      "Epoch 17/30\n",
      "1643/1644 [============================>.] - ETA: 0s - loss: 0.0056 - mean_squared_error: 0.0056 - psnr: 23.3840 - ssim: 0.6991\n",
      "Epoch 00017: ReduceLROnPlateau reducing learning rate to 3.200000264769187e-07.\n",
      "Restoring model weights from the end of the best epoch.\n",
      "1644/1644 [==============================] - 160s 97ms/step - loss: 0.0056 - mean_squared_error: 0.0056 - psnr: 23.3852 - ssim: 0.6991 - val_loss: 0.0027 - val_mean_squared_error: 0.0027 - val_psnr: 25.9320 - val_ssim: 0.7769\n",
      "Epoch 00017: early stopping\n",
      "##############################\n",
      "              PSNR         SSIM\n",
      "count  8039.000000  8039.000000\n",
      "mean     26.707186     0.808124\n",
      "std       1.887357     0.033121\n",
      "min      16.909414     0.596854\n",
      "25%      25.551841     0.789666\n",
      "50%      26.363110     0.809404\n",
      "75%      27.748402     0.827290\n",
      "max      33.543888     0.888741\n",
      "##############################\n"
     ]
    }
   ],
   "source": [
    "ae_mse_model.compile(loss='mean_squared_error', optimizer = 'adam', metrics=metrics)\n",
    "ae_mse_fitted = workbench.run(model=ae_mse_model, epochs=30)"
   ]
  },
  {
   "cell_type": "markdown",
   "metadata": {},
   "source": [
    "#### Loss function: SSIM"
   ]
  },
  {
   "cell_type": "code",
   "execution_count": 8,
   "metadata": {},
   "outputs": [],
   "source": [
    "ae_ssim_model = AutoEncoder(\n",
    "    encoder=SimpleEncoder(depth=4, feature_maps=8),\n",
    "    name=\"ae_ssim\",\n",
    ")(input_shape=workbench.image_shape)"
   ]
  },
  {
   "cell_type": "code",
   "execution_count": 9,
   "metadata": {},
   "outputs": [
    {
     "name": "stdout",
     "output_type": "stream",
     "text": [
      "WARNING:tensorflow:sample_weight modes were coerced from\n",
      "  ...\n",
      "    to  \n",
      "  ['...']\n",
      "WARNING:tensorflow:sample_weight modes were coerced from\n",
      "  ...\n",
      "    to  \n",
      "  ['...']\n",
      "Train for 1644 steps, validate for 348 steps\n",
      "Epoch 1/30\n",
      "1644/1644 [==============================] - 174s 106ms/step - loss: 0.2363 - mean_squared_error: 0.0146 - psnr: 21.9347 - ssim: 0.7637 - val_loss: 0.2012 - val_mean_squared_error: 0.0057 - val_psnr: 22.8498 - val_ssim: 0.7988\n",
      "Epoch 2/30\n",
      "1644/1644 [==============================] - 172s 104ms/step - loss: 0.1559 - mean_squared_error: 0.0033 - psnr: 25.3075 - ssim: 0.8441 - val_loss: 0.1745 - val_mean_squared_error: 0.0037 - val_psnr: 25.0143 - val_ssim: 0.8256\n",
      "Epoch 3/30\n",
      "1644/1644 [==============================] - 172s 105ms/step - loss: 0.1421 - mean_squared_error: 0.0030 - psnr: 25.7063 - ssim: 0.8579 - val_loss: 0.1845 - val_mean_squared_error: 0.0044 - val_psnr: 24.7974 - val_ssim: 0.8155\n",
      "Epoch 4/30\n",
      "1644/1644 [==============================] - 172s 105ms/step - loss: 0.1340 - mean_squared_error: 0.0028 - psnr: 26.0059 - ssim: 0.8661 - val_loss: 0.1555 - val_mean_squared_error: 0.0037 - val_psnr: 24.8046 - val_ssim: 0.8445\n",
      "Epoch 5/30\n",
      "1644/1644 [==============================] - 172s 105ms/step - loss: 0.1293 - mean_squared_error: 0.0027 - psnr: 26.1806 - ssim: 0.8707 - val_loss: 0.1676 - val_mean_squared_error: 0.0033 - val_psnr: 25.3026 - val_ssim: 0.8324\n",
      "Epoch 6/30\n",
      "1644/1644 [==============================] - 172s 105ms/step - loss: 0.1255 - mean_squared_error: 0.0026 - psnr: 26.3539 - ssim: 0.8745 - val_loss: 0.1513 - val_mean_squared_error: 0.0036 - val_psnr: 25.5633 - val_ssim: 0.8488\n",
      "Epoch 7/30\n",
      "1644/1644 [==============================] - 173s 105ms/step - loss: 0.1228 - mean_squared_error: 0.0025 - psnr: 26.4676 - ssim: 0.8772 - val_loss: 0.2760 - val_mean_squared_error: 0.0050 - val_psnr: 23.8646 - val_ssim: 0.7240\n",
      "Epoch 8/30\n",
      "1643/1644 [============================>.] - ETA: 0s - loss: 0.1205 - mean_squared_error: 0.0025 - psnr: 26.5610 - ssim: 0.8795\n",
      "Epoch 00008: ReduceLROnPlateau reducing learning rate to 0.00020000000949949026.\n",
      "1644/1644 [==============================] - 173s 105ms/step - loss: 0.1205 - mean_squared_error: 0.0025 - psnr: 26.5613 - ssim: 0.8795 - val_loss: 0.1815 - val_mean_squared_error: 0.0039 - val_psnr: 25.5785 - val_ssim: 0.8185\n",
      "Epoch 9/30\n",
      "1644/1644 [==============================] - 172s 105ms/step - loss: 0.1169 - mean_squared_error: 0.0024 - psnr: 26.7795 - ssim: 0.8831 - val_loss: 0.1254 - val_mean_squared_error: 0.0028 - val_psnr: 26.3157 - val_ssim: 0.8746\n",
      "Epoch 10/30\n",
      "1644/1644 [==============================] - 173s 105ms/step - loss: 0.1167 - mean_squared_error: 0.0024 - psnr: 26.7875 - ssim: 0.8833 - val_loss: 0.1227 - val_mean_squared_error: 0.0024 - val_psnr: 26.6476 - val_ssim: 0.8773\n",
      "Epoch 11/30\n",
      "1644/1644 [==============================] - 173s 105ms/step - loss: 0.1162 - mean_squared_error: 0.0023 - psnr: 26.8229 - ssim: 0.8838 - val_loss: 0.1173 - val_mean_squared_error: 0.0023 - val_psnr: 26.7887 - val_ssim: 0.8827\n",
      "Epoch 12/30\n",
      "1644/1644 [==============================] - 173s 105ms/step - loss: 0.1158 - mean_squared_error: 0.0023 - psnr: 26.8437 - ssim: 0.8842 - val_loss: 0.1465 - val_mean_squared_error: 0.0034 - val_psnr: 26.1028 - val_ssim: 0.8535\n",
      "Epoch 13/30\n",
      "1643/1644 [============================>.] - ETA: 0s - loss: 0.1152 - mean_squared_error: 0.0023 - psnr: 26.8829 - ssim: 0.8848\n",
      "Epoch 00013: ReduceLROnPlateau reducing learning rate to 4.0000001899898055e-05.\n",
      "1644/1644 [==============================] - 173s 105ms/step - loss: 0.1152 - mean_squared_error: 0.0023 - psnr: 26.8830 - ssim: 0.8848 - val_loss: 0.1241 - val_mean_squared_error: 0.0027 - val_psnr: 26.5400 - val_ssim: 0.8759\n",
      "Epoch 14/30\n",
      "1644/1644 [==============================] - 173s 105ms/step - loss: 0.1145 - mean_squared_error: 0.0023 - psnr: 26.9379 - ssim: 0.8855 - val_loss: 0.1165 - val_mean_squared_error: 0.0022 - val_psnr: 27.0127 - val_ssim: 0.8835\n",
      "Epoch 15/30\n",
      "1644/1644 [==============================] - 173s 105ms/step - loss: 0.1143 - mean_squared_error: 0.0023 - psnr: 26.9555 - ssim: 0.8857 - val_loss: 0.1159 - val_mean_squared_error: 0.0022 - val_psnr: 27.0183 - val_ssim: 0.8841\n",
      "Epoch 16/30\n",
      "1644/1644 [==============================] - 174s 106ms/step - loss: 0.1142 - mean_squared_error: 0.0023 - psnr: 26.9690 - ssim: 0.8858 - val_loss: 0.1158 - val_mean_squared_error: 0.0022 - val_psnr: 27.1037 - val_ssim: 0.8842\n",
      "Epoch 17/30\n",
      "1644/1644 [==============================] - 174s 106ms/step - loss: 0.1144 - mean_squared_error: 0.0023 - psnr: 26.9476 - ssim: 0.8856 - val_loss: 0.1156 - val_mean_squared_error: 0.0022 - val_psnr: 27.1104 - val_ssim: 0.8843\n",
      "Epoch 18/30\n",
      "1644/1644 [==============================] - 173s 105ms/step - loss: 0.1141 - mean_squared_error: 0.0023 - psnr: 26.9725 - ssim: 0.8859 - val_loss: 0.1159 - val_mean_squared_error: 0.0022 - val_psnr: 27.0356 - val_ssim: 0.8841\n",
      "Epoch 19/30\n",
      "1643/1644 [============================>.] - ETA: 0s - loss: 0.5752 - mean_squared_error: 0.0329 - psnr: 15.2093 - ssim: 0.4245\n",
      "Epoch 00019: ReduceLROnPlateau reducing learning rate to 8.000000525498762e-06.\n",
      "1644/1644 [==============================] - 173s 105ms/step - loss: 0.5752 - mean_squared_error: 0.0329 - psnr: 15.2095 - ssim: 0.4245 - val_loss: 0.5505 - val_mean_squared_error: 0.0278 - val_psnr: 15.9046 - val_ssim: 0.4495\n",
      "Epoch 20/30\n",
      "1643/1644 [============================>.] - ETA: 0s - loss: 0.1894 - mean_squared_error: 0.0052 - psnr: 24.5887 - ssim: 0.8108Restoring model weights from the end of the best epoch.\n",
      "1644/1644 [==============================] - 173s 105ms/step - loss: 0.1894 - mean_squared_error: 0.0052 - psnr: 24.5901 - ssim: 0.8108 - val_loss: 0.1236 - val_mean_squared_error: 0.0024 - val_psnr: 26.5947 - val_ssim: 0.8764\n",
      "Epoch 00020: early stopping\n",
      "##############################\n",
      "              PSNR         SSIM\n",
      "count  8039.000000  8039.000000\n",
      "mean     27.144900     0.884842\n",
      "std       2.153789     0.029145\n",
      "min      17.723997     0.644716\n",
      "25%      25.871428     0.869890\n",
      "50%      26.758251     0.886743\n",
      "75%      28.416421     0.902908\n",
      "max      34.454815     0.951930\n",
      "##############################\n"
     ]
    }
   ],
   "source": [
    "ae_ssim_model.compile(loss=ssim_loss, optimizer = 'adam', metrics=metrics)\n",
    "ae_ssim_fitted = workbench.run(model=ae_ssim_model, epochs=30)"
   ]
  },
  {
   "cell_type": "markdown",
   "metadata": {},
   "source": [
    "### AE + Skippend Long Connections (AE+sLC)"
   ]
  },
  {
   "cell_type": "markdown",
   "metadata": {},
   "source": [
    "#### Loss function: MSE"
   ]
  },
  {
   "cell_type": "code",
   "execution_count": 10,
   "metadata": {},
   "outputs": [],
   "source": [
    "ae_slc_mse_model = AutoEncoder(\n",
    "    encoder=SimpleEncoder(depth=4, feature_maps=8),\n",
    "    name=\"ae_slc_mse\",\n",
    "    skip_long_connections_function=layers.add\n",
    ")(input_shape=workbench.image_shape)"
   ]
  },
  {
   "cell_type": "code",
   "execution_count": 11,
   "metadata": {},
   "outputs": [
    {
     "name": "stdout",
     "output_type": "stream",
     "text": [
      "WARNING:tensorflow:sample_weight modes were coerced from\n",
      "  ...\n",
      "    to  \n",
      "  ['...']\n",
      "WARNING:tensorflow:sample_weight modes were coerced from\n",
      "  ...\n",
      "    to  \n",
      "  ['...']\n",
      "Train for 1644 steps, validate for 348 steps\n",
      "Epoch 1/30\n",
      "1644/1644 [==============================] - 165s 100ms/step - loss: 0.0060 - mean_squared_error: 0.0060 - psnr: 26.0533 - ssim: 0.6451 - val_loss: 0.0013 - val_mean_squared_error: 0.0013 - val_psnr: 30.3027 - val_ssim: 0.7882\n",
      "Epoch 2/30\n",
      "1644/1644 [==============================] - 164s 100ms/step - loss: 0.0013 - mean_squared_error: 0.0013 - psnr: 30.3893 - ssim: 0.8032 - val_loss: 9.6850e-04 - val_mean_squared_error: 9.6864e-04 - val_psnr: 32.5014 - val_ssim: 0.8790\n",
      "Epoch 3/30\n",
      "1644/1644 [==============================] - 164s 100ms/step - loss: 0.0011 - mean_squared_error: 0.0011 - psnr: 31.5362 - ssim: 0.8658 - val_loss: 9.1895e-04 - val_mean_squared_error: 9.1794e-04 - val_psnr: 32.2905 - val_ssim: 0.9165\n",
      "Epoch 4/30\n",
      "1643/1644 [============================>.] - ETA: 0s - loss: 9.3902e-04 - mean_squared_error: 9.3904e-04 - psnr: 32.4430 - ssim: 0.9110\n",
      "Epoch 00004: ReduceLROnPlateau reducing learning rate to 0.00020000000949949026.\n",
      "1644/1644 [==============================] - 164s 100ms/step - loss: 9.3929e-04 - mean_squared_error: 9.3932e-04 - psnr: 32.4430 - ssim: 0.9110 - val_loss: 9.3320e-04 - val_mean_squared_error: 9.3361e-04 - val_psnr: 32.5731 - val_ssim: 0.9004\n",
      "Epoch 5/30\n",
      "1644/1644 [==============================] - 164s 100ms/step - loss: 8.1723e-04 - mean_squared_error: 8.1582e-04 - psnr: 33.2484 - ssim: 0.9248 - val_loss: 6.9706e-04 - val_mean_squared_error: 6.9815e-04 - val_psnr: 34.5830 - val_ssim: 0.9349\n",
      "Epoch 6/30\n",
      "1644/1644 [==============================] - 164s 100ms/step - loss: 7.8726e-04 - mean_squared_error: 7.8713e-04 - psnr: 33.4518 - ssim: 0.9284 - val_loss: 7.0807e-04 - val_mean_squared_error: 7.0862e-04 - val_psnr: 34.7765 - val_ssim: 0.9327\n",
      "Epoch 7/30\n",
      "1643/1644 [============================>.] - ETA: 0s - loss: 7.5934e-04 - mean_squared_error: 7.5941e-04 - psnr: 33.7142 - ssim: 0.9318\n",
      "Epoch 00007: ReduceLROnPlateau reducing learning rate to 4.0000001899898055e-05.\n",
      "1644/1644 [==============================] - 164s 100ms/step - loss: 7.5940e-04 - mean_squared_error: 7.5946e-04 - psnr: 33.7127 - ssim: 0.9318 - val_loss: 7.0653e-04 - val_mean_squared_error: 7.0728e-04 - val_psnr: 35.0325 - val_ssim: 0.9414\n",
      "Epoch 8/30\n",
      "1644/1644 [==============================] - 164s 100ms/step - loss: 7.3011e-04 - mean_squared_error: 7.2808e-04 - psnr: 33.9465 - ssim: 0.9319 - val_loss: 6.5688e-04 - val_mean_squared_error: 6.5555e-04 - val_psnr: 35.1324 - val_ssim: 0.9329\n",
      "Epoch 9/30\n",
      "1643/1644 [============================>.] - ETA: 0s - loss: 7.2731e-04 - mean_squared_error: 7.2681e-04 - psnr: 33.9552 - ssim: 0.9316\n",
      "Epoch 00009: ReduceLROnPlateau reducing learning rate to 8.000000525498762e-06.\n",
      "1644/1644 [==============================] - 164s 100ms/step - loss: 7.2748e-04 - mean_squared_error: 7.2698e-04 - psnr: 33.9550 - ssim: 0.9316 - val_loss: 6.5867e-04 - val_mean_squared_error: 6.5880e-04 - val_psnr: 35.2148 - val_ssim: 0.9357\n",
      "Epoch 10/30\n",
      "1644/1644 [==============================] - 164s 100ms/step - loss: 7.1240e-04 - mean_squared_error: 7.1240e-04 - psnr: 34.0793 - ssim: 0.9319 - val_loss: 6.3358e-04 - val_mean_squared_error: 6.3303e-04 - val_psnr: 35.3483 - val_ssim: 0.9347\n",
      "Epoch 11/30\n",
      "1643/1644 [============================>.] - ETA: 0s - loss: 7.1934e-04 - mean_squared_error: 7.1861e-04 - psnr: 34.0463 - ssim: 0.9313\n",
      "Epoch 00011: ReduceLROnPlateau reducing learning rate to 1.6000001778593287e-06.\n",
      "1644/1644 [==============================] - 164s 100ms/step - loss: 7.1937e-04 - mean_squared_error: 7.1865e-04 - psnr: 34.0461 - ssim: 0.9313 - val_loss: 6.3660e-04 - val_mean_squared_error: 6.3573e-04 - val_psnr: 35.3141 - val_ssim: 0.9369\n",
      "Epoch 12/30\n",
      "1644/1644 [==============================] - 164s 100ms/step - loss: 7.2079e-04 - mean_squared_error: 7.1961e-04 - psnr: 34.0312 - ssim: 0.9309 - val_loss: 6.6395e-04 - val_mean_squared_error: 6.6256e-04 - val_psnr: 35.0112 - val_ssim: 0.9333\n",
      "Epoch 13/30\n",
      "1643/1644 [============================>.] - ETA: 0s - loss: 7.1189e-04 - mean_squared_error: 7.1064e-04 - psnr: 34.0977 - ssim: 0.9314\n",
      "Epoch 00013: ReduceLROnPlateau reducing learning rate to 3.200000264769187e-07.\n",
      "1644/1644 [==============================] - 164s 100ms/step - loss: 7.1190e-04 - mean_squared_error: 7.1065e-04 - psnr: 34.0980 - ssim: 0.9314 - val_loss: 6.3114e-04 - val_mean_squared_error: 6.3080e-04 - val_psnr: 35.2974 - val_ssim: 0.9358\n",
      "Epoch 14/30\n",
      "1644/1644 [==============================] - 164s 100ms/step - loss: 7.1304e-04 - mean_squared_error: 7.1287e-04 - psnr: 34.1152 - ssim: 0.9317 - val_loss: 6.4667e-04 - val_mean_squared_error: 6.4747e-04 - val_psnr: 35.2578 - val_ssim: 0.9359\n",
      "Epoch 15/30\n",
      "1643/1644 [============================>.] - ETA: 0s - loss: 7.2129e-04 - mean_squared_error: 7.2014e-04 - psnr: 34.0714 - ssim: 0.9313\n",
      "Epoch 00015: ReduceLROnPlateau reducing learning rate to 6.400000529538374e-08.\n",
      "1644/1644 [==============================] - 164s 100ms/step - loss: 7.2160e-04 - mean_squared_error: 7.2045e-04 - psnr: 34.0709 - ssim: 0.9313 - val_loss: 6.4186e-04 - val_mean_squared_error: 6.4247e-04 - val_psnr: 35.2611 - val_ssim: 0.9360\n",
      "Epoch 16/30\n",
      "1643/1644 [============================>.] - ETA: 0s - loss: 7.1157e-04 - mean_squared_error: 7.1030e-04 - psnr: 34.1229 - ssim: 0.9315Restoring model weights from the end of the best epoch.\n",
      "1644/1644 [==============================] - 164s 100ms/step - loss: 7.1140e-04 - mean_squared_error: 7.1013e-04 - psnr: 34.1246 - ssim: 0.9315 - val_loss: 6.3468e-04 - val_mean_squared_error: 6.3541e-04 - val_psnr: 35.2848 - val_ssim: 0.9349\n",
      "Epoch 00016: early stopping\n",
      "##############################\n",
      "              PSNR         SSIM\n",
      "count  8039.000000  8039.000000\n",
      "mean     35.293820     0.937501\n",
      "std       5.649444     0.039200\n",
      "min      19.689127     0.712533\n",
      "25%      30.335989     0.920467\n",
      "50%      35.717224     0.950647\n",
      "75%      41.340464     0.965513\n",
      "max      44.194050     0.984715\n",
      "##############################\n"
     ]
    }
   ],
   "source": [
    "ae_slc_mse_model.compile(loss='mean_squared_error', optimizer = 'adam', metrics=metrics)\n",
    "ae_slc_mse_fitted = workbench.run(model=ae_slc_mse_model, epochs=30)"
   ]
  },
  {
   "cell_type": "markdown",
   "metadata": {},
   "source": [
    "#### Loss function: SSIM"
   ]
  },
  {
   "cell_type": "code",
   "execution_count": 12,
   "metadata": {},
   "outputs": [],
   "source": [
    "ae_slc_ssim_model = AutoEncoder(\n",
    "    encoder=SimpleEncoder(depth=4, feature_maps=8),\n",
    "    name=\"ae_slc_ssim\",\n",
    "    skip_long_connections_function=layers.add\n",
    ")(input_shape=workbench.image_shape)"
   ]
  },
  {
   "cell_type": "code",
   "execution_count": 13,
   "metadata": {},
   "outputs": [
    {
     "name": "stdout",
     "output_type": "stream",
     "text": [
      "WARNING:tensorflow:sample_weight modes were coerced from\n",
      "  ...\n",
      "    to  \n",
      "  ['...']\n",
      "WARNING:tensorflow:sample_weight modes were coerced from\n",
      "  ...\n",
      "    to  \n",
      "  ['...']\n",
      "Train for 1644 steps, validate for 348 steps\n",
      "Epoch 1/30\n",
      "1644/1644 [==============================] - 178s 108ms/step - loss: 0.0969 - mean_squared_error: 0.0250 - psnr: 24.5536 - ssim: 0.9031 - val_loss: 0.0884 - val_mean_squared_error: 0.0162 - val_psnr: 23.3063 - val_ssim: 0.9116\n",
      "Epoch 2/30\n",
      "1644/1644 [==============================] - 177s 107ms/step - loss: 0.0408 - mean_squared_error: 0.0024 - psnr: 31.2117 - ssim: 0.9592 - val_loss: 0.0376 - val_mean_squared_error: 0.0011 - val_psnr: 32.0829 - val_ssim: 0.9624\n",
      "Epoch 3/30\n",
      "1644/1644 [==============================] - 177s 107ms/step - loss: 0.0335 - mean_squared_error: 9.5328e-04 - psnr: 33.0856 - ssim: 0.9665 - val_loss: 0.2207 - val_mean_squared_error: 0.0316 - val_psnr: 18.0754 - val_ssim: 0.7793\n",
      "Epoch 4/30\n",
      "1644/1644 [==============================] - 177s 108ms/step - loss: 0.0307 - mean_squared_error: 8.9038e-04 - psnr: 33.5512 - ssim: 0.9693 - val_loss: 0.0329 - val_mean_squared_error: 9.0184e-04 - val_psnr: 34.3337 - val_ssim: 0.9671\n",
      "Epoch 5/30\n",
      "1644/1644 [==============================] - 177s 107ms/step - loss: 0.0294 - mean_squared_error: 8.3206e-04 - psnr: 33.8878 - ssim: 0.9706 - val_loss: 0.0424 - val_mean_squared_error: 0.0013 - val_psnr: 34.8044 - val_ssim: 0.9576\n",
      "Epoch 6/30\n",
      "1644/1644 [==============================] - 177s 108ms/step - loss: 0.0285 - mean_squared_error: 8.2636e-04 - psnr: 33.9180 - ssim: 0.9715 - val_loss: 0.0266 - val_mean_squared_error: 7.2942e-04 - val_psnr: 35.3019 - val_ssim: 0.9734\n",
      "Epoch 7/30\n",
      "1644/1644 [==============================] - 177s 107ms/step - loss: 0.0271 - mean_squared_error: 7.7844e-04 - psnr: 34.3560 - ssim: 0.9729 - val_loss: 0.0438 - val_mean_squared_error: 0.0015 - val_psnr: 31.9826 - val_ssim: 0.9561\n",
      "Epoch 8/30\n",
      "1643/1644 [============================>.] - ETA: 0s - loss: 0.0266 - mean_squared_error: 7.6112e-04 - psnr: 34.3926 - ssim: 0.9734\n",
      "Epoch 00008: ReduceLROnPlateau reducing learning rate to 0.00020000000949949026.\n",
      "1644/1644 [==============================] - 177s 108ms/step - loss: 0.0266 - mean_squared_error: 7.6127e-04 - psnr: 34.3927 - ssim: 0.9734 - val_loss: 0.0553 - val_mean_squared_error: 0.0016 - val_psnr: 32.3180 - val_ssim: 0.9447\n",
      "Epoch 9/30\n",
      "1644/1644 [==============================] - 177s 107ms/step - loss: 0.0247 - mean_squared_error: 6.5996e-04 - psnr: 35.2278 - ssim: 0.9754 - val_loss: 0.0264 - val_mean_squared_error: 7.4704e-04 - val_psnr: 36.2432 - val_ssim: 0.9736\n",
      "Epoch 10/30\n",
      "1644/1644 [==============================] - 177s 108ms/step - loss: 0.0242 - mean_squared_error: 6.5075e-04 - psnr: 35.3015 - ssim: 0.9758 - val_loss: 0.0244 - val_mean_squared_error: 6.0686e-04 - val_psnr: 36.6119 - val_ssim: 0.9756\n",
      "Epoch 11/30\n",
      "1644/1644 [==============================] - 177s 107ms/step - loss: 0.0239 - mean_squared_error: 6.3526e-04 - psnr: 35.4255 - ssim: 0.9761 - val_loss: 0.0267 - val_mean_squared_error: 8.6025e-04 - val_psnr: 35.4536 - val_ssim: 0.9732\n",
      "Epoch 12/30\n",
      "1643/1644 [============================>.] - ETA: 0s - loss: 0.0240 - mean_squared_error: 6.3953e-04 - psnr: 35.4515 - ssim: 0.9760\n",
      "Epoch 00012: ReduceLROnPlateau reducing learning rate to 4.0000001899898055e-05.\n",
      "1644/1644 [==============================] - 177s 107ms/step - loss: 0.0240 - mean_squared_error: 6.3937e-04 - psnr: 35.4538 - ssim: 0.9760 - val_loss: 0.0246 - val_mean_squared_error: 5.9677e-04 - val_psnr: 36.7351 - val_ssim: 0.9754\n",
      "Epoch 13/30\n",
      "1644/1644 [==============================] - 177s 107ms/step - loss: 0.0235 - mean_squared_error: 6.0644e-04 - psnr: 35.7713 - ssim: 0.9766 - val_loss: 0.0232 - val_mean_squared_error: 5.5154e-04 - val_psnr: 36.8437 - val_ssim: 0.9768\n",
      "Epoch 14/30\n",
      "1644/1644 [==============================] - 177s 108ms/step - loss: 0.0231 - mean_squared_error: 6.0026e-04 - psnr: 35.8508 - ssim: 0.9769 - val_loss: 0.0230 - val_mean_squared_error: 5.7627e-04 - val_psnr: 36.9477 - val_ssim: 0.9770\n",
      "Epoch 15/30\n",
      "1644/1644 [==============================] - 177s 107ms/step - loss: 0.0232 - mean_squared_error: 6.0207e-04 - psnr: 35.8639 - ssim: 0.9768 - val_loss: 0.0228 - val_mean_squared_error: 5.5016e-04 - val_psnr: 37.1120 - val_ssim: 0.9771\n",
      "Epoch 16/30\n",
      "1644/1644 [==============================] - 177s 107ms/step - loss: 0.5870 - mean_squared_error: 0.0332 - psnr: 15.2279 - ssim: 0.4127 - val_loss: 0.5474 - val_mean_squared_error: 0.0266 - val_psnr: 16.0473 - val_ssim: 0.4525\n",
      "Epoch 17/30\n",
      "1643/1644 [============================>.] - ETA: 0s - loss: 0.0628 - mean_squared_error: 0.0020 - psnr: 31.3559 - ssim: 0.9375\n",
      "Epoch 00017: ReduceLROnPlateau reducing learning rate to 8.000000525498762e-06.\n",
      "1644/1644 [==============================] - 177s 107ms/step - loss: 0.0628 - mean_squared_error: 0.0020 - psnr: 31.3570 - ssim: 0.9375 - val_loss: 0.0355 - val_mean_squared_error: 8.6364e-04 - val_psnr: 34.7533 - val_ssim: 0.9646\n",
      "Epoch 18/30\n",
      "1643/1644 [============================>.] - ETA: 0s - loss: 0.0348 - mean_squared_error: 8.6267e-04 - psnr: 33.8118 - ssim: 0.9652Restoring model weights from the end of the best epoch.\n",
      "1644/1644 [==============================] - 177s 107ms/step - loss: 0.0348 - mean_squared_error: 8.6251e-04 - psnr: 33.8122 - ssim: 0.9652 - val_loss: 0.0329 - val_mean_squared_error: 7.4722e-04 - val_psnr: 35.2915 - val_ssim: 0.9671\n",
      "Epoch 00018: early stopping\n",
      "##############################\n",
      "              PSNR         SSIM\n",
      "count  8039.000000  8039.000000\n",
      "mean     36.892184     0.976397\n",
      "std       6.374616     0.029343\n",
      "min      17.078188     0.777553\n",
      "25%      30.971628     0.960505\n",
      "50%      38.882034     0.992881\n",
      "75%      42.133724     0.998471\n",
      "max      48.905041     0.999095\n",
      "##############################\n"
     ]
    }
   ],
   "source": [
    "ae_slc_ssim_model.compile(loss=ssim_loss, optimizer = 'adam', metrics=metrics)\n",
    "ae_slc_ssim_fitted = workbench.run(model=ae_slc_ssim_model, epochs=30)"
   ]
  },
  {
   "cell_type": "markdown",
   "metadata": {},
   "source": [
    "### AE + Residual block (RB)"
   ]
  },
  {
   "cell_type": "markdown",
   "metadata": {},
   "source": [
    "#### Loss function: MSE"
   ]
  },
  {
   "cell_type": "code",
   "execution_count": 14,
   "metadata": {},
   "outputs": [],
   "source": [
    "ae_rb_mse_model = AutoEncoder(\n",
    "    encoder=ResnetEncoderv1(nb_list=[3,4,2], feature_maps=8),\n",
    "    name=\"ae_rb_mse\",\n",
    ")(input_shape=workbench.image_shape)"
   ]
  },
  {
   "cell_type": "code",
   "execution_count": 15,
   "metadata": {},
   "outputs": [
    {
     "name": "stdout",
     "output_type": "stream",
     "text": [
      "WARNING:tensorflow:sample_weight modes were coerced from\n",
      "  ...\n",
      "    to  \n",
      "  ['...']\n",
      "WARNING:tensorflow:sample_weight modes were coerced from\n",
      "  ...\n",
      "    to  \n",
      "  ['...']\n",
      "Train for 1644 steps, validate for 348 steps\n",
      "Epoch 1/30\n",
      "1644/1644 [==============================] - 220s 134ms/step - loss: 0.0067 - mean_squared_error: 0.0067 - psnr: 22.9834 - ssim: 0.4827 - val_loss: 0.0146 - val_mean_squared_error: 0.0146 - val_psnr: 18.7289 - val_ssim: 0.4913\n",
      "Epoch 2/30\n",
      "1644/1644 [==============================] - 217s 132ms/step - loss: 0.0027 - mean_squared_error: 0.0027 - psnr: 26.0709 - ssim: 0.7151 - val_loss: 0.0024 - val_mean_squared_error: 0.0024 - val_psnr: 26.6411 - val_ssim: 0.7827\n",
      "Epoch 3/30\n",
      "1644/1644 [==============================] - 218s 132ms/step - loss: 0.0021 - mean_squared_error: 0.0021 - psnr: 27.1833 - ssim: 0.8058 - val_loss: 0.0020 - val_mean_squared_error: 0.0020 - val_psnr: 27.4065 - val_ssim: 0.8335\n",
      "Epoch 4/30\n",
      "1644/1644 [==============================] - 217s 132ms/step - loss: 0.0019 - mean_squared_error: 0.0019 - psnr: 27.8005 - ssim: 0.8426 - val_loss: 0.0631 - val_mean_squared_error: 0.0631 - val_psnr: 12.3256 - val_ssim: 0.5427\n",
      "Epoch 5/30\n",
      "1644/1644 [==============================] - 217s 132ms/step - loss: 0.0017 - mean_squared_error: 0.0017 - psnr: 28.3000 - ssim: 0.8648 - val_loss: 0.0016 - val_mean_squared_error: 0.0016 - val_psnr: 28.5018 - val_ssim: 0.8747\n",
      "Epoch 6/30\n",
      "1644/1644 [==============================] - 217s 132ms/step - loss: 0.0015 - mean_squared_error: 0.0015 - psnr: 28.6706 - ssim: 0.8775 - val_loss: 0.0024 - val_mean_squared_error: 0.0024 - val_psnr: 27.8419 - val_ssim: 0.8681\n",
      "Epoch 7/30\n",
      "1643/1644 [============================>.] - ETA: 0s - loss: 0.0014 - mean_squared_error: 0.0014 - psnr: 28.9836 - ssim: 0.8863\n",
      "Epoch 00007: ReduceLROnPlateau reducing learning rate to 0.00020000000949949026.\n",
      "1644/1644 [==============================] - 217s 132ms/step - loss: 0.0014 - mean_squared_error: 0.0014 - psnr: 28.9832 - ssim: 0.8863 - val_loss: 0.0017 - val_mean_squared_error: 0.0017 - val_psnr: 28.0280 - val_ssim: 0.8811\n",
      "Epoch 8/30\n",
      "1644/1644 [==============================] - 217s 132ms/step - loss: 0.0013 - mean_squared_error: 0.0013 - psnr: 29.4887 - ssim: 0.8955 - val_loss: 0.0014 - val_mean_squared_error: 0.0014 - val_psnr: 29.1510 - val_ssim: 0.8442\n",
      "Epoch 9/30\n",
      "1644/1644 [==============================] - 217s 132ms/step - loss: 0.0013 - mean_squared_error: 0.0013 - psnr: 29.5954 - ssim: 0.8982 - val_loss: 0.0013 - val_mean_squared_error: 0.0013 - val_psnr: 29.6238 - val_ssim: 0.9008\n",
      "Epoch 10/30\n",
      "1644/1644 [==============================] - 217s 132ms/step - loss: 0.0012 - mean_squared_error: 0.0012 - psnr: 29.6694 - ssim: 0.8996 - val_loss: 0.0013 - val_mean_squared_error: 0.0013 - val_psnr: 29.6075 - val_ssim: 0.8779\n",
      "Epoch 11/30\n",
      "1643/1644 [============================>.] - ETA: 0s - loss: 0.0012 - mean_squared_error: 0.0012 - psnr: 29.7492 - ssim: 0.9019\n",
      "Epoch 00011: ReduceLROnPlateau reducing learning rate to 4.0000001899898055e-05.\n",
      "1644/1644 [==============================] - 217s 132ms/step - loss: 0.0012 - mean_squared_error: 0.0012 - psnr: 29.7493 - ssim: 0.9019 - val_loss: 0.0012 - val_mean_squared_error: 0.0012 - val_psnr: 29.7024 - val_ssim: 0.8946\n",
      "Epoch 12/30\n",
      "1644/1644 [==============================] - 218s 133ms/step - loss: 0.0012 - mean_squared_error: 0.0012 - psnr: 29.9040 - ssim: 0.9039 - val_loss: 0.0011 - val_mean_squared_error: 0.0011 - val_psnr: 30.0492 - val_ssim: 0.9056\n",
      "Epoch 13/30\n",
      "1644/1644 [==============================] - 218s 133ms/step - loss: 0.0012 - mean_squared_error: 0.0012 - psnr: 29.9031 - ssim: 0.9035 - val_loss: 0.0011 - val_mean_squared_error: 0.0011 - val_psnr: 30.0840 - val_ssim: 0.9046\n",
      "Epoch 14/30\n",
      "1643/1644 [============================>.] - ETA: 0s - loss: 0.0012 - mean_squared_error: 0.0012 - psnr: 29.9214 - ssim: 0.9041\n",
      "Epoch 00014: ReduceLROnPlateau reducing learning rate to 8.000000525498762e-06.\n",
      "1644/1644 [==============================] - 218s 133ms/step - loss: 0.0012 - mean_squared_error: 0.0012 - psnr: 29.9215 - ssim: 0.9041 - val_loss: 0.0011 - val_mean_squared_error: 0.0011 - val_psnr: 30.0990 - val_ssim: 0.9058\n",
      "Epoch 15/30\n",
      "1644/1644 [==============================] - 218s 132ms/step - loss: 0.0012 - mean_squared_error: 0.0012 - psnr: 29.9607 - ssim: 0.9045 - val_loss: 0.0011 - val_mean_squared_error: 0.0011 - val_psnr: 30.1205 - val_ssim: 0.9066\n",
      "Epoch 16/30\n",
      "1643/1644 [============================>.] - ETA: 0s - loss: 0.0012 - mean_squared_error: 0.0012 - psnr: 29.9645 - ssim: 0.9045\n",
      "Epoch 00016: ReduceLROnPlateau reducing learning rate to 1.6000001778593287e-06.\n",
      "1644/1644 [==============================] - 218s 132ms/step - loss: 0.0012 - mean_squared_error: 0.0012 - psnr: 29.9653 - ssim: 0.9045 - val_loss: 0.0011 - val_mean_squared_error: 0.0011 - val_psnr: 30.0971 - val_ssim: 0.9048\n",
      "Epoch 17/30\n",
      "1644/1644 [==============================] - 217s 132ms/step - loss: 0.0304 - mean_squared_error: 0.0304 - psnr: 15.5100 - ssim: 0.3120 - val_loss: 0.0159 - val_mean_squared_error: 0.0159 - val_psnr: 18.1975 - val_ssim: 0.4492\n",
      "Epoch 18/30\n",
      "1643/1644 [============================>.] - ETA: 0s - loss: 0.0044 - mean_squared_error: 0.0044 - psnr: 25.1530 - ssim: 0.7579\n",
      "Epoch 00018: ReduceLROnPlateau reducing learning rate to 3.200000264769187e-07.\n",
      "Restoring model weights from the end of the best epoch.\n",
      "1644/1644 [==============================] - 217s 132ms/step - loss: 0.0044 - mean_squared_error: 0.0044 - psnr: 25.1555 - ssim: 0.7579 - val_loss: 0.0014 - val_mean_squared_error: 0.0014 - val_psnr: 28.8686 - val_ssim: 0.8714\n",
      "Epoch 00018: early stopping\n",
      "##############################\n",
      "              PSNR         SSIM\n",
      "count  8039.000000  8039.000000\n",
      "mean     30.210579     0.908587\n",
      "std       2.351444     0.026002\n",
      "min      20.183338     0.707898\n",
      "25%      28.957376     0.898305\n",
      "50%      30.164896     0.913163\n",
      "75%      31.520925     0.925050\n",
      "max      37.246170     0.955751\n",
      "##############################\n"
     ]
    }
   ],
   "source": [
    "ae_rb_mse_model.compile(loss='mean_squared_error', optimizer = 'adam', metrics=metrics)\n",
    "ae_rb_mse_fitted = workbench.run(model=ae_rb_mse_model, epochs=30)"
   ]
  },
  {
   "cell_type": "markdown",
   "metadata": {},
   "source": [
    "#### Loss function: SSIM"
   ]
  },
  {
   "cell_type": "code",
   "execution_count": 16,
   "metadata": {},
   "outputs": [],
   "source": [
    "ae_rb_ssim_model = AutoEncoder(\n",
    "    encoder=ResnetEncoderv1(nb_list=[3,4,2], feature_maps=8),\n",
    "    name=\"ae_rb_ssim\",\n",
    ")(input_shape=workbench.image_shape)"
   ]
  },
  {
   "cell_type": "code",
   "execution_count": 17,
   "metadata": {},
   "outputs": [
    {
     "name": "stdout",
     "output_type": "stream",
     "text": [
      "WARNING:tensorflow:sample_weight modes were coerced from\n",
      "  ...\n",
      "    to  \n",
      "  ['...']\n",
      "WARNING:tensorflow:sample_weight modes were coerced from\n",
      "  ...\n",
      "    to  \n",
      "  ['...']\n",
      "Train for 1644 steps, validate for 348 steps\n",
      "Epoch 1/30\n",
      "1644/1644 [==============================] - 230s 140ms/step - loss: 0.2134 - mean_squared_error: 0.0450 - psnr: 19.4682 - ssim: 0.7866 - val_loss: 0.5717 - val_mean_squared_error: 0.3854 - val_psnr: 4.2281 - val_ssim: 0.4283\n",
      "Epoch 2/30\n",
      "1644/1644 [==============================] - 227s 138ms/step - loss: 0.1077 - mean_squared_error: 0.0043 - psnr: 25.4774 - ssim: 0.8923 - val_loss: 0.2202 - val_mean_squared_error: 0.0039 - val_psnr: 25.3879 - val_ssim: 0.7798\n",
      "Epoch 3/30\n",
      "1644/1644 [==============================] - 227s 138ms/step - loss: 0.0977 - mean_squared_error: 0.0042 - psnr: 25.8641 - ssim: 0.9024 - val_loss: 0.0984 - val_mean_squared_error: 0.0038 - val_psnr: 26.4119 - val_ssim: 0.9016\n",
      "Epoch 4/30\n",
      "1644/1644 [==============================] - 227s 138ms/step - loss: 0.0857 - mean_squared_error: 0.0030 - psnr: 26.1505 - ssim: 0.9143 - val_loss: 0.1019 - val_mean_squared_error: 0.0034 - val_psnr: 24.9192 - val_ssim: 0.8981\n",
      "Epoch 5/30\n",
      "1643/1644 [============================>.] - ETA: 0s - loss: 0.0792 - mean_squared_error: 0.0023 - psnr: 26.8228 - ssim: 0.9208\n",
      "Epoch 00005: ReduceLROnPlateau reducing learning rate to 0.00020000000949949026.\n",
      "1644/1644 [==============================] - 227s 138ms/step - loss: 0.0792 - mean_squared_error: 0.0023 - psnr: 26.8236 - ssim: 0.9208 - val_loss: 0.1344 - val_mean_squared_error: 0.0034 - val_psnr: 26.1591 - val_ssim: 0.8655\n",
      "Epoch 6/30\n",
      "1644/1644 [==============================] - 227s 138ms/step - loss: 0.0738 - mean_squared_error: 0.0020 - psnr: 27.4769 - ssim: 0.9262 - val_loss: 0.0810 - val_mean_squared_error: 0.0024 - val_psnr: 27.9195 - val_ssim: 0.9190\n",
      "Epoch 7/30\n",
      "1644/1644 [==============================] - 227s 138ms/step - loss: 0.0725 - mean_squared_error: 0.0020 - psnr: 27.6063 - ssim: 0.9275 - val_loss: 0.0743 - val_mean_squared_error: 0.0021 - val_psnr: 27.6917 - val_ssim: 0.9257\n",
      "Epoch 8/30\n",
      "1644/1644 [==============================] - 227s 138ms/step - loss: 0.0714 - mean_squared_error: 0.0019 - psnr: 27.7529 - ssim: 0.9286 - val_loss: 0.0744 - val_mean_squared_error: 0.0024 - val_psnr: 26.6850 - val_ssim: 0.9256\n",
      "Epoch 9/30\n",
      "1643/1644 [============================>.] - ETA: 0s - loss: 0.0704 - mean_squared_error: 0.0019 - psnr: 27.8481 - ssim: 0.9297\n",
      "Epoch 00009: ReduceLROnPlateau reducing learning rate to 4.0000001899898055e-05.\n",
      "1644/1644 [==============================] - 227s 138ms/step - loss: 0.0704 - mean_squared_error: 0.0019 - psnr: 27.8474 - ssim: 0.9297 - val_loss: 0.0826 - val_mean_squared_error: 0.0028 - val_psnr: 26.3554 - val_ssim: 0.9174\n",
      "Epoch 10/30\n",
      "1644/1644 [==============================] - 227s 138ms/step - loss: 0.0684 - mean_squared_error: 0.0018 - psnr: 28.0653 - ssim: 0.9316 - val_loss: 0.0693 - val_mean_squared_error: 0.0019 - val_psnr: 27.7751 - val_ssim: 0.9307\n",
      "Epoch 11/30\n",
      "1644/1644 [==============================] - 227s 138ms/step - loss: 0.0679 - mean_squared_error: 0.0018 - psnr: 28.1469 - ssim: 0.9321 - val_loss: 0.0693 - val_mean_squared_error: 0.0018 - val_psnr: 28.7833 - val_ssim: 0.9307\n",
      "Epoch 12/30\n",
      "1644/1644 [==============================] - 227s 138ms/step - loss: 0.0679 - mean_squared_error: 0.0018 - psnr: 28.1765 - ssim: 0.9321 - val_loss: 0.0685 - val_mean_squared_error: 0.0018 - val_psnr: 28.0463 - val_ssim: 0.9315\n",
      "Epoch 13/30\n",
      "1644/1644 [==============================] - 227s 138ms/step - loss: 0.0675 - mean_squared_error: 0.0017 - psnr: 28.2416 - ssim: 0.9326 - val_loss: 0.0674 - val_mean_squared_error: 0.0017 - val_psnr: 28.3890 - val_ssim: 0.9326\n",
      "Epoch 14/30\n",
      "1644/1644 [==============================] - 230s 140ms/step - loss: 0.0671 - mean_squared_error: 0.0017 - psnr: 28.2642 - ssim: 0.9329 - val_loss: 0.0688 - val_mean_squared_error: 0.0017 - val_psnr: 28.6121 - val_ssim: 0.9311\n",
      "Epoch 15/30\n",
      "1643/1644 [============================>.] - ETA: 0s - loss: 0.0670 - mean_squared_error: 0.0017 - psnr: 28.3170 - ssim: 0.9331\n",
      "Epoch 00015: ReduceLROnPlateau reducing learning rate to 8.000000525498762e-06.\n",
      "1644/1644 [==============================] - 228s 139ms/step - loss: 0.0670 - mean_squared_error: 0.0017 - psnr: 28.3172 - ssim: 0.9331 - val_loss: 0.0682 - val_mean_squared_error: 0.0017 - val_psnr: 28.4079 - val_ssim: 0.9318\n",
      "Epoch 16/30\n",
      "1644/1644 [==============================] - 229s 139ms/step - loss: 0.0667 - mean_squared_error: 0.0017 - psnr: 28.3672 - ssim: 0.9333 - val_loss: 0.0666 - val_mean_squared_error: 0.0016 - val_psnr: 28.6019 - val_ssim: 0.9334\n",
      "Epoch 17/30\n",
      "1644/1644 [==============================] - 229s 139ms/step - loss: 0.0667 - mean_squared_error: 0.0017 - psnr: 28.3756 - ssim: 0.9333 - val_loss: 0.0660 - val_mean_squared_error: 0.0016 - val_psnr: 28.6827 - val_ssim: 0.9340\n",
      "Epoch 18/30\n",
      "1644/1644 [==============================] - 228s 139ms/step - loss: 0.0666 - mean_squared_error: 0.0017 - psnr: 28.3780 - ssim: 0.9334 - val_loss: 0.0672 - val_mean_squared_error: 0.0017 - val_psnr: 28.3178 - val_ssim: 0.9328\n",
      "Epoch 19/30\n",
      "1643/1644 [============================>.] - ETA: 0s - loss: 0.0664 - mean_squared_error: 0.0017 - psnr: 28.4137 - ssim: 0.9336\n",
      "Epoch 00019: ReduceLROnPlateau reducing learning rate to 1.6000001778593287e-06.\n",
      "1644/1644 [==============================] - 228s 139ms/step - loss: 0.0664 - mean_squared_error: 0.0017 - psnr: 28.4139 - ssim: 0.9336 - val_loss: 0.0667 - val_mean_squared_error: 0.0016 - val_psnr: 28.5523 - val_ssim: 0.9333\n",
      "Epoch 20/30\n",
      "1643/1644 [============================>.] - ETA: 0s - loss: 0.0666 - mean_squared_error: 0.0017 - psnr: 28.3984 - ssim: 0.9334Restoring model weights from the end of the best epoch.\n",
      "1644/1644 [==============================] - 229s 140ms/step - loss: 0.0666 - mean_squared_error: 0.0017 - psnr: 28.3980 - ssim: 0.9334 - val_loss: 0.0665 - val_mean_squared_error: 0.0016 - val_psnr: 28.5962 - val_ssim: 0.9335\n",
      "Epoch 00020: early stopping\n",
      "##############################\n",
      "              PSNR         SSIM\n",
      "count  8039.000000  8039.000000\n",
      "mean     28.721103     0.934112\n",
      "std       2.430604     0.026417\n",
      "min      16.640694     0.673858\n",
      "25%      27.463642     0.925431\n",
      "50%      28.521847     0.940318\n",
      "75%      30.170737     0.950616\n",
      "max      35.673420     0.977036\n",
      "##############################\n"
     ]
    }
   ],
   "source": [
    "ae_rb_ssim_model.compile(loss=ssim_loss, optimizer = 'adam', metrics=metrics)\n",
    "ae_rb_ssim_fitted = workbench.run(model=ae_rb_ssim_model, epochs=30)"
   ]
  },
  {
   "cell_type": "markdown",
   "metadata": {},
   "source": [
    "### AE + sLC + RB (v1)"
   ]
  },
  {
   "cell_type": "markdown",
   "metadata": {},
   "source": [
    "#### Loss function: MSE"
   ]
  },
  {
   "cell_type": "code",
   "execution_count": 18,
   "metadata": {},
   "outputs": [],
   "source": [
    "ae_slc_rb_mse_model_v1 = AutoEncoder(\n",
    "    encoder=ResnetEncoderv1(nb_list=[3,4,2], feature_maps=8),\n",
    "    name=\"ae_slc_rb_mse_v1\",\n",
    "    skip_long_connections_function=layers.add\n",
    ")(input_shape=workbench.image_shape)"
   ]
  },
  {
   "cell_type": "code",
   "execution_count": 19,
   "metadata": {},
   "outputs": [
    {
     "name": "stdout",
     "output_type": "stream",
     "text": [
      "WARNING:tensorflow:sample_weight modes were coerced from\n",
      "  ...\n",
      "    to  \n",
      "  ['...']\n",
      "WARNING:tensorflow:sample_weight modes were coerced from\n",
      "  ...\n",
      "    to  \n",
      "  ['...']\n",
      "Train for 1644 steps, validate for 348 steps\n",
      "Epoch 1/30\n",
      "1644/1644 [==============================] - 220s 134ms/step - loss: 0.0109 - mean_squared_error: 0.0109 - psnr: 23.0282 - ssim: 0.5615 - val_loss: 0.0034 - val_mean_squared_error: 0.0034 - val_psnr: 25.4447 - val_ssim: 0.6592\n",
      "Epoch 2/30\n",
      "1644/1644 [==============================] - 218s 133ms/step - loss: 0.0018 - mean_squared_error: 0.0018 - psnr: 28.2120 - ssim: 0.7437 - val_loss: 0.0082 - val_mean_squared_error: 0.0082 - val_psnr: 21.8322 - val_ssim: 0.7752\n",
      "Epoch 3/30\n",
      "1643/1644 [============================>.] - ETA: 0s - loss: 0.0016 - mean_squared_error: 0.0016 - psnr: 28.8968 - ssim: 0.8295\n",
      "Epoch 00003: ReduceLROnPlateau reducing learning rate to 0.00020000000949949026.\n",
      "1644/1644 [==============================] - 218s 132ms/step - loss: 0.0016 - mean_squared_error: 0.0016 - psnr: 28.8973 - ssim: 0.8296 - val_loss: 0.0047 - val_mean_squared_error: 0.0047 - val_psnr: 24.9882 - val_ssim: 0.7250\n",
      "Epoch 4/30\n",
      "1644/1644 [==============================] - 218s 133ms/step - loss: 0.0013 - mean_squared_error: 0.0013 - psnr: 29.7059 - ssim: 0.8629 - val_loss: 0.0013 - val_mean_squared_error: 0.0013 - val_psnr: 30.0411 - val_ssim: 0.8500\n",
      "Epoch 5/30\n",
      "1644/1644 [==============================] - 218s 132ms/step - loss: 0.0012 - mean_squared_error: 0.0012 - psnr: 30.0347 - ssim: 0.8744 - val_loss: 0.0012 - val_mean_squared_error: 0.0012 - val_psnr: 30.2922 - val_ssim: 0.8911\n",
      "Epoch 6/30\n",
      "1643/1644 [============================>.] - ETA: 0s - loss: 0.0012 - mean_squared_error: 0.0012 - psnr: 30.2668 - ssim: 0.8846\n",
      "Epoch 00006: ReduceLROnPlateau reducing learning rate to 4.0000001899898055e-05.\n",
      "1644/1644 [==============================] - 218s 132ms/step - loss: 0.0012 - mean_squared_error: 0.0012 - psnr: 30.2666 - ssim: 0.8846 - val_loss: 0.0057 - val_mean_squared_error: 0.0057 - val_psnr: 24.5935 - val_ssim: 0.7370\n",
      "Epoch 7/30\n",
      "1644/1644 [==============================] - 218s 133ms/step - loss: 0.0011 - mean_squared_error: 0.0011 - psnr: 30.5239 - ssim: 0.8909 - val_loss: 9.9890e-04 - val_mean_squared_error: 9.9879e-04 - val_psnr: 31.0988 - val_ssim: 0.9026\n",
      "Epoch 8/30\n",
      "1644/1644 [==============================] - 218s 132ms/step - loss: 0.0011 - mean_squared_error: 0.0011 - psnr: 30.5980 - ssim: 0.8921 - val_loss: 0.0013 - val_mean_squared_error: 0.0013 - val_psnr: 29.9852 - val_ssim: 0.8245\n",
      "Epoch 9/30\n",
      "1643/1644 [============================>.] - ETA: 0s - loss: 0.0011 - mean_squared_error: 0.0011 - psnr: 30.5514 - ssim: 0.8930\n",
      "Epoch 00009: ReduceLROnPlateau reducing learning rate to 8.000000525498762e-06.\n",
      "1644/1644 [==============================] - 218s 133ms/step - loss: 0.0011 - mean_squared_error: 0.0011 - psnr: 30.5512 - ssim: 0.8930 - val_loss: 0.0010 - val_mean_squared_error: 0.0010 - val_psnr: 30.9048 - val_ssim: 0.8635\n",
      "Epoch 10/30\n",
      "1644/1644 [==============================] - 218s 132ms/step - loss: 0.0011 - mean_squared_error: 0.0011 - psnr: 30.6364 - ssim: 0.8949 - val_loss: 9.7557e-04 - val_mean_squared_error: 9.7609e-04 - val_psnr: 31.1499 - val_ssim: 0.8871\n",
      "Epoch 11/30\n",
      "1643/1644 [============================>.] - ETA: 0s - loss: 0.0011 - mean_squared_error: 0.0011 - psnr: 30.6561 - ssim: 0.8948\n",
      "Epoch 00011: ReduceLROnPlateau reducing learning rate to 1.6000001778593287e-06.\n",
      "1644/1644 [==============================] - 218s 133ms/step - loss: 0.0011 - mean_squared_error: 0.0011 - psnr: 30.6565 - ssim: 0.8948 - val_loss: 9.8206e-04 - val_mean_squared_error: 9.8305e-04 - val_psnr: 31.1245 - val_ssim: 0.8930\n",
      "Epoch 12/30\n",
      "1644/1644 [==============================] - 218s 133ms/step - loss: 0.0011 - mean_squared_error: 0.0011 - psnr: 30.6710 - ssim: 0.8949 - val_loss: 9.7383e-04 - val_mean_squared_error: 9.7280e-04 - val_psnr: 31.1816 - val_ssim: 0.8990\n",
      "Epoch 13/30\n",
      "1643/1644 [============================>.] - ETA: 0s - loss: 0.0011 - mean_squared_error: 0.0011 - psnr: 30.6720 - ssim: 0.8951\n",
      "Epoch 00013: ReduceLROnPlateau reducing learning rate to 3.200000264769187e-07.\n",
      "1644/1644 [==============================] - 218s 132ms/step - loss: 0.0011 - mean_squared_error: 0.0011 - psnr: 30.6723 - ssim: 0.8951 - val_loss: 9.6393e-04 - val_mean_squared_error: 9.6484e-04 - val_psnr: 31.2070 - val_ssim: 0.9009\n",
      "Epoch 14/30\n",
      "1644/1644 [==============================] - 218s 132ms/step - loss: 0.0011 - mean_squared_error: 0.0011 - psnr: 30.6613 - ssim: 0.8947 - val_loss: 9.7512e-04 - val_mean_squared_error: 9.7580e-04 - val_psnr: 31.1424 - val_ssim: 0.8944\n",
      "Epoch 15/30\n",
      "1643/1644 [============================>.] - ETA: 0s - loss: 0.0011 - mean_squared_error: 0.0011 - psnr: 30.7037 - ssim: 0.8950\n",
      "Epoch 00015: ReduceLROnPlateau reducing learning rate to 6.400000529538374e-08.\n",
      "1644/1644 [==============================] - 218s 133ms/step - loss: 0.0011 - mean_squared_error: 0.0011 - psnr: 30.7038 - ssim: 0.8950 - val_loss: 9.7198e-04 - val_mean_squared_error: 9.7226e-04 - val_psnr: 31.1420 - val_ssim: 0.8968\n",
      "Epoch 16/30\n",
      "1643/1644 [============================>.] - ETA: 0s - loss: 0.0011 - mean_squared_error: 0.0011 - psnr: 30.6989 - ssim: 0.8953Restoring model weights from the end of the best epoch.\n",
      "1644/1644 [==============================] - 219s 133ms/step - loss: 0.0011 - mean_squared_error: 0.0011 - psnr: 30.6987 - ssim: 0.8953 - val_loss: 9.8795e-04 - val_mean_squared_error: 9.8762e-04 - val_psnr: 31.1012 - val_ssim: 0.8934\n",
      "Epoch 00016: early stopping\n",
      "##############################\n",
      "              PSNR         SSIM\n",
      "count  8039.000000  8039.000000\n",
      "mean     31.250173     0.904310\n",
      "std       2.929333     0.034315\n",
      "min      20.406401     0.734255\n",
      "25%      29.226938     0.891165\n",
      "50%      31.728024     0.909325\n",
      "75%      33.254864     0.929500\n",
      "max      39.249584     0.963443\n",
      "##############################\n"
     ]
    }
   ],
   "source": [
    "ae_slc_rb_mse_model_v1.compile(loss='mean_squared_error', optimizer = 'adam', metrics=metrics)\n",
    "ae_slc_rb_mse_v1_fitted = workbench.run(model=ae_slc_rb_mse_model_v1, epochs=30)"
   ]
  },
  {
   "cell_type": "markdown",
   "metadata": {},
   "source": [
    "#### Loss function: SSIM"
   ]
  },
  {
   "cell_type": "code",
   "execution_count": 20,
   "metadata": {},
   "outputs": [],
   "source": [
    "ae_slc_rb_ssim_model_v1 = AutoEncoder(\n",
    "    encoder=ResnetEncoderv1(nb_list=[3,4,2], feature_maps=8),\n",
    "    name=\"ae_slc_rb_ssim_v1\",\n",
    "    skip_long_connections_function=layers.add\n",
    ")(input_shape=workbench.image_shape)"
   ]
  },
  {
   "cell_type": "code",
   "execution_count": 21,
   "metadata": {},
   "outputs": [
    {
     "name": "stdout",
     "output_type": "stream",
     "text": [
      "WARNING:tensorflow:sample_weight modes were coerced from\n",
      "  ...\n",
      "    to  \n",
      "  ['...']\n",
      "WARNING:tensorflow:sample_weight modes were coerced from\n",
      "  ...\n",
      "    to  \n",
      "  ['...']\n",
      "Train for 1644 steps, validate for 348 steps\n",
      "Epoch 1/30\n",
      "1644/1644 [==============================] - 232s 141ms/step - loss: 0.1201 - mean_squared_error: 0.0302 - psnr: 23.3479 - ssim: 0.8799 - val_loss: 0.0726 - val_mean_squared_error: 0.0035 - val_psnr: 27.0052 - val_ssim: 0.9274\n",
      "Epoch 2/30\n",
      "1644/1644 [==============================] - 229s 139ms/step - loss: 0.0585 - mean_squared_error: 0.0026 - psnr: 28.7042 - ssim: 0.9415 - val_loss: 0.1829 - val_mean_squared_error: 0.0026 - val_psnr: 28.4825 - val_ssim: 0.8171\n",
      "Epoch 3/30\n",
      "1644/1644 [==============================] - 229s 139ms/step - loss: 0.0522 - mean_squared_error: 0.0020 - psnr: 29.4470 - ssim: 0.9478 - val_loss: 0.0622 - val_mean_squared_error: 0.0019 - val_psnr: 29.2120 - val_ssim: 0.9378\n",
      "Epoch 4/30\n",
      "1644/1644 [==============================] - 229s 139ms/step - loss: 0.0484 - mean_squared_error: 0.0016 - psnr: 30.0548 - ssim: 0.9516 - val_loss: 0.0821 - val_mean_squared_error: 0.0020 - val_psnr: 30.4927 - val_ssim: 0.9179\n",
      "Epoch 5/30\n",
      "1644/1644 [==============================] - 229s 139ms/step - loss: 0.0440 - mean_squared_error: 0.0012 - psnr: 30.8390 - ssim: 0.9561 - val_loss: 0.0515 - val_mean_squared_error: 0.0017 - val_psnr: 30.3841 - val_ssim: 0.9485\n",
      "Epoch 6/30\n",
      "1644/1644 [==============================] - 229s 139ms/step - loss: 0.0419 - mean_squared_error: 0.0011 - psnr: 31.0693 - ssim: 0.9581 - val_loss: 0.0832 - val_mean_squared_error: 0.0020 - val_psnr: 30.5408 - val_ssim: 0.9168\n",
      "Epoch 7/30\n",
      "1643/1644 [============================>.] - ETA: 0s - loss: 0.0398 - mean_squared_error: 0.0010 - psnr: 31.3880 - ssim: 0.9602\n",
      "Epoch 00007: ReduceLROnPlateau reducing learning rate to 0.00020000000949949026.\n",
      "1644/1644 [==============================] - 229s 139ms/step - loss: 0.0398 - mean_squared_error: 0.0010 - psnr: 31.3862 - ssim: 0.9602 - val_loss: 0.3519 - val_mean_squared_error: 0.0969 - val_psnr: 10.4799 - val_ssim: 0.6481\n",
      "Epoch 8/30\n",
      "1644/1644 [==============================] - 229s 139ms/step - loss: 0.0377 - mean_squared_error: 9.6634e-04 - psnr: 31.7447 - ssim: 0.9623 - val_loss: 0.0366 - val_mean_squared_error: 7.9210e-04 - val_psnr: 32.7074 - val_ssim: 0.9634\n",
      "Epoch 9/30\n",
      "1644/1644 [==============================] - 229s 139ms/step - loss: 0.0372 - mean_squared_error: 9.4810e-04 - psnr: 31.8291 - ssim: 0.9628 - val_loss: 0.0364 - val_mean_squared_error: 8.1254e-04 - val_psnr: 32.5403 - val_ssim: 0.9636\n",
      "Epoch 10/30\n",
      "1644/1644 [==============================] - 229s 139ms/step - loss: 0.0362 - mean_squared_error: 9.1907e-04 - psnr: 31.9540 - ssim: 0.9638 - val_loss: 0.0408 - val_mean_squared_error: 0.0014 - val_psnr: 31.9297 - val_ssim: 0.9592\n",
      "Epoch 11/30\n",
      "1643/1644 [============================>.] - ETA: 0s - loss: 0.0358 - mean_squared_error: 9.0534e-04 - psnr: 32.0486 - ssim: 0.9642\n",
      "Epoch 00011: ReduceLROnPlateau reducing learning rate to 4.0000001899898055e-05.\n",
      "1644/1644 [==============================] - 229s 139ms/step - loss: 0.0358 - mean_squared_error: 9.0541e-04 - psnr: 32.0479 - ssim: 0.9642 - val_loss: 0.0369 - val_mean_squared_error: 0.0011 - val_psnr: 32.3607 - val_ssim: 0.9631\n",
      "Epoch 12/30\n",
      "1644/1644 [==============================] - 229s 139ms/step - loss: 0.0349 - mean_squared_error: 8.6796e-04 - psnr: 32.2206 - ssim: 0.9651 - val_loss: 0.0359 - val_mean_squared_error: 8.5435e-04 - val_psnr: 32.7831 - val_ssim: 0.9641\n",
      "Epoch 13/30\n",
      "1644/1644 [==============================] - 229s 139ms/step - loss: 0.0350 - mean_squared_error: 8.6179e-04 - psnr: 32.2604 - ssim: 0.9650 - val_loss: 0.0350 - val_mean_squared_error: 8.1026e-04 - val_psnr: 32.9682 - val_ssim: 0.9650\n",
      "Epoch 14/30\n",
      "1644/1644 [==============================] - 229s 139ms/step - loss: 0.0347 - mean_squared_error: 8.5281e-04 - psnr: 32.3357 - ssim: 0.9653 - val_loss: 0.0346 - val_mean_squared_error: 7.8770e-04 - val_psnr: 33.0266 - val_ssim: 0.9654\n",
      "Epoch 15/30\n",
      "1644/1644 [==============================] - 229s 139ms/step - loss: 0.0346 - mean_squared_error: 8.5424e-04 - psnr: 32.3394 - ssim: 0.9654 - val_loss: 0.0351 - val_mean_squared_error: 8.2869e-04 - val_psnr: 32.9604 - val_ssim: 0.9650\n",
      "Epoch 16/30\n",
      "1644/1644 [==============================] - 229s 139ms/step - loss: 0.0344 - mean_squared_error: 8.2741e-04 - psnr: 32.4193 - ssim: 0.9657 - val_loss: 0.0339 - val_mean_squared_error: 7.3510e-04 - val_psnr: 33.2286 - val_ssim: 0.9661\n",
      "Epoch 17/30\n",
      "1644/1644 [==============================] - 229s 139ms/step - loss: 0.0349 - mean_squared_error: 8.4385e-04 - psnr: 32.3824 - ssim: 0.9651 - val_loss: 0.0360 - val_mean_squared_error: 0.0010 - val_psnr: 32.5223 - val_ssim: 0.9640\n",
      "Epoch 18/30\n",
      "1643/1644 [============================>.] - ETA: 0s - loss: 0.0342 - mean_squared_error: 8.2522e-04 - psnr: 32.4703 - ssim: 0.9658\n",
      "Epoch 00018: ReduceLROnPlateau reducing learning rate to 8.000000525498762e-06.\n",
      "1644/1644 [==============================] - 229s 139ms/step - loss: 0.0342 - mean_squared_error: 8.2512e-04 - psnr: 32.4711 - ssim: 0.9658 - val_loss: 0.0339 - val_mean_squared_error: 7.8351e-04 - val_psnr: 33.0786 - val_ssim: 0.9661\n",
      "Epoch 19/30\n",
      "1643/1644 [============================>.] - ETA: 0s - loss: 0.0338 - mean_squared_error: 8.1616e-04 - psnr: 32.5260 - ssim: 0.9662Restoring model weights from the end of the best epoch.\n",
      "1644/1644 [==============================] - 229s 139ms/step - loss: 0.0338 - mean_squared_error: 8.1634e-04 - psnr: 32.5249 - ssim: 0.9662 - val_loss: 0.0340 - val_mean_squared_error: 7.4546e-04 - val_psnr: 33.2027 - val_ssim: 0.9660\n",
      "Epoch 00019: early stopping\n",
      "##############################\n",
      "              PSNR         SSIM\n",
      "count  8039.000000  8039.000000\n",
      "mean     33.159193     0.966168\n",
      "std       3.906359     0.027593\n",
      "min      18.843666     0.768853\n",
      "25%      30.163551     0.953696\n",
      "50%      33.983959     0.978635\n",
      "75%      35.667580     0.985176\n",
      "max      42.689888     0.993736\n",
      "##############################\n"
     ]
    }
   ],
   "source": [
    "ae_slc_rb_ssim_model_v1.compile(loss=ssim_loss, optimizer = 'adam', metrics=metrics)\n",
    "ae_slc_rb_ssim_v1_fitted = workbench.run(model=ae_slc_rb_ssim_model_v1, epochs=30)"
   ]
  },
  {
   "cell_type": "markdown",
   "metadata": {},
   "source": [
    "### AE + sLC + RB (v2)"
   ]
  },
  {
   "cell_type": "markdown",
   "metadata": {},
   "source": [
    "#### Loss function: MSE"
   ]
  },
  {
   "cell_type": "code",
   "execution_count": 22,
   "metadata": {},
   "outputs": [],
   "source": [
    "ae_slc_rb_mse_model_v2 = AutoEncoder(\n",
    "    encoder=ResnetEncoderv2(nb_list=[3,4,2], feature_maps=8),\n",
    "    name=\"ae_slc_rb_mse_v2\",\n",
    "    skip_long_connections_function=layers.add\n",
    ")(input_shape=workbench.image_shape)"
   ]
  },
  {
   "cell_type": "code",
   "execution_count": 23,
   "metadata": {},
   "outputs": [
    {
     "name": "stdout",
     "output_type": "stream",
     "text": [
      "WARNING:tensorflow:sample_weight modes were coerced from\n",
      "  ...\n",
      "    to  \n",
      "  ['...']\n",
      "WARNING:tensorflow:sample_weight modes were coerced from\n",
      "  ...\n",
      "    to  \n",
      "  ['...']\n",
      "Train for 1644 steps, validate for 348 steps\n",
      "Epoch 1/30\n",
      "1644/1644 [==============================] - 224s 136ms/step - loss: 0.0045 - mean_squared_error: 0.0045 - psnr: 27.0225 - ssim: 0.6635 - val_loss: 0.0013 - val_mean_squared_error: 0.0013 - val_psnr: 30.9129 - val_ssim: 0.7451\n",
      "Epoch 2/30\n",
      "1644/1644 [==============================] - 222s 135ms/step - loss: 0.0013 - mean_squared_error: 0.0012 - psnr: 30.8766 - ssim: 0.8117 - val_loss: 9.3088e-04 - val_mean_squared_error: 9.3136e-04 - val_psnr: 32.5089 - val_ssim: 0.8628\n",
      "Epoch 3/30\n",
      "1644/1644 [==============================] - 222s 135ms/step - loss: 9.3624e-04 - mean_squared_error: 9.3445e-04 - psnr: 32.3625 - ssim: 0.9047 - val_loss: 9.2374e-04 - val_mean_squared_error: 9.2449e-04 - val_psnr: 32.6850 - val_ssim: 0.8708\n",
      "Epoch 4/30\n",
      "1644/1644 [==============================] - 222s 135ms/step - loss: 8.6576e-04 - mean_squared_error: 8.6539e-04 - psnr: 32.9665 - ssim: 0.9277 - val_loss: 7.5417e-04 - val_mean_squared_error: 7.5327e-04 - val_psnr: 34.6615 - val_ssim: 0.9213\n",
      "Epoch 5/30\n",
      "1644/1644 [==============================] - 221s 135ms/step - loss: 7.9445e-04 - mean_squared_error: 7.9469e-04 - psnr: 33.5545 - ssim: 0.9390 - val_loss: 0.0010 - val_mean_squared_error: 0.0010 - val_psnr: 32.7864 - val_ssim: 0.8932\n",
      "Epoch 6/30\n",
      "1643/1644 [============================>.] - ETA: 0s - loss: 7.7550e-04 - mean_squared_error: 7.7541e-04 - psnr: 33.7193 - ssim: 0.9432\n",
      "Epoch 00006: ReduceLROnPlateau reducing learning rate to 0.00020000000949949026.\n",
      "1644/1644 [==============================] - 221s 135ms/step - loss: 7.7547e-04 - mean_squared_error: 7.7538e-04 - psnr: 33.7209 - ssim: 0.9432 - val_loss: 8.3304e-04 - val_mean_squared_error: 8.3446e-04 - val_psnr: 33.8553 - val_ssim: 0.8922\n",
      "Epoch 7/30\n",
      "1644/1644 [==============================] - 222s 135ms/step - loss: 6.8809e-04 - mean_squared_error: 6.8652e-04 - psnr: 34.3321 - ssim: 0.9469 - val_loss: 6.5259e-04 - val_mean_squared_error: 6.5155e-04 - val_psnr: 35.5532 - val_ssim: 0.9481\n",
      "Epoch 8/30\n",
      "1644/1644 [==============================] - 221s 135ms/step - loss: 6.7755e-04 - mean_squared_error: 6.7612e-04 - psnr: 34.4902 - ssim: 0.9465 - val_loss: 6.0723e-04 - val_mean_squared_error: 6.0616e-04 - val_psnr: 35.8539 - val_ssim: 0.9457\n",
      "Epoch 9/30\n",
      "1643/1644 [============================>.] - ETA: 0s - loss: 6.6988e-04 - mean_squared_error: 6.7016e-04 - psnr: 34.5167 - ssim: 0.9463\n",
      "Epoch 00009: ReduceLROnPlateau reducing learning rate to 4.0000001899898055e-05.\n",
      "1644/1644 [==============================] - 222s 135ms/step - loss: 6.6981e-04 - mean_squared_error: 6.7010e-04 - psnr: 34.5166 - ssim: 0.9463 - val_loss: 5.8909e-04 - val_mean_squared_error: 5.8980e-04 - val_psnr: 36.1103 - val_ssim: 0.9517\n",
      "Epoch 10/30\n",
      "1644/1644 [==============================] - 222s 135ms/step - loss: 6.2621e-04 - mean_squared_error: 6.2542e-04 - psnr: 34.9114 - ssim: 0.9469 - val_loss: 5.5910e-04 - val_mean_squared_error: 5.5815e-04 - val_psnr: 36.2579 - val_ssim: 0.9423\n",
      "Epoch 11/30\n",
      "1643/1644 [============================>.] - ETA: 0s - loss: 6.2334e-04 - mean_squared_error: 6.2341e-04 - psnr: 34.9855 - ssim: 0.9468\n",
      "Epoch 00011: ReduceLROnPlateau reducing learning rate to 8.000000525498762e-06.\n",
      "1644/1644 [==============================] - 221s 135ms/step - loss: 6.2322e-04 - mean_squared_error: 6.2329e-04 - psnr: 34.9866 - ssim: 0.9468 - val_loss: 5.7035e-04 - val_mean_squared_error: 5.7123e-04 - val_psnr: 36.1498 - val_ssim: 0.9489\n",
      "Epoch 12/30\n",
      "1644/1644 [==============================] - 222s 135ms/step - loss: 6.1659e-04 - mean_squared_error: 6.1680e-04 - psnr: 35.0851 - ssim: 0.9463 - val_loss: 5.6552e-04 - val_mean_squared_error: 5.6645e-04 - val_psnr: 36.3484 - val_ssim: 0.9494\n",
      "Epoch 13/30\n",
      "1643/1644 [============================>.] - ETA: 0s - loss: 6.2014e-04 - mean_squared_error: 6.2001e-04 - psnr: 35.0517 - ssim: 0.9469\n",
      "Epoch 00013: ReduceLROnPlateau reducing learning rate to 1.6000001778593287e-06.\n",
      "Restoring model weights from the end of the best epoch.\n",
      "1644/1644 [==============================] - 222s 135ms/step - loss: 6.2002e-04 - mean_squared_error: 6.1988e-04 - psnr: 35.0526 - ssim: 0.9469 - val_loss: 5.6103e-04 - val_mean_squared_error: 5.6180e-04 - val_psnr: 36.2375 - val_ssim: 0.9507\n",
      "Epoch 00013: early stopping\n",
      "##############################\n",
      "              PSNR         SSIM\n",
      "count  8039.000000  8039.000000\n",
      "mean     36.113680     0.944201\n",
      "std       5.973208     0.039112\n",
      "min      19.724241     0.735363\n",
      "25%      30.655124     0.924594\n",
      "50%      36.845875     0.959542\n",
      "75%      42.364256     0.972114\n",
      "max      45.398441     0.989008\n",
      "##############################\n"
     ]
    }
   ],
   "source": [
    "ae_slc_rb_mse_model_v2.compile(loss='mean_squared_error', optimizer = 'adam', metrics=metrics)\n",
    "ae_slc_rb_mse_v2_fitted = workbench.run(model=ae_slc_rb_mse_model_v2, epochs=30)"
   ]
  },
  {
   "cell_type": "markdown",
   "metadata": {},
   "source": [
    "#### Loss function: SSIM"
   ]
  },
  {
   "cell_type": "code",
   "execution_count": 24,
   "metadata": {},
   "outputs": [],
   "source": [
    "ae_slc_rb_ssim_model_v2 = AutoEncoder(\n",
    "    encoder=ResnetEncoderv2(nb_list=[3,4,2], feature_maps=8),\n",
    "    name=\"ae_slc_rb_ssim_v2\",\n",
    "    skip_long_connections_function=layers.add\n",
    ")(input_shape=workbench.image_shape)"
   ]
  },
  {
   "cell_type": "code",
   "execution_count": 25,
   "metadata": {},
   "outputs": [
    {
     "name": "stdout",
     "output_type": "stream",
     "text": [
      "WARNING:tensorflow:sample_weight modes were coerced from\n",
      "  ...\n",
      "    to  \n",
      "  ['...']\n",
      "WARNING:tensorflow:sample_weight modes were coerced from\n",
      "  ...\n",
      "    to  \n",
      "  ['...']\n",
      "Train for 1644 steps, validate for 348 steps\n",
      "Epoch 1/30\n",
      "1644/1644 [==============================] - 235s 143ms/step - loss: 0.0812 - mean_squared_error: 0.0146 - psnr: 26.8620 - ssim: 0.9188 - val_loss: 0.3850 - val_mean_squared_error: 0.1728 - val_psnr: 7.9672 - val_ssim: 0.6150\n",
      "Epoch 2/30\n",
      "1644/1644 [==============================] - 232s 141ms/step - loss: 0.0369 - mean_squared_error: 0.0010 - psnr: 32.5258 - ssim: 0.9631 - val_loss: 0.3817 - val_mean_squared_error: 0.1586 - val_psnr: 8.2220 - val_ssim: 0.6183\n",
      "Epoch 3/30\n",
      "1644/1644 [==============================] - 232s 141ms/step - loss: 0.0323 - mean_squared_error: 8.9336e-04 - psnr: 33.2657 - ssim: 0.9676 - val_loss: 0.1098 - val_mean_squared_error: 0.0022 - val_psnr: 32.1704 - val_ssim: 0.8901\n",
      "Epoch 4/30\n",
      "1644/1644 [==============================] - 232s 141ms/step - loss: 0.0297 - mean_squared_error: 8.4088e-04 - psnr: 33.6625 - ssim: 0.9703 - val_loss: 0.0600 - val_mean_squared_error: 0.0016 - val_psnr: 32.4189 - val_ssim: 0.9400\n",
      "Epoch 5/30\n",
      "1644/1644 [==============================] - 232s 141ms/step - loss: 0.0285 - mean_squared_error: 8.0921e-04 - psnr: 33.8342 - ssim: 0.9715 - val_loss: 0.0273 - val_mean_squared_error: 7.0385e-04 - val_psnr: 35.2483 - val_ssim: 0.9727\n",
      "Epoch 6/30\n",
      "1644/1644 [==============================] - 232s 141ms/step - loss: 0.0273 - mean_squared_error: 7.5745e-04 - psnr: 34.1324 - ssim: 0.9727 - val_loss: 0.1035 - val_mean_squared_error: 0.0089 - val_psnr: 24.9571 - val_ssim: 0.8966\n",
      "Epoch 7/30\n",
      "1643/1644 [============================>.] - ETA: 0s - loss: 0.0263 - mean_squared_error: 7.2168e-04 - psnr: 34.3493 - ssim: 0.9737\n",
      "Epoch 00007: ReduceLROnPlateau reducing learning rate to 0.00020000000949949026.\n",
      "1644/1644 [==============================] - 232s 141ms/step - loss: 0.0263 - mean_squared_error: 7.2176e-04 - psnr: 34.3491 - ssim: 0.9737 - val_loss: 0.0468 - val_mean_squared_error: 0.0020 - val_psnr: 33.8465 - val_ssim: 0.9532\n",
      "Epoch 8/30\n",
      "1644/1644 [==============================] - 232s 141ms/step - loss: 0.0246 - mean_squared_error: 6.6374e-04 - psnr: 34.8166 - ssim: 0.9755 - val_loss: 0.0241 - val_mean_squared_error: 6.0129e-04 - val_psnr: 36.3671 - val_ssim: 0.9760\n",
      "Epoch 9/30\n",
      "1644/1644 [==============================] - 232s 141ms/step - loss: 0.0239 - mean_squared_error: 6.3138e-04 - psnr: 35.0914 - ssim: 0.9761 - val_loss: 0.0230 - val_mean_squared_error: 5.1245e-04 - val_psnr: 37.1875 - val_ssim: 0.9770\n",
      "Epoch 10/30\n",
      "1644/1644 [==============================] - 232s 141ms/step - loss: 0.0232 - mean_squared_error: 6.0473e-04 - psnr: 35.2898 - ssim: 0.9768 - val_loss: 0.0319 - val_mean_squared_error: 0.0014 - val_psnr: 35.5128 - val_ssim: 0.9681\n",
      "Epoch 11/30\n",
      "1643/1644 [============================>.] - ETA: 0s - loss: 0.0233 - mean_squared_error: 6.0618e-04 - psnr: 35.3732 - ssim: 0.9767\n",
      "Epoch 00011: ReduceLROnPlateau reducing learning rate to 4.0000001899898055e-05.\n",
      "1644/1644 [==============================] - 232s 141ms/step - loss: 0.0233 - mean_squared_error: 6.0611e-04 - psnr: 35.3746 - ssim: 0.9767 - val_loss: 0.0292 - val_mean_squared_error: 0.0012 - val_psnr: 35.8152 - val_ssim: 0.9707\n",
      "Epoch 12/30\n",
      "1643/1644 [============================>.] - ETA: 0s - loss: 0.0231 - mean_squared_error: 5.8045e-04 - psnr: 35.5872 - ssim: 0.9768Restoring model weights from the end of the best epoch.\n",
      "1644/1644 [==============================] - 232s 141ms/step - loss: 0.0232 - mean_squared_error: 5.8045e-04 - psnr: 35.5862 - ssim: 0.9768 - val_loss: 0.0230 - val_mean_squared_error: 5.7500e-04 - val_psnr: 37.1173 - val_ssim: 0.9769\n",
      "Epoch 00012: early stopping\n",
      "##############################\n",
      "              PSNR         SSIM\n",
      "count  8039.000000  8039.000000\n",
      "mean     37.132660     0.977473\n",
      "std       6.239107     0.028565\n",
      "min      18.791216     0.802475\n",
      "25%      31.372993     0.963213\n",
      "50%      38.599430     0.993336\n",
      "75%      42.052353     0.998488\n",
      "max      49.629089     0.999161\n",
      "##############################\n"
     ]
    }
   ],
   "source": [
    "ae_slc_rb_ssim_model_v2.compile(loss=ssim_loss, optimizer = 'adam', metrics=metrics)\n",
    "ae_slc_rb_ssim_v2_fitted = workbench.run(model=ae_slc_rb_ssim_model_v2, epochs=30)"
   ]
  }
 ],
 "metadata": {
  "kernelspec": {
   "display_name": "data-science",
   "language": "python",
   "name": "data-science"
  },
  "language_info": {
   "codemirror_mode": {
    "name": "ipython",
    "version": 3
   },
   "file_extension": ".py",
   "mimetype": "text/x-python",
   "name": "python",
   "nbconvert_exporter": "python",
   "pygments_lexer": "ipython3",
   "version": "3.7.6"
  }
 },
 "nbformat": 4,
 "nbformat_minor": 4
}
