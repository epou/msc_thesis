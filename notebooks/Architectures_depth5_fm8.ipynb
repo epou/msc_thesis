{
 "cells": [
  {
   "cell_type": "markdown",
   "metadata": {},
   "source": [
    "# Testing the architectures designed: depth 4, inital feature maps 16"
   ]
  },
  {
   "cell_type": "markdown",
   "metadata": {},
   "source": [
    "The goal of this notebook is to evaluate the architectures designed according as has been explained in the methodology section. To do so, the same workbench will be used to train and evaluate them under the same circumstances. As explained in the report, each architecture will be trained using both MSE and SSIM loss functions."
   ]
  },
  {
   "cell_type": "markdown",
   "metadata": {},
   "source": [
    "### (Previous preparation)"
   ]
  },
  {
   "cell_type": "code",
   "execution_count": 1,
   "metadata": {},
   "outputs": [],
   "source": [
    "import os\n",
    "import sys\n",
    "module_path = os.path.abspath(os.path.join('..'))\n",
    "if module_path not in sys.path:\n",
    "    sys.path.append(module_path)"
   ]
  },
  {
   "cell_type": "markdown",
   "metadata": {},
   "source": [
    "## Importing packages"
   ]
  },
  {
   "cell_type": "code",
   "execution_count": 2,
   "metadata": {},
   "outputs": [],
   "source": [
    "from src.helpers import load_experiment_workbench, use_gpu\n",
    "from src.models import AutoEncoder\n",
    "from src.models.autoencoder.modules.encoders.models import SimpleEncoder, ResnetEncoderv1, ResnetEncoderv2\n",
    "from src.trainer.metrics import psnr, ssim\n",
    "from src.trainer.losses import ssim as ssim_loss\n",
    "\n",
    "from tensorflow.keras import layers"
   ]
  },
  {
   "cell_type": "markdown",
   "metadata": {},
   "source": [
    "#### Enabling GPU"
   ]
  },
  {
   "cell_type": "code",
   "execution_count": 3,
   "metadata": {},
   "outputs": [
    {
     "name": "stdout",
     "output_type": "stream",
     "text": [
      "1 Physical GPUs, 1 Logical GPUs\n"
     ]
    }
   ],
   "source": [
    "use_gpu(True)"
   ]
  },
  {
   "cell_type": "markdown",
   "metadata": {},
   "source": [
    "### Creating a new workbench"
   ]
  },
  {
   "cell_type": "code",
   "execution_count": 4,
   "metadata": {},
   "outputs": [
    {
     "name": "stdout",
     "output_type": "stream",
     "text": [
      "Found 26305 validated image filenames.\n",
      "Found 26305 validated image filenames.\n",
      "Found 5573 validated image filenames.\n",
      "Found 5573 validated image filenames.\n",
      "Found 8039 validated image filenames.\n",
      "Found 8039 validated image filenames.\n"
     ]
    }
   ],
   "source": [
    "workbench = load_experiment_workbench(\"architectures_desgined_depth5_8fm\")"
   ]
  },
  {
   "cell_type": "markdown",
   "metadata": {},
   "source": [
    "### Define metrics"
   ]
  },
  {
   "cell_type": "code",
   "execution_count": 5,
   "metadata": {},
   "outputs": [],
   "source": [
    "metrics = [\n",
    "    \"mean_squared_error\",\n",
    "    psnr,\n",
    "    ssim\n",
    "]"
   ]
  },
  {
   "cell_type": "markdown",
   "metadata": {},
   "source": [
    "## Architectures"
   ]
  },
  {
   "cell_type": "markdown",
   "metadata": {},
   "source": [
    "### AutoEncoder (AE)"
   ]
  },
  {
   "cell_type": "markdown",
   "metadata": {},
   "source": [
    "#### Loss function: MSE"
   ]
  },
  {
   "cell_type": "code",
   "execution_count": 6,
   "metadata": {},
   "outputs": [],
   "source": [
    "ae_mse_model = AutoEncoder(\n",
    "    encoder=SimpleEncoder(depth=5, feature_maps=8),\n",
    "    name=\"ae_mse\",\n",
    ")(input_shape=workbench.image_shape)"
   ]
  },
  {
   "cell_type": "code",
   "execution_count": 7,
   "metadata": {},
   "outputs": [
    {
     "name": "stdout",
     "output_type": "stream",
     "text": [
      "WARNING:tensorflow:sample_weight modes were coerced from\n",
      "  ...\n",
      "    to  \n",
      "  ['...']\n",
      "WARNING:tensorflow:sample_weight modes were coerced from\n",
      "  ...\n",
      "    to  \n",
      "  ['...']\n",
      "Train for 1644 steps, validate for 348 steps\n",
      "Epoch 1/30\n",
      "1644/1644 [==============================] - 168s 102ms/step - loss: 0.0090 - mean_squared_error: 0.0090 - psnr: 21.4295 - ssim: 0.3797 - val_loss: 0.0065 - val_mean_squared_error: 0.0065 - val_psnr: 22.1433 - val_ssim: 0.5108\n",
      "Epoch 2/30\n",
      "1644/1644 [==============================] - 166s 101ms/step - loss: 0.0049 - mean_squared_error: 0.0049 - psnr: 23.3965 - ssim: 0.5810 - val_loss: 0.0053 - val_mean_squared_error: 0.0053 - val_psnr: 22.9997 - val_ssim: 0.6319\n",
      "Epoch 3/30\n",
      "1644/1644 [==============================] - 166s 101ms/step - loss: 0.0043 - mean_squared_error: 0.0043 - psnr: 23.9406 - ssim: 0.6579 - val_loss: 0.0047 - val_mean_squared_error: 0.0047 - val_psnr: 23.4973 - val_ssim: 0.6785\n",
      "Epoch 4/30\n",
      "1644/1644 [==============================] - 166s 101ms/step - loss: 0.0040 - mean_squared_error: 0.0040 - psnr: 24.2645 - ssim: 0.6906 - val_loss: 0.0049 - val_mean_squared_error: 0.0049 - val_psnr: 23.3789 - val_ssim: 0.6899\n",
      "Epoch 5/30\n",
      "1644/1644 [==============================] - 166s 101ms/step - loss: 0.0038 - mean_squared_error: 0.0038 - psnr: 24.4716 - ssim: 0.7089 - val_loss: 0.0039 - val_mean_squared_error: 0.0039 - val_psnr: 24.3404 - val_ssim: 0.7044\n",
      "Epoch 6/30\n",
      "1644/1644 [==============================] - 166s 101ms/step - loss: 0.0037 - mean_squared_error: 0.0037 - psnr: 24.6419 - ssim: 0.7213 - val_loss: 0.0047 - val_mean_squared_error: 0.0047 - val_psnr: 23.4552 - val_ssim: 0.7199\n",
      "Epoch 7/30\n",
      "1643/1644 [============================>.] - ETA: 0s - loss: 0.0036 - mean_squared_error: 0.0036 - psnr: 24.7768 - ssim: 0.7295\n",
      "Epoch 00007: ReduceLROnPlateau reducing learning rate to 0.00020000000949949026.\n",
      "1644/1644 [==============================] - 166s 101ms/step - loss: 0.0036 - mean_squared_error: 0.0036 - psnr: 24.7766 - ssim: 0.7295 - val_loss: 0.0042 - val_mean_squared_error: 0.0042 - val_psnr: 24.0220 - val_ssim: 0.7303\n",
      "Epoch 8/30\n",
      "1644/1644 [==============================] - 167s 102ms/step - loss: 0.0033 - mean_squared_error: 0.0033 - psnr: 25.0704 - ssim: 0.7400 - val_loss: 0.0034 - val_mean_squared_error: 0.0034 - val_psnr: 24.8962 - val_ssim: 0.7314\n",
      "Epoch 9/30\n",
      "1644/1644 [==============================] - 167s 101ms/step - loss: 0.0033 - mean_squared_error: 0.0033 - psnr: 25.0997 - ssim: 0.7422 - val_loss: 0.0034 - val_mean_squared_error: 0.0034 - val_psnr: 25.0036 - val_ssim: 0.7368\n",
      "Epoch 10/30\n",
      "1644/1644 [==============================] - 167s 102ms/step - loss: 0.0033 - mean_squared_error: 0.0033 - psnr: 25.1383 - ssim: 0.7443 - val_loss: 0.0033 - val_mean_squared_error: 0.0033 - val_psnr: 25.0263 - val_ssim: 0.7434\n",
      "Epoch 11/30\n",
      "1644/1644 [==============================] - 167s 101ms/step - loss: 0.0033 - mean_squared_error: 0.0033 - psnr: 25.1548 - ssim: 0.7456 - val_loss: 0.0033 - val_mean_squared_error: 0.0033 - val_psnr: 25.0671 - val_ssim: 0.7409\n",
      "Epoch 12/30\n",
      "1643/1644 [============================>.] - ETA: 0s - loss: 0.0033 - mean_squared_error: 0.0033 - psnr: 25.1876 - ssim: 0.7474\n",
      "Epoch 00012: ReduceLROnPlateau reducing learning rate to 4.0000001899898055e-05.\n",
      "1644/1644 [==============================] - 167s 101ms/step - loss: 0.0033 - mean_squared_error: 0.0033 - psnr: 25.1879 - ssim: 0.7474 - val_loss: 0.0033 - val_mean_squared_error: 0.0033 - val_psnr: 25.0695 - val_ssim: 0.7452\n",
      "Epoch 13/30\n",
      "1644/1644 [==============================] - 167s 101ms/step - loss: 0.0032 - mean_squared_error: 0.0032 - psnr: 25.2643 - ssim: 0.7499 - val_loss: 0.0033 - val_mean_squared_error: 0.0033 - val_psnr: 25.1432 - val_ssim: 0.7462\n",
      "Epoch 14/30\n",
      "1644/1644 [==============================] - 167s 101ms/step - loss: 0.0032 - mean_squared_error: 0.0032 - psnr: 25.2750 - ssim: 0.7502 - val_loss: 0.0032 - val_mean_squared_error: 0.0032 - val_psnr: 25.1653 - val_ssim: 0.7469\n",
      "Epoch 15/30\n",
      "1644/1644 [==============================] - 167s 101ms/step - loss: 0.0032 - mean_squared_error: 0.0032 - psnr: 25.2742 - ssim: 0.7505 - val_loss: 0.0032 - val_mean_squared_error: 0.0032 - val_psnr: 25.1711 - val_ssim: 0.7480\n",
      "Epoch 16/30\n",
      "1643/1644 [============================>.] - ETA: 0s - loss: 0.0032 - mean_squared_error: 0.0032 - psnr: 25.2856 - ssim: 0.7511\n",
      "Epoch 00016: ReduceLROnPlateau reducing learning rate to 8.000000525498762e-06.\n",
      "1644/1644 [==============================] - 167s 101ms/step - loss: 0.0032 - mean_squared_error: 0.0032 - psnr: 25.2854 - ssim: 0.7511 - val_loss: 0.0032 - val_mean_squared_error: 0.0032 - val_psnr: 25.1826 - val_ssim: 0.7483\n",
      "Epoch 17/30\n",
      "1644/1644 [==============================] - 167s 101ms/step - loss: 0.0032 - mean_squared_error: 0.0032 - psnr: 25.3059 - ssim: 0.7516 - val_loss: 0.0032 - val_mean_squared_error: 0.0032 - val_psnr: 25.1702 - val_ssim: 0.7462\n",
      "Epoch 18/30\n",
      "1643/1644 [============================>.] - ETA: 0s - loss: 0.0255 - mean_squared_error: 0.0255 - psnr: 16.2327 - ssim: 0.3330\n",
      "Epoch 00018: ReduceLROnPlateau reducing learning rate to 1.6000001778593287e-06.\n",
      "1644/1644 [==============================] - 167s 101ms/step - loss: 0.0255 - mean_squared_error: 0.0255 - psnr: 16.2329 - ssim: 0.3330 - val_loss: 0.0221 - val_mean_squared_error: 0.0221 - val_psnr: 16.7712 - val_ssim: 0.3329\n",
      "Epoch 19/30\n",
      "1643/1644 [============================>.] - ETA: 0s - loss: 0.0110 - mean_squared_error: 0.0110 - psnr: 20.2588 - ssim: 0.4815Restoring model weights from the end of the best epoch.\n",
      "1644/1644 [==============================] - 167s 101ms/step - loss: 0.0110 - mean_squared_error: 0.0110 - psnr: 20.2602 - ssim: 0.4815 - val_loss: 0.0053 - val_mean_squared_error: 0.0053 - val_psnr: 22.9503 - val_ssim: 0.6052\n",
      "Epoch 00019: early stopping\n",
      "##############################\n",
      "              PSNR         SSIM\n",
      "count  8039.000000  8039.000000\n",
      "mean     25.272027     0.750369\n",
      "std       1.786466     0.042691\n",
      "min      15.310532     0.513154\n",
      "25%      24.055702     0.721958\n",
      "50%      24.795778     0.750611\n",
      "75%      26.307414     0.777928\n",
      "max      31.903009     0.863886\n",
      "##############################\n"
     ]
    }
   ],
   "source": [
    "ae_mse_model.compile(loss='mean_squared_error', optimizer = 'adam', metrics=metrics)\n",
    "ae_mse_fitted = workbench.run(model=ae_mse_model, epochs=30)"
   ]
  },
  {
   "cell_type": "markdown",
   "metadata": {},
   "source": [
    "#### Loss function: SSIM"
   ]
  },
  {
   "cell_type": "code",
   "execution_count": 8,
   "metadata": {},
   "outputs": [],
   "source": [
    "ae_ssim_model = AutoEncoder(\n",
    "    encoder=SimpleEncoder(depth=5, feature_maps=8),\n",
    "    name=\"ae_ssim\",\n",
    ")(input_shape=workbench.image_shape)"
   ]
  },
  {
   "cell_type": "code",
   "execution_count": 9,
   "metadata": {},
   "outputs": [
    {
     "name": "stdout",
     "output_type": "stream",
     "text": [
      "WARNING:tensorflow:sample_weight modes were coerced from\n",
      "  ...\n",
      "    to  \n",
      "  ['...']\n",
      "WARNING:tensorflow:sample_weight modes were coerced from\n",
      "  ...\n",
      "    to  \n",
      "  ['...']\n",
      "Train for 1644 steps, validate for 348 steps\n",
      "Epoch 1/30\n",
      "1644/1644 [==============================] - 178s 108ms/step - loss: 0.3561 - mean_squared_error: 0.0315 - psnr: 18.7035 - ssim: 0.6439 - val_loss: 0.5702 - val_mean_squared_error: 0.0642 - val_psnr: 12.2089 - val_ssim: 0.4298\n",
      "Epoch 2/30\n",
      "1644/1644 [==============================] - 176s 107ms/step - loss: 0.2639 - mean_squared_error: 0.0066 - psnr: 22.2204 - ssim: 0.7362 - val_loss: 0.2675 - val_mean_squared_error: 0.0061 - val_psnr: 22.4439 - val_ssim: 0.7325\n",
      "Epoch 3/30\n",
      "1644/1644 [==============================] - 176s 107ms/step - loss: 0.2379 - mean_squared_error: 0.0054 - psnr: 23.0181 - ssim: 0.7622 - val_loss: 0.2614 - val_mean_squared_error: 0.0057 - val_psnr: 22.7201 - val_ssim: 0.7386\n",
      "Epoch 4/30\n",
      "1644/1644 [==============================] - 176s 107ms/step - loss: 0.2237 - mean_squared_error: 0.0050 - psnr: 23.3588 - ssim: 0.7763 - val_loss: 0.2286 - val_mean_squared_error: 0.0066 - val_psnr: 22.0409 - val_ssim: 0.7714\n",
      "Epoch 5/30\n",
      "1644/1644 [==============================] - 176s 107ms/step - loss: 0.2130 - mean_squared_error: 0.0047 - psnr: 23.5979 - ssim: 0.7869 - val_loss: 0.2707 - val_mean_squared_error: 0.0061 - val_psnr: 22.6435 - val_ssim: 0.7293\n",
      "Epoch 6/30\n",
      "1643/1644 [============================>.] - ETA: 0s - loss: 0.2052 - mean_squared_error: 0.0045 - psnr: 23.8354 - ssim: 0.7948\n",
      "Epoch 00006: ReduceLROnPlateau reducing learning rate to 0.00020000000949949026.\n",
      "1644/1644 [==============================] - 176s 107ms/step - loss: 0.2052 - mean_squared_error: 0.0045 - psnr: 23.8357 - ssim: 0.7948 - val_loss: 0.2421 - val_mean_squared_error: 0.0052 - val_psnr: 23.5126 - val_ssim: 0.7579\n",
      "Epoch 7/30\n",
      "1644/1644 [==============================] - 176s 107ms/step - loss: 0.1962 - mean_squared_error: 0.0042 - psnr: 24.1583 - ssim: 0.8038 - val_loss: 0.2057 - val_mean_squared_error: 0.0046 - val_psnr: 23.7314 - val_ssim: 0.7943\n",
      "Epoch 8/30\n",
      "1644/1644 [==============================] - 176s 107ms/step - loss: 0.1947 - mean_squared_error: 0.0041 - psnr: 24.2016 - ssim: 0.8054 - val_loss: 0.2058 - val_mean_squared_error: 0.0043 - val_psnr: 24.0203 - val_ssim: 0.7942\n",
      "Epoch 9/30\n",
      "1644/1644 [==============================] - 176s 107ms/step - loss: 0.1932 - mean_squared_error: 0.0041 - psnr: 24.2442 - ssim: 0.8068 - val_loss: 0.1989 - val_mean_squared_error: 0.0037 - val_psnr: 24.6128 - val_ssim: 0.8012\n",
      "Epoch 10/30\n",
      "1644/1644 [==============================] - 176s 107ms/step - loss: 0.1941 - mean_squared_error: 0.0043 - psnr: 24.1029 - ssim: 0.8060 - val_loss: 0.1981 - val_mean_squared_error: 0.0050 - val_psnr: 23.3024 - val_ssim: 0.8019\n",
      "Epoch 11/30\n",
      "1644/1644 [==============================] - 177s 107ms/step - loss: 0.1912 - mean_squared_error: 0.0041 - psnr: 24.2842 - ssim: 0.8088 - val_loss: 0.1965 - val_mean_squared_error: 0.0040 - val_psnr: 24.2531 - val_ssim: 0.8036\n",
      "Epoch 12/30\n",
      "1644/1644 [==============================] - 176s 107ms/step - loss: 0.1905 - mean_squared_error: 0.0041 - psnr: 24.2377 - ssim: 0.8095 - val_loss: 0.1985 - val_mean_squared_error: 0.0042 - val_psnr: 24.0359 - val_ssim: 0.8016\n",
      "Epoch 13/30\n",
      "1643/1644 [============================>.] - ETA: 0s - loss: 0.1895 - mean_squared_error: 0.0040 - psnr: 24.3169 - ssim: 0.8105\n",
      "Epoch 00013: ReduceLROnPlateau reducing learning rate to 4.0000001899898055e-05.\n",
      "1644/1644 [==============================] - 176s 107ms/step - loss: 0.1895 - mean_squared_error: 0.0040 - psnr: 24.3166 - ssim: 0.8105 - val_loss: 0.2025 - val_mean_squared_error: 0.0043 - val_psnr: 24.1174 - val_ssim: 0.7975\n",
      "Epoch 14/30\n",
      "1644/1644 [==============================] - 176s 107ms/step - loss: 0.1877 - mean_squared_error: 0.0039 - psnr: 24.4217 - ssim: 0.8124 - val_loss: 0.1910 - val_mean_squared_error: 0.0040 - val_psnr: 24.3091 - val_ssim: 0.8090\n",
      "Epoch 15/30\n",
      "1644/1644 [==============================] - 177s 107ms/step - loss: 0.1873 - mean_squared_error: 0.0039 - psnr: 24.4239 - ssim: 0.8127 - val_loss: 0.1927 - val_mean_squared_error: 0.0038 - val_psnr: 24.5740 - val_ssim: 0.8073\n",
      "Epoch 16/30\n",
      "1644/1644 [==============================] - 177s 107ms/step - loss: 0.1871 - mean_squared_error: 0.0039 - psnr: 24.4365 - ssim: 0.8129 - val_loss: 0.1908 - val_mean_squared_error: 0.0037 - val_psnr: 24.6099 - val_ssim: 0.8092\n",
      "Epoch 17/30\n",
      "1644/1644 [==============================] - 176s 107ms/step - loss: 0.1867 - mean_squared_error: 0.0039 - psnr: 24.4473 - ssim: 0.8133 - val_loss: 0.1904 - val_mean_squared_error: 0.0039 - val_psnr: 24.4273 - val_ssim: 0.8096\n",
      "Epoch 18/30\n",
      "1644/1644 [==============================] - 176s 107ms/step - loss: 0.1867 - mean_squared_error: 0.0040 - psnr: 24.3967 - ssim: 0.8133 - val_loss: 0.1902 - val_mean_squared_error: 0.0039 - val_psnr: 24.4505 - val_ssim: 0.8098\n",
      "Epoch 19/30\n",
      "1644/1644 [==============================] - 176s 107ms/step - loss: 0.1864 - mean_squared_error: 0.0039 - psnr: 24.4614 - ssim: 0.8136 - val_loss: 0.1902 - val_mean_squared_error: 0.0039 - val_psnr: 24.4681 - val_ssim: 0.8098\n",
      "Epoch 20/30\n",
      "1644/1644 [==============================] - 176s 107ms/step - loss: 0.1862 - mean_squared_error: 0.0039 - psnr: 24.4593 - ssim: 0.8138 - val_loss: 0.1901 - val_mean_squared_error: 0.0038 - val_psnr: 24.5567 - val_ssim: 0.8099\n",
      "Epoch 21/30\n",
      "1644/1644 [==============================] - 176s 107ms/step - loss: 0.1859 - mean_squared_error: 0.0039 - psnr: 24.4873 - ssim: 0.8141 - val_loss: 0.1903 - val_mean_squared_error: 0.0038 - val_psnr: 24.5113 - val_ssim: 0.8096\n",
      "Epoch 22/30\n",
      "1644/1644 [==============================] - 176s 107ms/step - loss: 0.1859 - mean_squared_error: 0.0039 - psnr: 24.4868 - ssim: 0.8142 - val_loss: 0.1900 - val_mean_squared_error: 0.0038 - val_psnr: 24.5738 - val_ssim: 0.8100\n",
      "Epoch 23/30\n",
      "1644/1644 [==============================] - 176s 107ms/step - loss: 0.1857 - mean_squared_error: 0.0039 - psnr: 24.4586 - ssim: 0.8143 - val_loss: 0.1897 - val_mean_squared_error: 0.0038 - val_psnr: 24.5452 - val_ssim: 0.8103\n",
      "Epoch 24/30\n",
      "1644/1644 [==============================] - 176s 107ms/step - loss: 0.1862 - mean_squared_error: 0.0041 - psnr: 24.2640 - ssim: 0.8139 - val_loss: 0.1885 - val_mean_squared_error: 0.0039 - val_psnr: 24.4138 - val_ssim: 0.8115\n",
      "Epoch 25/30\n",
      "1644/1644 [==============================] - 177s 107ms/step - loss: 0.1856 - mean_squared_error: 0.0039 - psnr: 24.4477 - ssim: 0.8145 - val_loss: 0.1887 - val_mean_squared_error: 0.0039 - val_psnr: 24.4260 - val_ssim: 0.8113\n",
      "Epoch 26/30\n",
      "1643/1644 [============================>.] - ETA: 0s - loss: 0.1853 - mean_squared_error: 0.0039 - psnr: 24.4926 - ssim: 0.8147\n",
      "Epoch 00026: ReduceLROnPlateau reducing learning rate to 8.000000525498762e-06.\n",
      "1644/1644 [==============================] - 176s 107ms/step - loss: 0.1853 - mean_squared_error: 0.0039 - psnr: 24.4927 - ssim: 0.8147 - val_loss: 0.1899 - val_mean_squared_error: 0.0039 - val_psnr: 24.4726 - val_ssim: 0.8102\n",
      "Epoch 27/30\n",
      "1643/1644 [============================>.] - ETA: 0s - loss: 0.1848 - mean_squared_error: 0.0039 - psnr: 24.5166 - ssim: 0.8152Restoring model weights from the end of the best epoch.\n",
      "1644/1644 [==============================] - 176s 107ms/step - loss: 0.1848 - mean_squared_error: 0.0039 - psnr: 24.5167 - ssim: 0.8152 - val_loss: 0.1887 - val_mean_squared_error: 0.0038 - val_psnr: 24.4790 - val_ssim: 0.8112\n",
      "Epoch 00027: early stopping\n",
      "##############################\n",
      "              PSNR         SSIM\n",
      "count  8039.000000  8039.000000\n",
      "mean     24.477429     0.812667\n",
      "std       1.935386     0.036792\n",
      "min      16.965551     0.599011\n",
      "25%      23.171476     0.788459\n",
      "50%      23.913338     0.813208\n",
      "75%      25.657743     0.836288\n",
      "max      31.814939     0.905907\n",
      "##############################\n"
     ]
    }
   ],
   "source": [
    "ae_ssim_model.compile(loss=ssim_loss, optimizer = 'adam', metrics=metrics)\n",
    "ae_ssim_fitted = workbench.run(model=ae_ssim_model, epochs=30)"
   ]
  },
  {
   "cell_type": "markdown",
   "metadata": {},
   "source": [
    "### AE + Skippend Long Connections (AE+sLC)"
   ]
  },
  {
   "cell_type": "markdown",
   "metadata": {},
   "source": [
    "#### Loss function: MSE"
   ]
  },
  {
   "cell_type": "code",
   "execution_count": 10,
   "metadata": {},
   "outputs": [],
   "source": [
    "ae_slc_mse_model = AutoEncoder(\n",
    "    encoder=SimpleEncoder(depth=5, feature_maps=8),\n",
    "    name=\"ae_slc_mse\",\n",
    "    skip_long_connections_function=layers.add\n",
    ")(input_shape=workbench.image_shape)"
   ]
  },
  {
   "cell_type": "code",
   "execution_count": 11,
   "metadata": {},
   "outputs": [
    {
     "name": "stdout",
     "output_type": "stream",
     "text": [
      "WARNING:tensorflow:sample_weight modes were coerced from\n",
      "  ...\n",
      "    to  \n",
      "  ['...']\n",
      "WARNING:tensorflow:sample_weight modes were coerced from\n",
      "  ...\n",
      "    to  \n",
      "  ['...']\n",
      "Train for 1644 steps, validate for 348 steps\n",
      "Epoch 1/30\n",
      "1644/1644 [==============================] - 170s 104ms/step - loss: 0.0030 - mean_squared_error: 0.0030 - psnr: 28.2740 - ssim: 0.6986 - val_loss: 0.0011 - val_mean_squared_error: 0.0011 - val_psnr: 31.1410 - val_ssim: 0.8315\n",
      "Epoch 2/30\n",
      "1644/1644 [==============================] - 169s 103ms/step - loss: 0.0010 - mean_squared_error: 0.0010 - psnr: 31.6107 - ssim: 0.8613 - val_loss: 0.0011 - val_mean_squared_error: 0.0011 - val_psnr: 30.9930 - val_ssim: 0.7876\n",
      "Epoch 3/30\n",
      "1644/1644 [==============================] - 169s 103ms/step - loss: 8.8543e-04 - mean_squared_error: 8.8287e-04 - psnr: 32.5258 - ssim: 0.9096 - val_loss: 7.3509e-04 - val_mean_squared_error: 7.3441e-04 - val_psnr: 33.7882 - val_ssim: 0.9347\n",
      "Epoch 4/30\n",
      "1644/1644 [==============================] - 169s 103ms/step - loss: 8.0235e-04 - mean_squared_error: 8.0071e-04 - psnr: 33.1902 - ssim: 0.9272 - val_loss: 6.9659e-04 - val_mean_squared_error: 6.9725e-04 - val_psnr: 33.9203 - val_ssim: 0.9316\n",
      "Epoch 5/30\n",
      "1643/1644 [============================>.] - ETA: 0s - loss: 7.3691e-04 - mean_squared_error: 7.3661e-04 - psnr: 33.6569 - ssim: 0.9361\n",
      "Epoch 00005: ReduceLROnPlateau reducing learning rate to 0.00020000000949949026.\n",
      "1644/1644 [==============================] - 169s 103ms/step - loss: 7.3667e-04 - mean_squared_error: 7.3636e-04 - psnr: 33.6582 - ssim: 0.9361 - val_loss: 7.6552e-04 - val_mean_squared_error: 7.6607e-04 - val_psnr: 32.8511 - val_ssim: 0.9481\n",
      "Epoch 6/30\n",
      "1644/1644 [==============================] - 169s 103ms/step - loss: 6.4059e-04 - mean_squared_error: 6.3899e-04 - psnr: 34.4453 - ssim: 0.9405 - val_loss: 5.7032e-04 - val_mean_squared_error: 5.7087e-04 - val_psnr: 35.6552 - val_ssim: 0.9412\n",
      "Epoch 7/30\n",
      "1644/1644 [==============================] - 169s 103ms/step - loss: 6.4227e-04 - mean_squared_error: 6.4219e-04 - psnr: 34.4220 - ssim: 0.9395 - val_loss: 6.6341e-04 - val_mean_squared_error: 6.6414e-04 - val_psnr: 34.0321 - val_ssim: 0.9426\n",
      "Epoch 8/30\n",
      "1643/1644 [============================>.] - ETA: 0s - loss: 6.2589e-04 - mean_squared_error: 6.2591e-04 - psnr: 34.5752 - ssim: 0.9403\n",
      "Epoch 00008: ReduceLROnPlateau reducing learning rate to 4.0000001899898055e-05.\n",
      "1644/1644 [==============================] - 169s 103ms/step - loss: 6.2581e-04 - mean_squared_error: 6.2583e-04 - psnr: 34.5762 - ssim: 0.9403 - val_loss: 6.2345e-04 - val_mean_squared_error: 6.2409e-04 - val_psnr: 35.3953 - val_ssim: 0.9342\n",
      "Epoch 9/30\n",
      "1644/1644 [==============================] - 169s 103ms/step - loss: 5.8668e-04 - mean_squared_error: 5.8657e-04 - psnr: 34.9905 - ssim: 0.9398 - val_loss: 5.5936e-04 - val_mean_squared_error: 5.5988e-04 - val_psnr: 35.8358 - val_ssim: 0.9468\n",
      "Epoch 10/30\n",
      "1643/1644 [============================>.] - ETA: 0s - loss: 5.8179e-04 - mean_squared_error: 5.8157e-04 - psnr: 35.0518 - ssim: 0.9395\n",
      "Epoch 00010: ReduceLROnPlateau reducing learning rate to 8.000000525498762e-06.\n",
      "1644/1644 [==============================] - 169s 103ms/step - loss: 5.8190e-04 - mean_squared_error: 5.8167e-04 - psnr: 35.0512 - ssim: 0.9395 - val_loss: 5.1343e-04 - val_mean_squared_error: 5.1324e-04 - val_psnr: 36.2980 - val_ssim: 0.9444\n",
      "Epoch 11/30\n",
      "1644/1644 [==============================] - 169s 103ms/step - loss: 5.8302e-04 - mean_squared_error: 5.8163e-04 - psnr: 35.0820 - ssim: 0.9394 - val_loss: 5.4209e-04 - val_mean_squared_error: 5.4190e-04 - val_psnr: 36.0250 - val_ssim: 0.9438\n",
      "Epoch 12/30\n",
      "1643/1644 [============================>.] - ETA: 0s - loss: 5.7839e-04 - mean_squared_error: 5.7858e-04 - psnr: 35.1197 - ssim: 0.9393\n",
      "Epoch 00012: ReduceLROnPlateau reducing learning rate to 1.6000001778593287e-06.\n",
      "1644/1644 [==============================] - 169s 103ms/step - loss: 5.7845e-04 - mean_squared_error: 5.7864e-04 - psnr: 35.1187 - ssim: 0.9393 - val_loss: 5.2808e-04 - val_mean_squared_error: 5.2897e-04 - val_psnr: 36.0394 - val_ssim: 0.9412\n",
      "Epoch 13/30\n",
      "1643/1644 [============================>.] - ETA: 0s - loss: 5.8677e-04 - mean_squared_error: 5.8692e-04 - psnr: 35.0509 - ssim: 0.9391Restoring model weights from the end of the best epoch.\n",
      "1644/1644 [==============================] - 169s 103ms/step - loss: 5.8670e-04 - mean_squared_error: 5.8684e-04 - psnr: 35.0517 - ssim: 0.9391 - val_loss: 5.5063e-04 - val_mean_squared_error: 5.5139e-04 - val_psnr: 35.9691 - val_ssim: 0.9415\n",
      "Epoch 00013: early stopping\n",
      "##############################\n",
      "              PSNR         SSIM\n",
      "count  8039.000000  8039.000000\n",
      "mean     36.181313     0.945100\n",
      "std       5.622450     0.033839\n",
      "min      21.155436     0.782683\n",
      "25%      31.219238     0.929079\n",
      "50%      36.540215     0.956805\n",
      "75%      42.045094     0.969726\n",
      "max      45.196957     0.986305\n",
      "##############################\n"
     ]
    }
   ],
   "source": [
    "ae_slc_mse_model.compile(loss='mean_squared_error', optimizer = 'adam', metrics=metrics)\n",
    "ae_slc_mse_fitted = workbench.run(model=ae_slc_mse_model, epochs=30)"
   ]
  },
  {
   "cell_type": "markdown",
   "metadata": {},
   "source": [
    "#### Loss function: SSIM"
   ]
  },
  {
   "cell_type": "code",
   "execution_count": 12,
   "metadata": {},
   "outputs": [],
   "source": [
    "ae_slc_ssim_model = AutoEncoder(\n",
    "    encoder=SimpleEncoder(depth=5, feature_maps=8),\n",
    "    name=\"ae_slc_ssim\",\n",
    "    skip_long_connections_function=layers.add\n",
    ")(input_shape=workbench.image_shape)"
   ]
  },
  {
   "cell_type": "code",
   "execution_count": 13,
   "metadata": {},
   "outputs": [
    {
     "name": "stdout",
     "output_type": "stream",
     "text": [
      "WARNING:tensorflow:sample_weight modes were coerced from\n",
      "  ...\n",
      "    to  \n",
      "  ['...']\n",
      "WARNING:tensorflow:sample_weight modes were coerced from\n",
      "  ...\n",
      "    to  \n",
      "  ['...']\n",
      "Train for 1644 steps, validate for 348 steps\n",
      "Epoch 1/30\n",
      "1644/1644 [==============================] - 184s 112ms/step - loss: 0.0935 - mean_squared_error: 0.0263 - psnr: 25.3475 - ssim: 0.9065 - val_loss: 0.0825 - val_mean_squared_error: 0.0022 - val_psnr: 31.7296 - val_ssim: 0.9175\n",
      "Epoch 2/30\n",
      "1644/1644 [==============================] - 181s 110ms/step - loss: 0.0408 - mean_squared_error: 0.0021 - psnr: 31.3957 - ssim: 0.9592 - val_loss: 0.1067 - val_mean_squared_error: 0.0020 - val_psnr: 32.2251 - val_ssim: 0.8932\n",
      "Epoch 3/30\n",
      "1644/1644 [==============================] - 182s 110ms/step - loss: 0.0349 - mean_squared_error: 9.8252e-04 - psnr: 32.8708 - ssim: 0.9651 - val_loss: 0.0404 - val_mean_squared_error: 0.0014 - val_psnr: 31.7215 - val_ssim: 0.9596\n",
      "Epoch 4/30\n",
      "1644/1644 [==============================] - 182s 111ms/step - loss: 0.0316 - mean_squared_error: 8.8162e-04 - psnr: 33.4090 - ssim: 0.9684 - val_loss: 0.0793 - val_mean_squared_error: 0.0021 - val_psnr: 31.2603 - val_ssim: 0.9207\n",
      "Epoch 5/30\n",
      "1643/1644 [============================>.] - ETA: 0s - loss: 0.0303 - mean_squared_error: 8.4994e-04 - psnr: 33.7353 - ssim: 0.9697\n",
      "Epoch 00005: ReduceLROnPlateau reducing learning rate to 0.00020000000949949026.\n",
      "1644/1644 [==============================] - 182s 111ms/step - loss: 0.0303 - mean_squared_error: 8.4997e-04 - psnr: 33.7356 - ssim: 0.9697 - val_loss: 0.1205 - val_mean_squared_error: 0.0022 - val_psnr: 31.6433 - val_ssim: 0.8794\n",
      "Epoch 6/30\n",
      "1644/1644 [==============================] - 182s 111ms/step - loss: 0.0277 - mean_squared_error: 7.2469e-04 - psnr: 34.6305 - ssim: 0.9724 - val_loss: 0.0285 - val_mean_squared_error: 6.7771e-04 - val_psnr: 36.2112 - val_ssim: 0.9715\n",
      "Epoch 7/30\n",
      "1644/1644 [==============================] - 182s 111ms/step - loss: 0.0273 - mean_squared_error: 7.2056e-04 - psnr: 34.6697 - ssim: 0.9727 - val_loss: 0.0283 - val_mean_squared_error: 7.4108e-04 - val_psnr: 36.0924 - val_ssim: 0.9718\n",
      "Epoch 8/30\n",
      "1644/1644 [==============================] - 182s 111ms/step - loss: 0.0267 - mean_squared_error: 6.9286e-04 - psnr: 34.8730 - ssim: 0.9733 - val_loss: 0.0272 - val_mean_squared_error: 6.2982e-04 - val_psnr: 36.4582 - val_ssim: 0.9728\n",
      "Epoch 9/30\n",
      "1644/1644 [==============================] - 182s 111ms/step - loss: 0.0267 - mean_squared_error: 6.9716e-04 - psnr: 34.8740 - ssim: 0.9733 - val_loss: 0.0338 - val_mean_squared_error: 0.0012 - val_psnr: 35.2211 - val_ssim: 0.9662\n",
      "Epoch 10/30\n",
      "1644/1644 [==============================] - 182s 111ms/step - loss: 0.0264 - mean_squared_error: 6.8391e-04 - psnr: 35.0504 - ssim: 0.9737 - val_loss: 0.0255 - val_mean_squared_error: 5.8325e-04 - val_psnr: 36.7570 - val_ssim: 0.9745\n",
      "Epoch 11/30\n",
      "1644/1644 [==============================] - 182s 111ms/step - loss: 0.0264 - mean_squared_error: 6.8123e-04 - psnr: 35.0328 - ssim: 0.9736 - val_loss: 0.0364 - val_mean_squared_error: 0.0014 - val_psnr: 35.4850 - val_ssim: 0.9637\n",
      "Epoch 12/30\n",
      "1643/1644 [============================>.] - ETA: 0s - loss: 0.0260 - mean_squared_error: 6.6257e-04 - psnr: 35.2137 - ssim: 0.9740\n",
      "Epoch 00012: ReduceLROnPlateau reducing learning rate to 4.0000001899898055e-05.\n",
      "1644/1644 [==============================] - 182s 111ms/step - loss: 0.0260 - mean_squared_error: 6.6250e-04 - psnr: 35.2147 - ssim: 0.9740 - val_loss: 0.0326 - val_mean_squared_error: 0.0012 - val_psnr: 35.1122 - val_ssim: 0.9674\n",
      "Epoch 13/30\n",
      "1643/1644 [============================>.] - ETA: 0s - loss: 0.0256 - mean_squared_error: 6.3455e-04 - psnr: 35.4952 - ssim: 0.9744Restoring model weights from the end of the best epoch.\n",
      "1644/1644 [==============================] - 182s 111ms/step - loss: 0.0256 - mean_squared_error: 6.3485e-04 - psnr: 35.4943 - ssim: 0.9744 - val_loss: 0.0256 - val_mean_squared_error: 5.8146e-04 - val_psnr: 37.0430 - val_ssim: 0.9744\n",
      "Epoch 00013: early stopping\n",
      "##############################\n",
      "              PSNR         SSIM\n",
      "count  8039.000000  8039.000000\n",
      "mean     36.802761     0.974603\n",
      "std       6.442752     0.032584\n",
      "min      18.391768     0.743295\n",
      "25%      30.813582     0.961455\n",
      "50%      38.543785     0.991146\n",
      "75%      42.298288     0.998409\n",
      "max      48.920593     0.999034\n",
      "##############################\n"
     ]
    }
   ],
   "source": [
    "ae_slc_ssim_model.compile(loss=ssim_loss, optimizer = 'adam', metrics=metrics)\n",
    "ae_slc_ssim_fitted = workbench.run(model=ae_slc_ssim_model, epochs=30)"
   ]
  },
  {
   "cell_type": "markdown",
   "metadata": {},
   "source": [
    "### AE + Residual block (RB)"
   ]
  },
  {
   "cell_type": "markdown",
   "metadata": {},
   "source": [
    "#### Loss function: MSE"
   ]
  },
  {
   "cell_type": "code",
   "execution_count": 14,
   "metadata": {},
   "outputs": [],
   "source": [
    "ae_rb_mse_model = AutoEncoder(\n",
    "    encoder=ResnetEncoderv1(nb_list=[3,4,6,3], feature_maps=8),\n",
    "    name=\"ae_rb_mse\",\n",
    ")(input_shape=workbench.image_shape)"
   ]
  },
  {
   "cell_type": "code",
   "execution_count": 15,
   "metadata": {},
   "outputs": [
    {
     "name": "stdout",
     "output_type": "stream",
     "text": [
      "WARNING:tensorflow:sample_weight modes were coerced from\n",
      "  ...\n",
      "    to  \n",
      "  ['...']\n",
      "WARNING:tensorflow:sample_weight modes were coerced from\n",
      "  ...\n",
      "    to  \n",
      "  ['...']\n",
      "Train for 1644 steps, validate for 348 steps\n",
      "Epoch 1/30\n",
      "1644/1644 [==============================] - 250s 152ms/step - loss: 0.0072 - mean_squared_error: 0.0072 - psnr: 22.2411 - ssim: 0.4429 - val_loss: 0.0046 - val_mean_squared_error: 0.0046 - val_psnr: 23.5532 - val_ssim: 0.6057\n",
      "Epoch 2/30\n",
      "1644/1644 [==============================] - 246s 150ms/step - loss: 0.0038 - mean_squared_error: 0.0038 - psnr: 24.4680 - ssim: 0.6645 - val_loss: 0.0036 - val_mean_squared_error: 0.0036 - val_psnr: 24.7249 - val_ssim: 0.7166\n",
      "Epoch 3/30\n",
      "1644/1644 [==============================] - 246s 150ms/step - loss: 0.0031 - mean_squared_error: 0.0031 - psnr: 25.4491 - ssim: 0.7471 - val_loss: 0.0087 - val_mean_squared_error: 0.0087 - val_psnr: 21.4276 - val_ssim: 0.5822\n",
      "Epoch 4/30\n",
      "1644/1644 [==============================] - 246s 150ms/step - loss: 0.0026 - mean_squared_error: 0.0026 - psnr: 26.1530 - ssim: 0.7911 - val_loss: 0.0028 - val_mean_squared_error: 0.0028 - val_psnr: 25.7945 - val_ssim: 0.7265\n",
      "Epoch 5/30\n",
      "1644/1644 [==============================] - 246s 150ms/step - loss: 0.0024 - mean_squared_error: 0.0024 - psnr: 26.5988 - ssim: 0.8127 - val_loss: 0.0057 - val_mean_squared_error: 0.0057 - val_psnr: 22.6437 - val_ssim: 0.7860\n",
      "Epoch 6/30\n",
      "1644/1644 [==============================] - 246s 150ms/step - loss: 0.0022 - mean_squared_error: 0.0022 - psnr: 27.0188 - ssim: 0.8292 - val_loss: 0.0022 - val_mean_squared_error: 0.0022 - val_psnr: 26.9596 - val_ssim: 0.8423\n",
      "Epoch 7/30\n",
      "1644/1644 [==============================] - 246s 150ms/step - loss: 0.0020 - mean_squared_error: 0.0020 - psnr: 27.3249 - ssim: 0.8403 - val_loss: 0.0023 - val_mean_squared_error: 0.0023 - val_psnr: 26.8761 - val_ssim: 0.8301\n",
      "Epoch 8/30\n",
      "1644/1644 [==============================] - 246s 150ms/step - loss: 0.0019 - mean_squared_error: 0.0019 - psnr: 27.5394 - ssim: 0.8481 - val_loss: 0.0020 - val_mean_squared_error: 0.0020 - val_psnr: 27.2991 - val_ssim: 0.8425\n",
      "Epoch 9/30\n",
      "1644/1644 [==============================] - 246s 150ms/step - loss: 0.0019 - mean_squared_error: 0.0019 - psnr: 27.6972 - ssim: 0.8538 - val_loss: 0.0039 - val_mean_squared_error: 0.0039 - val_psnr: 24.4728 - val_ssim: 0.7408\n",
      "Epoch 10/30\n",
      "1644/1644 [==============================] - 246s 150ms/step - loss: 0.0018 - mean_squared_error: 0.0018 - psnr: 27.9101 - ssim: 0.8603 - val_loss: 0.0018 - val_mean_squared_error: 0.0018 - val_psnr: 27.8062 - val_ssim: 0.8520\n",
      "Epoch 11/30\n",
      "1644/1644 [==============================] - 247s 150ms/step - loss: 0.0017 - mean_squared_error: 0.0017 - psnr: 28.0775 - ssim: 0.8654 - val_loss: 0.0162 - val_mean_squared_error: 0.0162 - val_psnr: 19.1313 - val_ssim: 0.6015\n",
      "Epoch 12/30\n",
      "1643/1644 [============================>.] - ETA: 0s - loss: 0.0017 - mean_squared_error: 0.0017 - psnr: 28.2499 - ssim: 0.8703\n",
      "Epoch 00012: ReduceLROnPlateau reducing learning rate to 0.00020000000949949026.\n",
      "1644/1644 [==============================] - 247s 150ms/step - loss: 0.0017 - mean_squared_error: 0.0017 - psnr: 28.2495 - ssim: 0.8703 - val_loss: 0.0019 - val_mean_squared_error: 0.0019 - val_psnr: 27.5168 - val_ssim: 0.8582\n",
      "Epoch 13/30\n",
      "1644/1644 [==============================] - 247s 150ms/step - loss: 0.0015 - mean_squared_error: 0.0015 - psnr: 28.6502 - ssim: 0.8777 - val_loss: 0.0015 - val_mean_squared_error: 0.0015 - val_psnr: 28.6625 - val_ssim: 0.8711\n",
      "Epoch 14/30\n",
      "1644/1644 [==============================] - 247s 150ms/step - loss: 0.0015 - mean_squared_error: 0.0015 - psnr: 28.6839 - ssim: 0.8788 - val_loss: 0.0019 - val_mean_squared_error: 0.0019 - val_psnr: 27.5700 - val_ssim: 0.8677\n",
      "Epoch 15/30\n",
      "1643/1644 [============================>.] - ETA: 0s - loss: 0.0015 - mean_squared_error: 0.0015 - psnr: 28.7375 - ssim: 0.8802\n",
      "Epoch 00015: ReduceLROnPlateau reducing learning rate to 4.0000001899898055e-05.\n",
      "1644/1644 [==============================] - 247s 150ms/step - loss: 0.0015 - mean_squared_error: 0.0015 - psnr: 28.7370 - ssim: 0.8802 - val_loss: 0.0015 - val_mean_squared_error: 0.0015 - val_psnr: 28.6132 - val_ssim: 0.8727\n",
      "Epoch 16/30\n",
      "1644/1644 [==============================] - 247s 150ms/step - loss: 0.0014 - mean_squared_error: 0.0014 - psnr: 28.8615 - ssim: 0.8821 - val_loss: 0.0014 - val_mean_squared_error: 0.0014 - val_psnr: 28.9235 - val_ssim: 0.8831\n",
      "Epoch 17/30\n",
      "1643/1644 [============================>.] - ETA: 0s - loss: 0.0014 - mean_squared_error: 0.0014 - psnr: 28.8620 - ssim: 0.8822\n",
      "Epoch 00017: ReduceLROnPlateau reducing learning rate to 8.000000525498762e-06.\n",
      "1644/1644 [==============================] - 247s 150ms/step - loss: 0.0014 - mean_squared_error: 0.0014 - psnr: 28.8620 - ssim: 0.8822 - val_loss: 0.0014 - val_mean_squared_error: 0.0014 - val_psnr: 28.8714 - val_ssim: 0.8796\n",
      "Epoch 18/30\n",
      "1644/1644 [==============================] - 247s 150ms/step - loss: 0.0014 - mean_squared_error: 0.0014 - psnr: 28.8816 - ssim: 0.8824 - val_loss: 0.0014 - val_mean_squared_error: 0.0014 - val_psnr: 28.9288 - val_ssim: 0.8832\n",
      "Epoch 19/30\n",
      "1643/1644 [============================>.] - ETA: 0s - loss: 0.0014 - mean_squared_error: 0.0014 - psnr: 28.8940 - ssim: 0.8826\n",
      "Epoch 00019: ReduceLROnPlateau reducing learning rate to 1.6000001778593287e-06.\n",
      "1644/1644 [==============================] - 247s 150ms/step - loss: 0.0014 - mean_squared_error: 0.0014 - psnr: 28.8944 - ssim: 0.8826 - val_loss: 0.0014 - val_mean_squared_error: 0.0014 - val_psnr: 28.9422 - val_ssim: 0.8825\n",
      "Epoch 20/30\n",
      "1644/1644 [==============================] - 246s 150ms/step - loss: 0.0014 - mean_squared_error: 0.0014 - psnr: 28.8907 - ssim: 0.8827 - val_loss: 0.0014 - val_mean_squared_error: 0.0014 - val_psnr: 28.9028 - val_ssim: 0.8825\n",
      "Epoch 21/30\n",
      "1643/1644 [============================>.] - ETA: 0s - loss: 0.0014 - mean_squared_error: 0.0014 - psnr: 28.9062 - ssim: 0.8828\n",
      "Epoch 00021: ReduceLROnPlateau reducing learning rate to 3.200000264769187e-07.\n",
      "1644/1644 [==============================] - 247s 150ms/step - loss: 0.0014 - mean_squared_error: 0.0014 - psnr: 28.9065 - ssim: 0.8828 - val_loss: 0.0014 - val_mean_squared_error: 0.0014 - val_psnr: 28.9510 - val_ssim: 0.8825\n",
      "Epoch 22/30\n",
      "1643/1644 [============================>.] - ETA: 0s - loss: 0.0014 - mean_squared_error: 0.0014 - psnr: 28.9158 - ssim: 0.8829Restoring model weights from the end of the best epoch.\n",
      "1644/1644 [==============================] - 247s 150ms/step - loss: 0.0014 - mean_squared_error: 0.0014 - psnr: 28.9163 - ssim: 0.8829 - val_loss: 0.0014 - val_mean_squared_error: 0.0014 - val_psnr: 28.9278 - val_ssim: 0.8820\n",
      "Epoch 00022: early stopping\n",
      "##############################\n",
      "              PSNR         SSIM\n",
      "count  8039.000000  8039.000000\n",
      "mean     29.022667     0.884027\n",
      "std       2.104468     0.025605\n",
      "min      20.401106     0.715272\n",
      "25%      27.824684     0.871551\n",
      "50%      28.733131     0.885512\n",
      "75%      30.194474     0.899565\n",
      "max      35.923092     0.940077\n",
      "##############################\n"
     ]
    }
   ],
   "source": [
    "ae_rb_mse_model.compile(loss='mean_squared_error', optimizer = 'adam', metrics=metrics)\n",
    "ae_rb_mse_fitted = workbench.run(model=ae_rb_mse_model, epochs=30)"
   ]
  },
  {
   "cell_type": "markdown",
   "metadata": {},
   "source": [
    "#### Loss function: SSIM"
   ]
  },
  {
   "cell_type": "code",
   "execution_count": 16,
   "metadata": {},
   "outputs": [],
   "source": [
    "ae_rb_ssim_model = AutoEncoder(\n",
    "    encoder=ResnetEncoderv1(nb_list=[3,4,6,3], feature_maps=8),\n",
    "    name=\"ae_rb_ssim\",\n",
    ")(input_shape=workbench.image_shape)"
   ]
  },
  {
   "cell_type": "code",
   "execution_count": 17,
   "metadata": {},
   "outputs": [
    {
     "name": "stdout",
     "output_type": "stream",
     "text": [
      "WARNING:tensorflow:sample_weight modes were coerced from\n",
      "  ...\n",
      "    to  \n",
      "  ['...']\n",
      "WARNING:tensorflow:sample_weight modes were coerced from\n",
      "  ...\n",
      "    to  \n",
      "  ['...']\n",
      "Train for 1644 steps, validate for 348 steps\n",
      "Epoch 1/30\n",
      "1644/1644 [==============================] - 259s 158ms/step - loss: 0.2982 - mean_squared_error: 0.0210 - psnr: 20.5043 - ssim: 0.7018 - val_loss: 0.2127 - val_mean_squared_error: 0.0080 - val_psnr: 21.1459 - val_ssim: 0.7873\n",
      "Epoch 2/30\n",
      "1644/1644 [==============================] - 255s 155ms/step - loss: 0.1655 - mean_squared_error: 0.0036 - psnr: 24.8643 - ssim: 0.8345 - val_loss: 0.1864 - val_mean_squared_error: 0.0055 - val_psnr: 23.4005 - val_ssim: 0.8135\n",
      "Epoch 3/30\n",
      "1644/1644 [==============================] - 256s 155ms/step - loss: 0.1349 - mean_squared_error: 0.0029 - psnr: 25.8574 - ssim: 0.8651 - val_loss: 0.1475 - val_mean_squared_error: 0.0033 - val_psnr: 25.1314 - val_ssim: 0.8525\n",
      "Epoch 4/30\n",
      "1644/1644 [==============================] - 256s 155ms/step - loss: 0.1222 - mean_squared_error: 0.0026 - psnr: 26.3601 - ssim: 0.8778 - val_loss: 0.1309 - val_mean_squared_error: 0.0036 - val_psnr: 24.6484 - val_ssim: 0.8690\n",
      "Epoch 5/30\n",
      "1644/1644 [==============================] - 256s 155ms/step - loss: 0.1139 - mean_squared_error: 0.0024 - psnr: 26.7189 - ssim: 0.8862 - val_loss: 0.3195 - val_mean_squared_error: 0.0060 - val_psnr: 22.8116 - val_ssim: 0.6805\n",
      "Epoch 6/30\n",
      "1643/1644 [============================>.] - ETA: 0s - loss: 0.1072 - mean_squared_error: 0.0022 - psnr: 27.0417 - ssim: 0.8928\n",
      "Epoch 00006: ReduceLROnPlateau reducing learning rate to 0.00020000000949949026.\n",
      "1644/1644 [==============================] - 256s 155ms/step - loss: 0.1072 - mean_squared_error: 0.0022 - psnr: 27.0418 - ssim: 0.8928 - val_loss: 0.6041 - val_mean_squared_error: 0.2997 - val_psnr: 5.3837 - val_ssim: 0.3959\n",
      "Epoch 7/30\n",
      "1643/1644 [============================>.] - ETA: 0s - loss: 0.0990 - mean_squared_error: 0.0020 - psnr: 27.5345 - ssim: 0.9010Restoring model weights from the end of the best epoch.\n",
      "1644/1644 [==============================] - 255s 155ms/step - loss: 0.0990 - mean_squared_error: 0.0020 - psnr: 27.5348 - ssim: 0.9010 - val_loss: 0.1316 - val_mean_squared_error: 0.0029 - val_psnr: 26.9677 - val_ssim: 0.8684\n",
      "Epoch 00007: early stopping\n",
      "##############################\n",
      "              PSNR         SSIM\n",
      "count  8039.000000  8039.000000\n",
      "mean     24.653150     0.869737\n",
      "std       1.585105     0.028568\n",
      "min      17.837044     0.697185\n",
      "25%      23.745018     0.854204\n",
      "50%      24.421238     0.871763\n",
      "75%      25.635471     0.888974\n",
      "max      29.662092     0.934340\n",
      "##############################\n"
     ]
    }
   ],
   "source": [
    "ae_rb_ssim_model.compile(loss=ssim_loss, optimizer = 'adam', metrics=metrics)\n",
    "ae_rb_ssim_fitted = workbench.run(model=ae_rb_ssim_model, epochs=30)"
   ]
  },
  {
   "cell_type": "markdown",
   "metadata": {},
   "source": [
    "### AE + sLC + RB (v1)"
   ]
  },
  {
   "cell_type": "markdown",
   "metadata": {},
   "source": [
    "#### Loss function: MSE"
   ]
  },
  {
   "cell_type": "code",
   "execution_count": 18,
   "metadata": {},
   "outputs": [],
   "source": [
    "ae_slc_rb_mse_model_v1 = AutoEncoder(\n",
    "    encoder=ResnetEncoderv1(nb_list=[3,4,6,3], feature_maps=8),\n",
    "    name=\"ae_slc_rb_mse_v1\",\n",
    "    skip_long_connections_function=layers.add\n",
    ")(input_shape=workbench.image_shape)"
   ]
  },
  {
   "cell_type": "code",
   "execution_count": 19,
   "metadata": {},
   "outputs": [
    {
     "name": "stdout",
     "output_type": "stream",
     "text": [
      "WARNING:tensorflow:sample_weight modes were coerced from\n",
      "  ...\n",
      "    to  \n",
      "  ['...']\n",
      "WARNING:tensorflow:sample_weight modes were coerced from\n",
      "  ...\n",
      "    to  \n",
      "  ['...']\n",
      "Train for 1644 steps, validate for 348 steps\n",
      "Epoch 1/30\n",
      "1644/1644 [==============================] - 252s 153ms/step - loss: 0.0051 - mean_squared_error: 0.0051 - psnr: 25.5937 - ssim: 0.6262 - val_loss: 0.0016 - val_mean_squared_error: 0.0016 - val_psnr: 28.6446 - val_ssim: 0.8497\n",
      "Epoch 2/30\n",
      "1644/1644 [==============================] - 248s 151ms/step - loss: 0.0017 - mean_squared_error: 0.0017 - psnr: 28.7528 - ssim: 0.7789 - val_loss: 0.0012 - val_mean_squared_error: 0.0012 - val_psnr: 30.1598 - val_ssim: 0.8050\n",
      "Epoch 3/30\n",
      "1644/1644 [==============================] - 248s 151ms/step - loss: 0.0012 - mean_squared_error: 0.0012 - psnr: 30.1927 - ssim: 0.8799 - val_loss: 0.0011 - val_mean_squared_error: 0.0011 - val_psnr: 30.5741 - val_ssim: 0.8425\n",
      "Epoch 4/30\n",
      "1644/1644 [==============================] - 248s 151ms/step - loss: 0.0011 - mean_squared_error: 0.0011 - psnr: 30.8243 - ssim: 0.9070 - val_loss: 0.0010 - val_mean_squared_error: 0.0010 - val_psnr: 31.2235 - val_ssim: 0.9166\n",
      "Epoch 5/30\n",
      "1644/1644 [==============================] - 248s 151ms/step - loss: 9.8684e-04 - mean_squared_error: 9.8578e-04 - psnr: 31.2002 - ssim: 0.9186 - val_loss: 9.2880e-04 - val_mean_squared_error: 9.2961e-04 - val_psnr: 31.7060 - val_ssim: 0.9006\n",
      "Epoch 6/30\n",
      "1643/1644 [============================>.] - ETA: 0s - loss: 9.3467e-04 - mean_squared_error: 9.3256e-04 - psnr: 31.5280 - ssim: 0.9251\n",
      "Epoch 00006: ReduceLROnPlateau reducing learning rate to 0.00020000000949949026.\n",
      "1644/1644 [==============================] - 248s 151ms/step - loss: 9.3464e-04 - mean_squared_error: 9.3253e-04 - psnr: 31.5279 - ssim: 0.9251 - val_loss: 0.0010 - val_mean_squared_error: 0.0010 - val_psnr: 30.6999 - val_ssim: 0.9175\n",
      "Epoch 7/30\n",
      "1644/1644 [==============================] - 248s 151ms/step - loss: 8.2895e-04 - mean_squared_error: 8.2707e-04 - psnr: 32.0965 - ssim: 0.9283 - val_loss: 7.4848e-04 - val_mean_squared_error: 7.4903e-04 - val_psnr: 32.6006 - val_ssim: 0.9350\n",
      "Epoch 8/30\n",
      "1644/1644 [==============================] - 248s 151ms/step - loss: 8.0929e-04 - mean_squared_error: 8.0699e-04 - psnr: 32.2010 - ssim: 0.9265 - val_loss: 7.4848e-04 - val_mean_squared_error: 7.4927e-04 - val_psnr: 32.7295 - val_ssim: 0.9358\n",
      "Epoch 9/30\n",
      "1643/1644 [============================>.] - ETA: 0s - loss: 7.8263e-04 - mean_squared_error: 7.8285e-04 - psnr: 32.3660 - ssim: 0.9284\n",
      "Epoch 00009: ReduceLROnPlateau reducing learning rate to 4.0000001899898055e-05.\n",
      "1644/1644 [==============================] - 248s 151ms/step - loss: 7.8267e-04 - mean_squared_error: 7.8289e-04 - psnr: 32.3659 - ssim: 0.9284 - val_loss: 7.8050e-04 - val_mean_squared_error: 7.8131e-04 - val_psnr: 32.6395 - val_ssim: 0.9205\n",
      "Epoch 10/30\n",
      "1644/1644 [==============================] - 248s 151ms/step - loss: 7.5906e-04 - mean_squared_error: 7.5414e-04 - psnr: 32.5458 - ssim: 0.9305 - val_loss: 7.1164e-04 - val_mean_squared_error: 7.1123e-04 - val_psnr: 32.9153 - val_ssim: 0.9254\n",
      "Epoch 11/30\n",
      "1643/1644 [============================>.] - ETA: 0s - loss: 7.4483e-04 - mean_squared_error: 7.4497e-04 - psnr: 32.6102 - ssim: 0.9316\n",
      "Epoch 00011: ReduceLROnPlateau reducing learning rate to 8.000000525498762e-06.\n",
      "1644/1644 [==============================] - 248s 151ms/step - loss: 7.4468e-04 - mean_squared_error: 7.4482e-04 - psnr: 32.6109 - ssim: 0.9316 - val_loss: 7.4551e-04 - val_mean_squared_error: 7.4569e-04 - val_psnr: 32.7811 - val_ssim: 0.9324\n",
      "Epoch 12/30\n",
      "1644/1644 [==============================] - 248s 151ms/step - loss: 7.3803e-04 - mean_squared_error: 7.3331e-04 - psnr: 32.6971 - ssim: 0.9334 - val_loss: 6.8950e-04 - val_mean_squared_error: 6.8892e-04 - val_psnr: 33.0149 - val_ssim: 0.9354\n",
      "Epoch 13/30\n",
      "1643/1644 [============================>.] - ETA: 0s - loss: 7.2672e-04 - mean_squared_error: 7.2641e-04 - psnr: 32.7230 - ssim: 0.9332\n",
      "Epoch 00013: ReduceLROnPlateau reducing learning rate to 1.6000001778593287e-06.\n",
      "1644/1644 [==============================] - 248s 151ms/step - loss: 7.2659e-04 - mean_squared_error: 7.2628e-04 - psnr: 32.7236 - ssim: 0.9332 - val_loss: 6.9672e-04 - val_mean_squared_error: 6.9608e-04 - val_psnr: 33.0004 - val_ssim: 0.9380\n",
      "Epoch 14/30\n",
      "1644/1644 [==============================] - 248s 151ms/step - loss: 7.2998e-04 - mean_squared_error: 7.2457e-04 - psnr: 32.7519 - ssim: 0.9337 - val_loss: 6.9882e-04 - val_mean_squared_error: 6.9889e-04 - val_psnr: 32.9710 - val_ssim: 0.9363\n",
      "Epoch 15/30\n",
      "1643/1644 [============================>.] - ETA: 0s - loss: 7.3323e-04 - mean_squared_error: 7.3262e-04 - psnr: 32.7086 - ssim: 0.9332\n",
      "Epoch 00015: ReduceLROnPlateau reducing learning rate to 3.200000264769187e-07.\n",
      "1644/1644 [==============================] - 248s 151ms/step - loss: 7.3327e-04 - mean_squared_error: 7.3266e-04 - psnr: 32.7084 - ssim: 0.9332 - val_loss: 6.8792e-04 - val_mean_squared_error: 6.8856e-04 - val_psnr: 33.0634 - val_ssim: 0.9374\n",
      "Epoch 16/30\n",
      "1644/1644 [==============================] - 248s 151ms/step - loss: 7.4296e-04 - mean_squared_error: 7.4319e-04 - psnr: 32.6516 - ssim: 0.9331 - val_loss: 6.9163e-04 - val_mean_squared_error: 6.9248e-04 - val_psnr: 33.0160 - val_ssim: 0.9357\n",
      "Epoch 17/30\n",
      "1643/1644 [============================>.] - ETA: 0s - loss: 7.3866e-04 - mean_squared_error: 7.3682e-04 - psnr: 32.6849 - ssim: 0.9327\n",
      "Epoch 00017: ReduceLROnPlateau reducing learning rate to 6.400000529538374e-08.\n",
      "1644/1644 [==============================] - 248s 151ms/step - loss: 7.3873e-04 - mean_squared_error: 7.3690e-04 - psnr: 32.6845 - ssim: 0.9327 - val_loss: 6.9943e-04 - val_mean_squared_error: 6.9956e-04 - val_psnr: 32.9540 - val_ssim: 0.9352\n",
      "Epoch 18/30\n",
      "1643/1644 [============================>.] - ETA: 0s - loss: 7.3364e-04 - mean_squared_error: 7.3293e-04 - psnr: 32.6876 - ssim: 0.9333Restoring model weights from the end of the best epoch.\n",
      "1644/1644 [==============================] - 248s 151ms/step - loss: 7.3397e-04 - mean_squared_error: 7.3326e-04 - psnr: 32.6866 - ssim: 0.9333 - val_loss: 6.9417e-04 - val_mean_squared_error: 6.9392e-04 - val_psnr: 33.0126 - val_ssim: 0.9356\n",
      "Epoch 00018: early stopping\n",
      "##############################\n",
      "              PSNR         SSIM\n",
      "count  8039.000000  8039.000000\n",
      "mean     33.094521     0.938398\n",
      "std       3.423683     0.030109\n",
      "min      21.820662     0.767259\n",
      "25%      30.633141     0.924976\n",
      "50%      33.865040     0.948898\n",
      "75%      35.491459     0.959527\n",
      "max      40.954094     0.978395\n",
      "##############################\n"
     ]
    }
   ],
   "source": [
    "ae_slc_rb_mse_model_v1.compile(loss='mean_squared_error', optimizer = 'adam', metrics=metrics)\n",
    "ae_slc_rb_mse_v1_fitted = workbench.run(model=ae_slc_rb_mse_model_v1, epochs=30)"
   ]
  },
  {
   "cell_type": "markdown",
   "metadata": {},
   "source": [
    "#### Loss function: SSIM"
   ]
  },
  {
   "cell_type": "code",
   "execution_count": 20,
   "metadata": {},
   "outputs": [],
   "source": [
    "ae_slc_rb_ssim_model_v1 = AutoEncoder(\n",
    "    encoder=ResnetEncoderv1(nb_list=[3,4,6,3], feature_maps=8),\n",
    "    name=\"ae_slc_rb_ssim_v1\",\n",
    "    skip_long_connections_function=layers.add\n",
    ")(input_shape=workbench.image_shape)"
   ]
  },
  {
   "cell_type": "code",
   "execution_count": 21,
   "metadata": {},
   "outputs": [
    {
     "name": "stdout",
     "output_type": "stream",
     "text": [
      "WARNING:tensorflow:sample_weight modes were coerced from\n",
      "  ...\n",
      "    to  \n",
      "  ['...']\n",
      "WARNING:tensorflow:sample_weight modes were coerced from\n",
      "  ...\n",
      "    to  \n",
      "  ['...']\n",
      "Train for 1644 steps, validate for 348 steps\n",
      "Epoch 1/30\n",
      "1644/1644 [==============================] - 261s 159ms/step - loss: 0.1060 - mean_squared_error: 0.0183 - psnr: 24.6442 - ssim: 0.8940 - val_loss: 0.2018 - val_mean_squared_error: 0.0027 - val_psnr: 28.7273 - val_ssim: 0.7982\n",
      "Epoch 2/30\n",
      "1644/1644 [==============================] - 257s 156ms/step - loss: 0.0521 - mean_squared_error: 0.0012 - psnr: 30.4008 - ssim: 0.9479 - val_loss: 0.0566 - val_mean_squared_error: 0.0011 - val_psnr: 31.1913 - val_ssim: 0.9434\n",
      "Epoch 3/30\n",
      "1644/1644 [==============================] - 257s 156ms/step - loss: 0.0456 - mean_squared_error: 0.0011 - psnr: 31.1009 - ssim: 0.9544 - val_loss: 0.0690 - val_mean_squared_error: 0.0017 - val_psnr: 30.6539 - val_ssim: 0.9310\n",
      "Epoch 4/30\n",
      "1643/1644 [============================>.] - ETA: 0s - loss: 0.0420 - mean_squared_error: 0.0010 - psnr: 31.5243 - ssim: 0.9580\n",
      "Epoch 00004: ReduceLROnPlateau reducing learning rate to 0.00020000000949949026.\n",
      "1644/1644 [==============================] - 257s 156ms/step - loss: 0.0420 - mean_squared_error: 0.0010 - psnr: 31.5240 - ssim: 0.9580 - val_loss: 0.0744 - val_mean_squared_error: 0.0023 - val_psnr: 28.0860 - val_ssim: 0.9256\n",
      "Epoch 5/30\n",
      "1644/1644 [==============================] - 257s 156ms/step - loss: 0.0387 - mean_squared_error: 9.1659e-04 - psnr: 31.9498 - ssim: 0.9614 - val_loss: 0.0417 - val_mean_squared_error: 9.9974e-04 - val_psnr: 31.4699 - val_ssim: 0.9583\n",
      "Epoch 6/30\n",
      "1644/1644 [==============================] - 257s 156ms/step - loss: 0.0381 - mean_squared_error: 8.9637e-04 - psnr: 32.0554 - ssim: 0.9619 - val_loss: 0.0411 - val_mean_squared_error: 0.0011 - val_psnr: 32.3928 - val_ssim: 0.9590\n",
      "Epoch 7/30\n",
      "1644/1644 [==============================] - 257s 157ms/step - loss: 0.0374 - mean_squared_error: 8.7070e-04 - psnr: 32.1945 - ssim: 0.9626 - val_loss: 0.0367 - val_mean_squared_error: 7.5457e-04 - val_psnr: 33.1723 - val_ssim: 0.9633\n",
      "Epoch 8/30\n",
      "1644/1644 [==============================] - 257s 157ms/step - loss: 0.0370 - mean_squared_error: 8.6062e-04 - psnr: 32.2982 - ssim: 0.9630 - val_loss: 0.0385 - val_mean_squared_error: 9.4796e-04 - val_psnr: 32.0544 - val_ssim: 0.9615\n",
      "Epoch 9/30\n",
      "1643/1644 [============================>.] - ETA: 0s - loss: 0.0368 - mean_squared_error: 8.4472e-04 - psnr: 32.3351 - ssim: 0.9632\n",
      "Epoch 00009: ReduceLROnPlateau reducing learning rate to 4.0000001899898055e-05.\n",
      "1644/1644 [==============================] - 257s 157ms/step - loss: 0.0367 - mean_squared_error: 8.4450e-04 - psnr: 32.3362 - ssim: 0.9633 - val_loss: 0.0385 - val_mean_squared_error: 9.6139e-04 - val_psnr: 32.6660 - val_ssim: 0.9614\n",
      "Epoch 10/30\n",
      "1644/1644 [==============================] - 257s 157ms/step - loss: 0.0361 - mean_squared_error: 8.0440e-04 - psnr: 32.5621 - ssim: 0.9640 - val_loss: 0.0362 - val_mean_squared_error: 7.5959e-04 - val_psnr: 33.1627 - val_ssim: 0.9638\n",
      "Epoch 11/30\n",
      "1644/1644 [==============================] - 257s 157ms/step - loss: 0.0358 - mean_squared_error: 7.9543e-04 - psnr: 32.6136 - ssim: 0.9642 - val_loss: 0.0360 - val_mean_squared_error: 7.7605e-04 - val_psnr: 33.2054 - val_ssim: 0.9639\n",
      "Epoch 12/30\n",
      "1644/1644 [==============================] - 257s 156ms/step - loss: 0.0355 - mean_squared_error: 7.8584e-04 - psnr: 32.6887 - ssim: 0.9646 - val_loss: 0.0361 - val_mean_squared_error: 7.3059e-04 - val_psnr: 33.2895 - val_ssim: 0.9639\n",
      "Epoch 13/30\n",
      "1643/1644 [============================>.] - ETA: 0s - loss: 0.0357 - mean_squared_error: 7.8679e-04 - psnr: 32.6800 - ssim: 0.9644\n",
      "Epoch 00013: ReduceLROnPlateau reducing learning rate to 8.000000525498762e-06.\n",
      "1644/1644 [==============================] - 257s 157ms/step - loss: 0.0357 - mean_squared_error: 7.8677e-04 - psnr: 32.6806 - ssim: 0.9644 - val_loss: 0.0362 - val_mean_squared_error: 7.3677e-04 - val_psnr: 33.2878 - val_ssim: 0.9638\n",
      "Epoch 14/30\n",
      "1644/1644 [==============================] - 257s 157ms/step - loss: 0.0354 - mean_squared_error: 7.7106e-04 - psnr: 32.7722 - ssim: 0.9647 - val_loss: 0.0351 - val_mean_squared_error: 6.9019e-04 - val_psnr: 33.4559 - val_ssim: 0.9649\n",
      "Epoch 15/30\n",
      "1644/1644 [==============================] - 257s 157ms/step - loss: 0.0362 - mean_squared_error: 7.8919e-04 - psnr: 32.7078 - ssim: 0.9639 - val_loss: 0.0353 - val_mean_squared_error: 7.0097e-04 - val_psnr: 33.4448 - val_ssim: 0.9647\n",
      "Epoch 16/30\n",
      "1643/1644 [============================>.] - ETA: 0s - loss: 0.0354 - mean_squared_error: 7.6730e-04 - psnr: 32.8122 - ssim: 0.9646\n",
      "Epoch 00016: ReduceLROnPlateau reducing learning rate to 1.6000001778593287e-06.\n",
      "1644/1644 [==============================] - 257s 157ms/step - loss: 0.0354 - mean_squared_error: 7.6718e-04 - psnr: 32.8127 - ssim: 0.9646 - val_loss: 0.0353 - val_mean_squared_error: 7.0338e-04 - val_psnr: 33.3968 - val_ssim: 0.9647\n",
      "Epoch 17/30\n",
      "1643/1644 [============================>.] - ETA: 0s - loss: 0.0357 - mean_squared_error: 7.7565e-04 - psnr: 32.7858 - ssim: 0.9643Restoring model weights from the end of the best epoch.\n",
      "1644/1644 [==============================] - 257s 157ms/step - loss: 0.0357 - mean_squared_error: 7.7585e-04 - psnr: 32.7852 - ssim: 0.9643 - val_loss: 0.0353 - val_mean_squared_error: 6.9058e-04 - val_psnr: 33.4063 - val_ssim: 0.9647\n",
      "Epoch 00017: early stopping\n",
      "##############################\n",
      "              PSNR         SSIM\n",
      "count  8039.000000  8039.000000\n",
      "mean     33.405525     0.965126\n",
      "std       3.849031     0.028569\n",
      "min      16.780567     0.778854\n",
      "25%      30.534012     0.953320\n",
      "50%      34.361687     0.978204\n",
      "75%      36.005938     0.984409\n",
      "max      43.194000     0.993229\n",
      "##############################\n"
     ]
    }
   ],
   "source": [
    "ae_slc_rb_ssim_model_v1.compile(loss=ssim_loss, optimizer = 'adam', metrics=metrics)\n",
    "ae_slc_rb_ssim_v1_fitted = workbench.run(model=ae_slc_rb_ssim_model_v1, epochs=30)"
   ]
  },
  {
   "cell_type": "markdown",
   "metadata": {},
   "source": [
    "### AE + sLC + RB (v2)"
   ]
  },
  {
   "cell_type": "markdown",
   "metadata": {},
   "source": [
    "#### Loss function: MSE"
   ]
  },
  {
   "cell_type": "code",
   "execution_count": 22,
   "metadata": {},
   "outputs": [],
   "source": [
    "ae_slc_rb_mse_model_v2 = AutoEncoder(\n",
    "    encoder=ResnetEncoderv2(nb_list=[3,4,6,3], feature_maps=8),\n",
    "    name=\"ae_slc_rb_mse_v2\",\n",
    "    skip_long_connections_function=layers.add\n",
    ")(input_shape=workbench.image_shape)"
   ]
  },
  {
   "cell_type": "code",
   "execution_count": 23,
   "metadata": {},
   "outputs": [
    {
     "name": "stdout",
     "output_type": "stream",
     "text": [
      "WARNING:tensorflow:sample_weight modes were coerced from\n",
      "  ...\n",
      "    to  \n",
      "  ['...']\n",
      "WARNING:tensorflow:sample_weight modes were coerced from\n",
      "  ...\n",
      "    to  \n",
      "  ['...']\n",
      "Train for 1644 steps, validate for 348 steps\n",
      "Epoch 1/30\n",
      "1644/1644 [==============================] - 256s 156ms/step - loss: 0.0103 - mean_squared_error: 0.0103 - psnr: 24.6586 - ssim: 0.6084 - val_loss: 0.0030 - val_mean_squared_error: 0.0030 - val_psnr: 26.7546 - val_ssim: 0.6850\n",
      "Epoch 2/30\n",
      "1644/1644 [==============================] - 252s 154ms/step - loss: 0.0012 - mean_squared_error: 0.0012 - psnr: 30.9251 - ssim: 0.7909 - val_loss: 0.0012 - val_mean_squared_error: 0.0012 - val_psnr: 30.7690 - val_ssim: 0.8309\n",
      "Epoch 3/30\n",
      "1644/1644 [==============================] - 252s 154ms/step - loss: 9.3435e-04 - mean_squared_error: 9.3436e-04 - psnr: 32.1601 - ssim: 0.8842 - val_loss: 0.0013 - val_mean_squared_error: 0.0013 - val_psnr: 32.5138 - val_ssim: 0.8977\n",
      "Epoch 4/30\n",
      "1644/1644 [==============================] - 252s 154ms/step - loss: 8.5520e-04 - mean_squared_error: 8.5542e-04 - psnr: 32.6992 - ssim: 0.9167 - val_loss: 0.0010 - val_mean_squared_error: 0.0010 - val_psnr: 33.5250 - val_ssim: 0.8649\n",
      "Epoch 5/30\n",
      "1644/1644 [==============================] - 252s 154ms/step - loss: 7.8899e-04 - mean_squared_error: 7.8832e-04 - psnr: 33.2247 - ssim: 0.9300 - val_loss: 8.8722e-04 - val_mean_squared_error: 8.8622e-04 - val_psnr: 32.8660 - val_ssim: 0.8469\n",
      "Epoch 6/30\n",
      "1644/1644 [==============================] - 257s 156ms/step - loss: 7.3479e-04 - mean_squared_error: 7.3370e-04 - psnr: 33.7134 - ssim: 0.9380 - val_loss: 9.3222e-04 - val_mean_squared_error: 9.3222e-04 - val_psnr: 34.0183 - val_ssim: 0.9001\n",
      "Epoch 7/30\n",
      "1643/1644 [============================>.] - ETA: 0s - loss: 7.1667e-04 - mean_squared_error: 7.1493e-04 - psnr: 33.9024 - ssim: 0.9417\n",
      "Epoch 00007: ReduceLROnPlateau reducing learning rate to 0.00020000000949949026.\n",
      "1644/1644 [==============================] - 256s 156ms/step - loss: 7.1671e-04 - mean_squared_error: 7.1497e-04 - psnr: 33.9018 - ssim: 0.9417 - val_loss: 8.0470e-04 - val_mean_squared_error: 8.0485e-04 - val_psnr: 33.1589 - val_ssim: 0.9456\n",
      "Epoch 8/30\n",
      "1644/1644 [==============================] - 257s 156ms/step - loss: 6.3021e-04 - mean_squared_error: 6.3007e-04 - psnr: 34.5091 - ssim: 0.9427 - val_loss: 5.8416e-04 - val_mean_squared_error: 5.8467e-04 - val_psnr: 35.7559 - val_ssim: 0.9415\n",
      "Epoch 9/30\n",
      "1644/1644 [==============================] - 257s 156ms/step - loss: 6.1955e-04 - mean_squared_error: 6.1877e-04 - psnr: 34.6236 - ssim: 0.9421 - val_loss: 6.4743e-04 - val_mean_squared_error: 6.4835e-04 - val_psnr: 34.5767 - val_ssim: 0.9315\n",
      "Epoch 10/30\n",
      "1643/1644 [============================>.] - ETA: 0s - loss: 6.1047e-04 - mean_squared_error: 6.1036e-04 - psnr: 34.7347 - ssim: 0.9434\n",
      "Epoch 00010: ReduceLROnPlateau reducing learning rate to 4.0000001899898055e-05.\n",
      "1644/1644 [==============================] - 257s 156ms/step - loss: 6.1038e-04 - mean_squared_error: 6.1027e-04 - psnr: 34.7346 - ssim: 0.9434 - val_loss: 5.6675e-04 - val_mean_squared_error: 5.6662e-04 - val_psnr: 35.8499 - val_ssim: 0.9358\n",
      "Epoch 11/30\n",
      "1644/1644 [==============================] - 257s 156ms/step - loss: 5.7861e-04 - mean_squared_error: 5.7840e-04 - psnr: 35.0056 - ssim: 0.9395 - val_loss: 5.0671e-04 - val_mean_squared_error: 5.0662e-04 - val_psnr: 36.4367 - val_ssim: 0.9395\n",
      "Epoch 12/30\n",
      "1643/1644 [============================>.] - ETA: 0s - loss: 5.7197e-04 - mean_squared_error: 5.7171e-04 - psnr: 35.1611 - ssim: 0.9373\n",
      "Epoch 00012: ReduceLROnPlateau reducing learning rate to 8.000000525498762e-06.\n",
      "1644/1644 [==============================] - 257s 156ms/step - loss: 5.7205e-04 - mean_squared_error: 5.7179e-04 - psnr: 35.1592 - ssim: 0.9373 - val_loss: 4.9815e-04 - val_mean_squared_error: 4.9791e-04 - val_psnr: 36.4640 - val_ssim: 0.9459\n",
      "Epoch 13/30\n",
      "1644/1644 [==============================] - 257s 156ms/step - loss: 5.6118e-04 - mean_squared_error: 5.6005e-04 - psnr: 35.3054 - ssim: 0.9370 - val_loss: 4.8884e-04 - val_mean_squared_error: 4.8966e-04 - val_psnr: 36.4963 - val_ssim: 0.9424\n",
      "Epoch 14/30\n",
      "1643/1644 [============================>.] - ETA: 0s - loss: 5.5004e-04 - mean_squared_error: 5.5022e-04 - psnr: 35.3701 - ssim: 0.9383\n",
      "Epoch 00014: ReduceLROnPlateau reducing learning rate to 1.6000001778593287e-06.\n",
      "1644/1644 [==============================] - 257s 156ms/step - loss: 5.5006e-04 - mean_squared_error: 5.5023e-04 - psnr: 35.3698 - ssim: 0.9383 - val_loss: 4.9755e-04 - val_mean_squared_error: 4.9759e-04 - val_psnr: 36.5203 - val_ssim: 0.9458\n",
      "Epoch 15/30\n",
      "1644/1644 [==============================] - 257s 156ms/step - loss: 5.4839e-04 - mean_squared_error: 5.4864e-04 - psnr: 35.4160 - ssim: 0.9381 - val_loss: 5.2134e-04 - val_mean_squared_error: 5.2112e-04 - val_psnr: 36.3850 - val_ssim: 0.9449\n",
      "Epoch 16/30\n",
      "1643/1644 [============================>.] - ETA: 0s - loss: 5.5036e-04 - mean_squared_error: 5.4910e-04 - psnr: 35.4431 - ssim: 0.9386\n",
      "Epoch 00016: ReduceLROnPlateau reducing learning rate to 3.200000264769187e-07.\n",
      "Restoring model weights from the end of the best epoch.\n",
      "1644/1644 [==============================] - 257s 156ms/step - loss: 5.5031e-04 - mean_squared_error: 5.4905e-04 - psnr: 35.4441 - ssim: 0.9386 - val_loss: 4.8996e-04 - val_mean_squared_error: 4.9026e-04 - val_psnr: 36.5281 - val_ssim: 0.9453\n",
      "Epoch 00016: early stopping\n",
      "##############################\n",
      "              PSNR         SSIM\n",
      "count  8039.000000  8039.000000\n",
      "mean     36.482321     0.943006\n",
      "std       5.748856     0.034404\n",
      "min      18.473732     0.762357\n",
      "25%      31.313411     0.927020\n",
      "50%      37.048008     0.957721\n",
      "75%      42.359699     0.966729\n",
      "max      45.713120     0.985082\n",
      "##############################\n"
     ]
    }
   ],
   "source": [
    "ae_slc_rb_mse_model_v2.compile(loss='mean_squared_error', optimizer = 'adam', metrics=metrics)\n",
    "ae_slc_rb_mse_v2_fitted = workbench.run(model=ae_slc_rb_mse_model_v2, epochs=30)"
   ]
  },
  {
   "cell_type": "markdown",
   "metadata": {},
   "source": [
    "#### Loss function: SSIM"
   ]
  },
  {
   "cell_type": "code",
   "execution_count": 24,
   "metadata": {},
   "outputs": [],
   "source": [
    "ae_slc_rb_ssim_model_v2 = AutoEncoder(\n",
    "    encoder=ResnetEncoderv2(nb_list=[3,4,6,3], feature_maps=8),\n",
    "    name=\"ae_slc_rb_ssim_v2\",\n",
    "    skip_long_connections_function=layers.add\n",
    ")(input_shape=workbench.image_shape)"
   ]
  },
  {
   "cell_type": "code",
   "execution_count": 25,
   "metadata": {},
   "outputs": [
    {
     "name": "stdout",
     "output_type": "stream",
     "text": [
      "WARNING:tensorflow:sample_weight modes were coerced from\n",
      "  ...\n",
      "    to  \n",
      "  ['...']\n",
      "WARNING:tensorflow:sample_weight modes were coerced from\n",
      "  ...\n",
      "    to  \n",
      "  ['...']\n",
      "Train for 1644 steps, validate for 348 steps\n",
      "Epoch 1/30\n",
      "1644/1644 [==============================] - 266s 162ms/step - loss: 0.0862 - mean_squared_error: 0.0201 - psnr: 26.1280 - ssim: 0.9138 - val_loss: 0.1208 - val_mean_squared_error: 0.0023 - val_psnr: 31.0724 - val_ssim: 0.8792\n",
      "Epoch 2/30\n",
      "1644/1644 [==============================] - 263s 160ms/step - loss: 0.0386 - mean_squared_error: 0.0016 - psnr: 32.1801 - ssim: 0.9615 - val_loss: 0.0396 - val_mean_squared_error: 0.0011 - val_psnr: 33.5468 - val_ssim: 0.9604\n",
      "Epoch 3/30\n",
      "1644/1644 [==============================] - 263s 160ms/step - loss: 0.0321 - mean_squared_error: 8.6932e-04 - psnr: 33.5215 - ssim: 0.9678 - val_loss: 0.0309 - val_mean_squared_error: 7.9296e-04 - val_psnr: 33.7060 - val_ssim: 0.9691\n",
      "Epoch 4/30\n",
      "1644/1644 [==============================] - 263s 160ms/step - loss: 0.0295 - mean_squared_error: 8.0720e-04 - psnr: 33.9677 - ssim: 0.9706 - val_loss: 0.0312 - val_mean_squared_error: 7.8669e-04 - val_psnr: 35.7374 - val_ssim: 0.9688\n",
      "Epoch 5/30\n",
      "1644/1644 [==============================] - 263s 160ms/step - loss: 0.0278 - mean_squared_error: 7.7919e-04 - psnr: 34.1270 - ssim: 0.9722 - val_loss: 0.0274 - val_mean_squared_error: 6.5225e-04 - val_psnr: 36.2185 - val_ssim: 0.9726\n",
      "Epoch 6/30\n",
      "1644/1644 [==============================] - 263s 160ms/step - loss: 0.0266 - mean_squared_error: 7.3210e-04 - psnr: 34.4661 - ssim: 0.9734 - val_loss: 0.0266 - val_mean_squared_error: 6.1749e-04 - val_psnr: 35.5402 - val_ssim: 0.9734\n",
      "Epoch 7/30\n",
      "1644/1644 [==============================] - 263s 160ms/step - loss: 0.0255 - mean_squared_error: 6.9524e-04 - psnr: 34.6761 - ssim: 0.9745 - val_loss: 0.0542 - val_mean_squared_error: 0.0019 - val_psnr: 35.3064 - val_ssim: 0.9457\n",
      "Epoch 8/30\n",
      "1643/1644 [============================>.] - ETA: 0s - loss: 0.0249 - mean_squared_error: 6.7266e-04 - psnr: 34.9473 - ssim: 0.9752\n",
      "Epoch 00008: ReduceLROnPlateau reducing learning rate to 0.00020000000949949026.\n",
      "1644/1644 [==============================] - 263s 160ms/step - loss: 0.0249 - mean_squared_error: 6.7242e-04 - psnr: 34.9500 - ssim: 0.9752 - val_loss: 0.0304 - val_mean_squared_error: 0.0015 - val_psnr: 30.5212 - val_ssim: 0.9696\n",
      "Epoch 9/30\n",
      "1644/1644 [==============================] - 263s 160ms/step - loss: 0.0227 - mean_squared_error: 5.9254e-04 - psnr: 35.5999 - ssim: 0.9775 - val_loss: 0.0222 - val_mean_squared_error: 5.4255e-04 - val_psnr: 35.9224 - val_ssim: 0.9777\n",
      "Epoch 10/30\n",
      "1644/1644 [==============================] - 263s 160ms/step - loss: 0.0224 - mean_squared_error: 5.7105e-04 - psnr: 35.7605 - ssim: 0.9776 - val_loss: 0.0226 - val_mean_squared_error: 5.6013e-04 - val_psnr: 37.5830 - val_ssim: 0.9774\n",
      "Epoch 11/30\n",
      "1643/1644 [============================>.] - ETA: 0s - loss: 0.0222 - mean_squared_error: 5.6498e-04 - psnr: 35.8786 - ssim: 0.9779\n",
      "Epoch 00011: ReduceLROnPlateau reducing learning rate to 4.0000001899898055e-05.\n",
      "1644/1644 [==============================] - 263s 160ms/step - loss: 0.0222 - mean_squared_error: 5.6491e-04 - psnr: 35.8784 - ssim: 0.9779 - val_loss: 0.0223 - val_mean_squared_error: 4.7948e-04 - val_psnr: 37.5070 - val_ssim: 0.9777\n",
      "Epoch 12/30\n",
      "1644/1644 [==============================] - 263s 160ms/step - loss: 0.0216 - mean_squared_error: 5.4353e-04 - psnr: 36.0877 - ssim: 0.9784 - val_loss: 0.0211 - val_mean_squared_error: 4.6504e-04 - val_psnr: 38.1298 - val_ssim: 0.9789\n",
      "Epoch 13/30\n",
      "1644/1644 [==============================] - 263s 160ms/step - loss: 0.0214 - mean_squared_error: 5.2523e-04 - psnr: 36.4123 - ssim: 0.9785 - val_loss: 0.0213 - val_mean_squared_error: 5.2012e-04 - val_psnr: 37.9136 - val_ssim: 0.9787\n",
      "Epoch 14/30\n",
      "1643/1644 [============================>.] - ETA: 0s - loss: 0.0211 - mean_squared_error: 5.2064e-04 - psnr: 36.5087 - ssim: 0.9789\n",
      "Epoch 00014: ReduceLROnPlateau reducing learning rate to 8.000000525498762e-06.\n",
      "1644/1644 [==============================] - 263s 160ms/step - loss: 0.0211 - mean_squared_error: 5.2051e-04 - psnr: 36.5098 - ssim: 0.9789 - val_loss: 0.0212 - val_mean_squared_error: 5.0198e-04 - val_psnr: 38.1763 - val_ssim: 0.9788\n",
      "Epoch 15/30\n",
      "1643/1644 [============================>.] - ETA: 0s - loss: 0.0213 - mean_squared_error: 5.2258e-04 - psnr: 36.5325 - ssim: 0.9787Restoring model weights from the end of the best epoch.\n",
      "1644/1644 [==============================] - 263s 160ms/step - loss: 0.0213 - mean_squared_error: 5.2266e-04 - psnr: 36.5309 - ssim: 0.9787 - val_loss: 0.0217 - val_mean_squared_error: 4.7210e-04 - val_psnr: 38.0612 - val_ssim: 0.9783\n",
      "Epoch 00015: early stopping\n",
      "##############################\n",
      "              PSNR         SSIM\n",
      "count  8039.000000  8039.000000\n",
      "mean     38.051922     0.978955\n",
      "std       6.848068     0.026067\n",
      "min      16.545542     0.757974\n",
      "25%      31.659739     0.965247\n",
      "50%      39.240658     0.992999\n",
      "75%      44.412764     0.998669\n",
      "max      50.300884     0.999257\n",
      "##############################\n"
     ]
    }
   ],
   "source": [
    "ae_slc_rb_ssim_model_v2.compile(loss=ssim_loss, optimizer = 'adam', metrics=metrics)\n",
    "ae_slc_rb_ssim_v2_fitted = workbench.run(model=ae_slc_rb_ssim_model_v2, epochs=30)"
   ]
  },
  {
   "cell_type": "code",
   "execution_count": null,
   "metadata": {},
   "outputs": [],
   "source": []
  }
 ],
 "metadata": {
  "kernelspec": {
   "display_name": "data-science",
   "language": "python",
   "name": "data-science"
  },
  "language_info": {
   "codemirror_mode": {
    "name": "ipython",
    "version": 3
   },
   "file_extension": ".py",
   "mimetype": "text/x-python",
   "name": "python",
   "nbconvert_exporter": "python",
   "pygments_lexer": "ipython3",
   "version": "3.7.6"
  }
 },
 "nbformat": 4,
 "nbformat_minor": 4
}
